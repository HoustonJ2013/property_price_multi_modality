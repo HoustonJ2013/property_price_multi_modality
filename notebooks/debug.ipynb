{
 "cells": [
  {
   "cell_type": "code",
   "execution_count": 21,
   "id": "1f900340-b37d-45a4-9a8b-1ee4a6878531",
   "metadata": {},
   "outputs": [],
   "source": [
    "import torch\n",
    "from torch.autograd import Variable\n",
    "import shap\n",
    "import numpy\n",
    "import pandas\n",
    "import argparse\n",
    "import os \n",
    "from typing import Any, Dict, List\n",
    "import pandas as pd\n",
    "from torch.nn import MSELoss, L1Loss\n",
    "import numpy as np\n",
    "import json \n",
    "import random\n",
    "from tqdm import tqdm\n",
    "from pathlib import Path\n",
    "from scipy.stats import binned_statistic\n",
    "import matplotlib.pylab as plt\n",
    "from torch_frame.data.stats import StatType, compute_col_stats\n",
    "\n",
    "import torch\n",
    "\n",
    "import torch_frame\n",
    "from torch.nn import Linear, Module\n",
    "from torch_frame.data import Dataset\n",
    "from torch_frame.data import DataLoader\n",
    "from torch_frame import TensorFrame, stype\n",
    "from torch_frame.nn.models.ft_transformer import FTTransformer\n",
    "from torch.nn import Linear, Module, ModuleList\n",
    "from typing import Any, Dict, List\n",
    "from torch import Tensor\n",
    "import torch \n",
    "\n",
    "import torch_frame\n",
    "from torch_frame import TensorFrame, stype\n",
    "from torch_frame.data.stats import StatType\n",
    "from torch_frame.nn.conv import TabTransformerConv, FTTransformerConvs\n",
    "from torch_frame.nn.encoder import (\n",
    "    EmbeddingEncoder,\n",
    "    LinearEncoder,\n",
    "    LinearEmbeddingEncoder,\n",
    "    StypeWiseFeatureEncoder,\n",
    "    MultiCategoricalEmbeddingEncoder,\n",
    "    TimestampEncoder,\n",
    ")\n",
    "\n",
    "import sys\n",
    "sys.path.append('../modeling/')\n",
    "\n",
    "from model import TabTransformer, FTTransformer, stype_encoder_dict_2, stype_encoder_dict_3\n",
    "from train import get_args_parser"
   ]
  },
  {
   "cell_type": "code",
   "execution_count": 2,
   "id": "db583768-79f0-471b-831d-3ee5d7a0ae28",
   "metadata": {},
   "outputs": [],
   "source": [
    "# model_weight = torch.load(\"../model_checkpoints/tabformer_t41a2/model_epoch_010.pth\")\n",
    "# model_weight"
   ]
  },
  {
   "cell_type": "code",
   "execution_count": 3,
   "id": "e48f6410-4bc8-4b11-ac4a-d81139a77f6a",
   "metadata": {},
   "outputs": [],
   "source": [
    "# model_weight = torch.load(\"../model_checkpoints/tabformer_t41a1/model_epoch_020.pth\")\n",
    "# model_weight"
   ]
  },
  {
   "cell_type": "code",
   "execution_count": 44,
   "id": "7c7597f8-e4c2-4123-9de0-aa8e2d9035e8",
   "metadata": {},
   "outputs": [],
   "source": [
    "target = \"price\"\n",
    "dense_features = [\"LON\", \n",
    "                \"LAT\", \n",
    "                \"building_sqft\", \n",
    "                \"Lot Size\", \n",
    "                \"Year Built\", \n",
    "                \"Garage Number\", \n",
    "                \"Bedrooms\", \n",
    "                \"Baths\", \n",
    "                \"Maintenance Fee\", \n",
    "                \"Tax Rate\", \n",
    "                \"Recent Market Value\", \n",
    "                \"Recent Tax Value\", \n",
    "                 \"index\"]\n",
    "cate = [\"status\", \"Property Type\", \"County\", \"Private Pool\", \"Area Pool\"]\n",
    "time_col = [\"date\"]\n",
    "cate_multi = [\"Foundation_multiclass\", \"Garage Types_multiclass\", \n",
    "            \"Roof Type_multiclass\", \"Pool_feature_multiclass\", \"floor_type_multiclass\", \n",
    "            \"finance_option_multiclass\", \"Exterior Type_multiclass\", \"Style_multiclass\"]\n",
    "\n",
    "add_numerial_features = [\"elementary_school_star\", \"middle_school_star\", \"high_school_star\"]\n",
    "add_cate_multi = [\"school_org\"] # [\"school_names\", \"school_grades\", \"school_org\"]\n",
    "text_embedding_col = [\"general_desc_roberta_mean_features\"]\n",
    "img_embedding_col = [\"img_emb\"]\n",
    "raw_df = pd.read_pickle(\"../data/property_structured_12162024.pkl\").reset_index(drop=True)\n",
    "raw_df[\"index\"] = np.arange(len(raw_df))\n",
    "raw_df[\"date\"] = raw_df[\"date\"].apply(lambda x: x.replace(\"_\", \"-\"))\n",
    "dense_features = dense_features + add_numerial_features\n",
    "cate_multi = cate_multi + add_cate_multi\n",
    "\n",
    "for feat in dense_features:\n",
    "    raw_df[feat] = raw_df[feat].fillna(raw_df[feat].mean())\n",
    "\n",
    "col_to_stype = {}\n",
    "col_to_stype.update({d: stype.numerical for d in dense_features})\n",
    "col_to_stype.update({d: stype.timestamp for d in time_col})\n",
    "col_to_stype.update({target: stype.numerical})\n",
    "col_to_stype.update({d: stype.categorical for d in cate})\n",
    "col_to_stype.update({d: stype.multicategorical for d in cate_multi})\n",
    "raw_df = raw_df[dense_features + cate + cate_multi + time_col + [target]]\n",
    "stype_encoder_dict = stype_encoder_dict_2\n",
    "\n",
    "for col in cate_multi:\n",
    "    raw_df[col] = raw_df[col].apply(lambda d: d if isinstance(d, list) else [])\n",
    "\n",
    "dataset = Dataset(\n",
    "    raw_df, \n",
    "    col_to_stype=col_to_stype,\n",
    "    target_col=\"price\"\n",
    ")\n",
    "dataset.materialize()\n",
    "torch.manual_seed(10)\n",
    "dataset.shuffle()\n",
    "train_dataset, val_dataset = dataset[:0.8], dataset[0.80:]"
   ]
  },
  {
   "cell_type": "code",
   "execution_count": 14,
   "id": "8ea17b8f-21a1-4181-8aad-e8606bf0514d",
   "metadata": {},
   "outputs": [
    {
     "name": "stdout",
     "output_type": "stream",
     "text": [
      "-96.126886 47.20818\n",
      "1\n"
     ]
    },
    {
     "data": {
      "text/plain": [
       "(<Axes: >,)"
      ]
     },
     "execution_count": 14,
     "metadata": {},
     "output_type": "execute_result"
    },
    {
     "data": {
      "image/png": "[encoded data removed]",
      "text/plain": [
       "<Figure size 640x480 with 1 Axes>"
      ]
     },
     "metadata": {},
     "output_type": "display_data"
    }
   ],
   "source": [
    "print(raw_df[\"LON\"].min(), raw_df[\"LON\"].max())\n",
    "print(np.sum(raw_df[\"LON\"] < 0))\n",
    "raw_df[\"LON\"].hist(), "
   ]
  },
  {
   "cell_type": "code",
   "execution_count": 16,
   "id": "bf8a5328-1977-47c3-9fd7-1dff9707600d",
   "metadata": {},
   "outputs": [
    {
     "data": {
      "text/html": [
       "<div>\n",
       "<style scoped>\n",
       "    .dataframe tbody tr th:only-of-type {\n",
       "        vertical-align: middle;\n",
       "    }\n",
       "\n",
       "    .dataframe tbody tr th {\n",
       "        vertical-align: top;\n",
       "    }\n",
       "\n",
       "    .dataframe thead th {\n",
       "        text-align: right;\n",
       "    }\n",
       "</style>\n",
       "<table border=\"1\" class=\"dataframe\">\n",
       "  <thead>\n",
       "    <tr style=\"text-align: right;\">\n",
       "      <th></th>\n",
       "      <th>LON</th>\n",
       "      <th>LAT</th>\n",
       "    </tr>\n",
       "  </thead>\n",
       "  <tbody>\n",
       "    <tr>\n",
       "      <th>3627</th>\n",
       "      <td>29.394620</td>\n",
       "      <td>95.137700</td>\n",
       "    </tr>\n",
       "    <tr>\n",
       "      <th>8769</th>\n",
       "      <td>29.804015</td>\n",
       "      <td>95.854015</td>\n",
       "    </tr>\n",
       "    <tr>\n",
       "      <th>18608</th>\n",
       "      <td>29.831090</td>\n",
       "      <td>95.461080</td>\n",
       "    </tr>\n",
       "    <tr>\n",
       "      <th>29888</th>\n",
       "      <td>30.644170</td>\n",
       "      <td>97.817600</td>\n",
       "    </tr>\n",
       "    <tr>\n",
       "      <th>30532</th>\n",
       "      <td>33.283723</td>\n",
       "      <td>96.884628</td>\n",
       "    </tr>\n",
       "    <tr>\n",
       "      <th>48999</th>\n",
       "      <td>33.251870</td>\n",
       "      <td>96.939500</td>\n",
       "    </tr>\n",
       "    <tr>\n",
       "      <th>53271</th>\n",
       "      <td>29.892296</td>\n",
       "      <td>29.892296</td>\n",
       "    </tr>\n",
       "    <tr>\n",
       "      <th>72655</th>\n",
       "      <td>30.145396</td>\n",
       "      <td>97.706595</td>\n",
       "    </tr>\n",
       "    <tr>\n",
       "      <th>91047</th>\n",
       "      <td>30.336841</td>\n",
       "      <td>97.382548</td>\n",
       "    </tr>\n",
       "    <tr>\n",
       "      <th>91721</th>\n",
       "      <td>33.283400</td>\n",
       "      <td>97.158820</td>\n",
       "    </tr>\n",
       "    <tr>\n",
       "      <th>94504</th>\n",
       "      <td>32.417770</td>\n",
       "      <td>96.729696</td>\n",
       "    </tr>\n",
       "    <tr>\n",
       "      <th>117036</th>\n",
       "      <td>30.022000</td>\n",
       "      <td>95.103600</td>\n",
       "    </tr>\n",
       "    <tr>\n",
       "      <th>128440</th>\n",
       "      <td>32.420000</td>\n",
       "      <td>96.730500</td>\n",
       "    </tr>\n",
       "    <tr>\n",
       "      <th>149205</th>\n",
       "      <td>30.354890</td>\n",
       "      <td>98.023210</td>\n",
       "    </tr>\n",
       "    <tr>\n",
       "      <th>149225</th>\n",
       "      <td>1.000000</td>\n",
       "      <td>1.000000</td>\n",
       "    </tr>\n",
       "    <tr>\n",
       "      <th>151436</th>\n",
       "      <td>33.027828</td>\n",
       "      <td>96.410619</td>\n",
       "    </tr>\n",
       "    <tr>\n",
       "      <th>160107</th>\n",
       "      <td>33.250020</td>\n",
       "      <td>96.951870</td>\n",
       "    </tr>\n",
       "    <tr>\n",
       "      <th>169441</th>\n",
       "      <td>29.543800</td>\n",
       "      <td>95.403000</td>\n",
       "    </tr>\n",
       "    <tr>\n",
       "      <th>172938</th>\n",
       "      <td>33.007320</td>\n",
       "      <td>96.447830</td>\n",
       "    </tr>\n",
       "    <tr>\n",
       "      <th>203313</th>\n",
       "      <td>33.251870</td>\n",
       "      <td>96.939500</td>\n",
       "    </tr>\n",
       "    <tr>\n",
       "      <th>205582</th>\n",
       "      <td>32.901360</td>\n",
       "      <td>96.533440</td>\n",
       "    </tr>\n",
       "    <tr>\n",
       "      <th>211325</th>\n",
       "      <td>33.266400</td>\n",
       "      <td>96.890410</td>\n",
       "    </tr>\n",
       "  </tbody>\n",
       "</table>\n",
       "</div>"
      ],
      "text/plain": [
       "              LON        LAT\n",
       "3627    29.394620  95.137700\n",
       "8769    29.804015  95.854015\n",
       "18608   29.831090  95.461080\n",
       "29888   30.644170  97.817600\n",
       "30532   33.283723  96.884628\n",
       "48999   33.251870  96.939500\n",
       "53271   29.892296  29.892296\n",
       "72655   30.145396  97.706595\n",
       "91047   30.336841  97.382548\n",
       "91721   33.283400  97.158820\n",
       "94504   32.417770  96.729696\n",
       "117036  30.022000  95.103600\n",
       "128440  32.420000  96.730500\n",
       "149205  30.354890  98.023210\n",
       "149225   1.000000   1.000000\n",
       "151436  33.027828  96.410619\n",
       "160107  33.250020  96.951870\n",
       "169441  29.543800  95.403000\n",
       "172938  33.007320  96.447830\n",
       "203313  33.251870  96.939500\n",
       "205582  32.901360  96.533440\n",
       "211325  33.266400  96.890410"
      ]
     },
     "execution_count": 16,
     "metadata": {},
     "output_type": "execute_result"
    }
   ],
   "source": [
    "raw_df[raw_df[\"LAT\"] > 0][[\"LON\", \"LAT\"]]"
   ]
  },
  {
   "cell_type": "code",
   "execution_count": 15,
   "id": "06fdf8ec-ea81-4e7d-b0a6-c029ec14dddd",
   "metadata": {},
   "outputs": [
    {
     "name": "stdout",
     "output_type": "stream",
     "text": [
      "-116.75112 98.02321\n",
      "22\n"
     ]
    },
    {
     "data": {
      "text/plain": [
       "<Axes: >"
      ]
     },
     "execution_count": 15,
     "metadata": {},
     "output_type": "execute_result"
    },
    {
     "data": {
      "image/png": "[encoded data removed]",
      "text/plain": [
       "<Figure size 640x480 with 1 Axes>"
      ]
     },
     "metadata": {},
     "output_type": "display_data"
    }
   ],
   "source": [
    "print(raw_df[\"LAT\"].min(), raw_df[\"LAT\"].max())\n",
    "print(np.sum(raw_df[\"LAT\"] > 0))\n",
    "raw_df[\"LAT\"].hist()"
   ]
  },
  {
   "cell_type": "code",
   "execution_count": 5,
   "id": "bd6d762c-d6a4-474a-b08f-e802221018f1",
   "metadata": {},
   "outputs": [
    {
     "data": {
      "text/plain": [
       "tensor([[2023,   10,    4,    6,    0,    0,    0]])"
      ]
     },
     "execution_count": 5,
     "metadata": {},
     "output_type": "execute_result"
    }
   ],
   "source": [
    "tf = train_dataset.tensor_frame\n",
    "stype = tf.stypes[-1]\n",
    "tf.feat_dict[stype][0]"
   ]
  },
  {
   "cell_type": "code",
   "execution_count": 45,
   "id": "bbd4a53e-dd19-4ac4-b07b-2f79c2c4f2a5",
   "metadata": {},
   "outputs": [
    {
     "data": {
      "text/plain": [
       "<stype.numerical: 'numerical'>"
      ]
     },
     "execution_count": 45,
     "metadata": {},
     "output_type": "execute_result"
    }
   ],
   "source": [
    "from copy import deepcopy \n",
    "col_to_stype[\"LON\"]"
   ]
  },
  {
   "cell_type": "code",
   "execution_count": 60,
   "id": "49535788-3d16-4a28-97dd-2550e17f6b93",
   "metadata": {},
   "outputs": [],
   "source": [
    "col_stats = deepcopy(train_dataset._col_stats)\n",
    "del col_stats[\"LON\"][StatType.stats_for_stype(col_to_stype[\"LON\"])[0]]"
   ]
  },
  {
   "cell_type": "code",
   "execution_count": 61,
   "id": "9fcf6f02-f059-472f-bb47-f8ef7e43da33",
   "metadata": {},
   "outputs": [
    {
     "data": {
      "text/plain": [
       "{<StatType.STD: 'STD'>: 1.446449760073221,\n",
       " <StatType.QUANTILES: 'QUANTILES'>: [-96.126886,\n",
       "  29.74322875,\n",
       "  30.1612985,\n",
       "  32.69397725,\n",
       "  47.20818]}"
      ]
     },
     "execution_count": 61,
     "metadata": {},
     "output_type": "execute_result"
    }
   ],
   "source": [
    "col_stats[\"LON\"]"
   ]
  },
  {
   "cell_type": "code",
   "execution_count": 69,
   "id": "c9c252a3-b8de-4aa2-bdd9-7a7baa70496a",
   "metadata": {},
   "outputs": [],
   "source": [
    "# for col_, stype_ in col_to_stype.items():\n",
    "#     assert col_ in col_stats, f\"{col_} is not specified in the provided col_stats\"\n",
    "#     stats_ = col_stats[col_]\n",
    "#     assert np.all([key_ in stats_ for key_ in StatType.stats_for_stype(stype_)]), \\\n",
    "#     f\"not all required stats are calculated in the provided col_stats for {col}\"\n",
    "#     # assert np.any([key_ in stats_ for key_ in StatType.stats_for_stype(stype_)]), \"test\"\n",
    "    "
   ]
  },
  {
   "cell_type": "code",
   "execution_count": 68,
   "id": "fc9a2896-9143-4ddb-986c-713f0d1d60eb",
   "metadata": {},
   "outputs": [
    {
     "data": {
      "text/plain": [
       "False"
      ]
     },
     "execution_count": 68,
     "metadata": {},
     "output_type": "execute_result"
    }
   ],
   "source": [
    "stats_ = col_stats[\"LON\"]\n",
    "stype_ = col_to_stype[\"LON\"]\n",
    "all([key_ in stats_ for key_ in StatType.stats_for_stype(stype_)])"
   ]
  },
  {
   "cell_type": "code",
   "execution_count": 4,
   "id": "f1844e75-3ee7-4943-be3d-b6efd6dc6f9f",
   "metadata": {},
   "outputs": [
    {
     "name": "stdout",
     "output_type": "stream",
     "text": [
      "dictionary saved successfully to file\n"
     ]
    }
   ],
   "source": [
    "import pickle\n",
    "with open('../model_checkpoints/tabformer_t32c/col_to_stype.pkl', 'wb') as fp:\n",
    "    pickle.dump(col_to_stype, fp)\n",
    "    print('dictionary saved successfully to file')"
   ]
  },
  {
   "cell_type": "code",
   "execution_count": 3,
   "id": "0f339716-6641-4035-bc46-1ac08682a756",
   "metadata": {},
   "outputs": [
    {
     "data": {
      "text/plain": [
       "TensorFrame(\n",
       "  num_cols=30,\n",
       "  num_rows=169568,\n",
       "  numerical (15): ['Baths', 'Bedrooms', 'Garage Number', 'LAT', 'LON', 'Lot Size', 'Maintenance Fee', 'Recent Market Value', 'Recent Tax Value', 'Tax Rate', 'Year Built', 'building_sqft', 'elementary_school_star', 'high_school_star', 'middle_school_star'],\n",
       "  timestamp (1): ['date'],\n",
       "  categorical (5): ['Area Pool', 'County', 'Private Pool', 'Property Type', 'status'],\n",
       "  multicategorical (9): ['Exterior Type_multiclass', 'Foundation_multiclass', 'Garage Types_multiclass', 'Pool_feature_multiclass', 'Roof Type_multiclass', 'Style_multiclass', 'finance_option_multiclass', 'floor_type_multiclass', 'school_org'],\n",
       "  has_target=True,\n",
       "  device='cpu',\n",
       ")"
      ]
     },
     "execution_count": 3,
     "metadata": {},
     "output_type": "execute_result"
    }
   ],
   "source": [
    "train_loader = DataLoader(train_dataset.tensor_frame, \n",
    "                          batch_size=1024,\n",
    "                          shuffle=True)\n",
    "train_iter = iter(train_loader)\n",
    "train_loader.tensor_frame"
   ]
  },
  {
   "cell_type": "code",
   "execution_count": 56,
   "id": "f7c2ff1e-b8fd-4922-a877-3d7120b111a4",
   "metadata": {},
   "outputs": [
    {
     "data": {
      "text/plain": [
       "(['single family',\n",
       "  'townhouse/condo',\n",
       "  'residential/condo',\n",
       "  'townhouse',\n",
       "  'mid/hi-rise condo',\n",
       "  'country homes/acreage',\n",
       "  'residential/mobile home',\n",
       "  'multi-family',\n",
       "  'residential/manufactured',\n",
       "  '',\n",
       "  'residential',\n",
       "  'residential/lot',\n",
       "  'residential - modular',\n",
       "  'farm',\n",
       "  'farm - manufactured home',\n",
       "  'lots',\n",
       "  'land / unimproved land'],\n",
       " [193184,\n",
       "  6513,\n",
       "  4842,\n",
       "  2958,\n",
       "  848,\n",
       "  514,\n",
       "  409,\n",
       "  342,\n",
       "  326,\n",
       "  104,\n",
       "  57,\n",
       "  20,\n",
       "  10,\n",
       "  7,\n",
       "  2,\n",
       "  1,\n",
       "  1])"
      ]
     },
     "execution_count": 56,
     "metadata": {},
     "output_type": "execute_result"
    }
   ],
   "source": [
    "dataset.col_stats[\"Property Type\"][StatType.COUNT]"
   ]
  },
  {
   "cell_type": "code",
   "execution_count": 55,
   "id": "64150148-63e7-4ef9-a738-13768071f272",
   "metadata": {},
   "outputs": [
    {
     "data": {
      "text/plain": [
       "<StatType.COUNT: 'COUNT'>"
      ]
     },
     "execution_count": 55,
     "metadata": {},
     "output_type": "execute_result"
    }
   ],
   "source": []
  },
  {
   "cell_type": "code",
   "execution_count": 4,
   "id": "65c40cfa-117a-40bc-ab0f-f908fde7bb98",
   "metadata": {},
   "outputs": [],
   "source": [
    "def load_argparse(filename):\n",
    "    with open(filename, \"r\") as f:\n",
    "        args = json.load(f)\n",
    "    return args\n",
    "\n",
    "args = load_argparse(\"../model_checkpoints/tabformer_t90/config.cfg\")\n",
    "args\n",
    "\n",
    "model = TabTransformer(\n",
    "        channels=args[\"tabformer_channels\"],\n",
    "        num_layers=args[\"tabformer_num_layers\"],\n",
    "        num_heads=args[\"tabformer_num_heads\"],\n",
    "        col_stats=train_dataset.col_stats,\n",
    "        col_names_dict=train_dataset.tensor_frame.col_names_dict,\n",
    "        stype_encoder_dict=stype_encoder_dict, \n",
    ").to(\"cuda:0\")"
   ]
  },
  {
   "cell_type": "code",
   "execution_count": 5,
   "id": "10208a9f-aaf6-4d94-99a8-2c822513e304",
   "metadata": {},
   "outputs": [],
   "source": [
    "optimizer = torch.optim.Adam(model.parameters(), lr=0.0001) \n",
    "loss_fn = MSELoss()"
   ]
  },
  {
   "cell_type": "code",
   "execution_count": 6,
   "id": "0eaf1ef5-d3ee-431f-a3c1-c3a8c6d1b9bc",
   "metadata": {},
   "outputs": [
    {
     "data": {
      "text/plain": [
       "tensor([-0.0123,  0.0067, -0.0096, -0.0017, -0.0086, -0.0094, -0.0008, -0.0128,\n",
       "         0.0118, -0.0026,  0.0017,  0.0152, -0.0071, -0.0064, -0.0032, -0.0096,\n",
       "        -0.0081, -0.0018,  0.0039, -0.0175,  0.0027,  0.0106,  0.0100, -0.0031,\n",
       "         0.0127,  0.0085,  0.0023,  0.0105,  0.0239,  0.0083, -0.0177,  0.0051],\n",
       "       device='cuda:0')"
      ]
     },
     "execution_count": 6,
     "metadata": {},
     "output_type": "execute_result"
    }
   ],
   "source": [
    "model.state_dict()[\"encoder.encoder_dict.numerical.weight\"][0]"
   ]
  },
  {
   "cell_type": "code",
   "execution_count": 7,
   "id": "4b50932c-5c1c-4310-b61a-da3fc9b98e2e",
   "metadata": {},
   "outputs": [],
   "source": [
    "losses = []"
   ]
  },
  {
   "cell_type": "code",
   "execution_count": 13,
   "id": "34a16b9d-f957-48f2-a18b-2d553d726ad5",
   "metadata": {},
   "outputs": [],
   "source": [
    "# with autograd.detect_anomaly():\n",
    "for i in range(10):\n",
    "    tf = next(train_iter)\n",
    "    tf = tf.to(\"cuda:0\", non_blocking=True)\n",
    "    optimizer.zero_grad()\n",
    "    pred = model(tf)\n",
    "    # print(pred, tf.y)\n",
    "    loss = loss_fn(pred, tf.y)\n",
    "    # print(loss)\n",
    "    loss.backward()\n",
    "    optimizer.step()\n",
    "    losses.append(loss.item())\n",
    "    losses[-1]"
   ]
  },
  {
   "cell_type": "code",
   "execution_count": 14,
   "id": "b5669e22-a30a-4434-aa3e-214c7b322c64",
   "metadata": {},
   "outputs": [
    {
     "data": {
      "text/plain": [
       "tensor([-0.0106,  0.0053, -0.0115, -0.0008, -0.0102, -0.0086, -0.0018, -0.0134,\n",
       "         0.0118, -0.0039,  0.0001,  0.0147, -0.0085, -0.0060, -0.0021, -0.0106,\n",
       "        -0.0093, -0.0005,  0.0037, -0.0166,  0.0044,  0.0126,  0.0109, -0.0034,\n",
       "         0.0146,  0.0094,  0.0032,  0.0109,  0.0222,  0.0087, -0.0173,  0.0034],\n",
       "       device='cuda:0')"
      ]
     },
     "execution_count": 14,
     "metadata": {},
     "output_type": "execute_result"
    }
   ],
   "source": [
    "model.state_dict()[\"encoder.encoder_dict.numerical.weight\"][0]"
   ]
  },
  {
   "cell_type": "code",
   "execution_count": 19,
   "id": "51d10c76-4f4b-450f-a66a-6c1fac211f8a",
   "metadata": {},
   "outputs": [],
   "source": [
    "train_tf = train_dataset.tensor_frame"
   ]
  },
  {
   "cell_type": "code",
   "execution_count": 21,
   "id": "29d324d2-e156-42c4-96bf-07320fa7f191",
   "metadata": {},
   "outputs": [],
   "source": [
    "feat = train_tf.feat_dict[train_tf.stypes[0]]"
   ]
  },
  {
   "cell_type": "code",
   "execution_count": 23,
   "id": "8870e2ff-8942-43a3-a82f-32d4f88423e7",
   "metadata": {},
   "outputs": [
    {
     "data": {
      "text/plain": [
       "tensor(nan)"
      ]
     },
     "execution_count": 23,
     "metadata": {},
     "output_type": "execute_result"
    }
   ],
   "source": [
    "torch.max(feat)"
   ]
  },
  {
   "cell_type": "code",
   "execution_count": 30,
   "id": "a797d036-2bd1-4271-8abe-eb9b6446abbd",
   "metadata": {},
   "outputs": [
    {
     "name": "stdout",
     "output_type": "stream",
     "text": [
      "torch.Size([1, 3]) torch.Size([3, 2])\n"
     ]
    },
    {
     "data": {
      "text/plain": [
       "tensor([[[1., 1.],\n",
       "         [4., 4.],\n",
       "         [9., 9.]]])"
      ]
     },
     "execution_count": 30,
     "metadata": {},
     "output_type": "execute_result"
    }
   ],
   "source": [
    "x = torch.Tensor([[1, 2, 3]])\n",
    "y = torch.Tensor([[1, 1], [2, 2], [3, 3]])\n",
    "print(x.shape, y.shape)\n",
    "torch.einsum(\"ij,jk->ijk\", x, y)"
   ]
  },
  {
   "cell_type": "code",
   "execution_count": 31,
   "id": "6cc77d14-b98b-481f-b6a9-04783f6879f7",
   "metadata": {},
   "outputs": [
    {
     "data": {
      "text/plain": [
       "TensorFrame(\n",
       "  num_cols=30,\n",
       "  num_rows=16,\n",
       "  numerical (15): ['Baths', 'Bedrooms', 'Garage Number', 'LAT', 'LON', 'Lot Size', 'Maintenance Fee', 'Recent Market Value', 'Recent Tax Value', 'Tax Rate', 'Year Built', 'building_sqft', 'elementary_school_star', 'high_school_star', 'middle_school_star'],\n",
       "  timestamp (1): ['date'],\n",
       "  categorical (5): ['Area Pool', 'County', 'Private Pool', 'Property Type', 'status'],\n",
       "  multicategorical (9): ['Exterior Type_multiclass', 'Foundation_multiclass', 'Garage Types_multiclass', 'Pool_feature_multiclass', 'Roof Type_multiclass', 'Style_multiclass', 'finance_option_multiclass', 'floor_type_multiclass', 'school_org'],\n",
       "  has_target=True,\n",
       "  device='cuda:0',\n",
       ")"
      ]
     },
     "execution_count": 31,
     "metadata": {},
     "output_type": "execute_result"
    }
   ],
   "source": [
    "tf"
   ]
  },
  {
   "cell_type": "code",
   "execution_count": 46,
   "id": "dd7bd2f7-83bd-4b3b-afc6-7a0e443c9097",
   "metadata": {},
   "outputs": [],
   "source": [
    "tf = next(train_iter)"
   ]
  },
  {
   "cell_type": "code",
   "execution_count": 57,
   "id": "2aef3a6b-b0ad-4d03-9cf6-0b4f4d9b0700",
   "metadata": {},
   "outputs": [],
   "source": [
    "col_names = model.encoder.col_names_dict[stype]"
   ]
  },
  {
   "cell_type": "code",
   "execution_count": 79,
   "id": "58d637e3-a499-408f-a6e6-21da86977411",
   "metadata": {},
   "outputs": [],
   "source": [
    "stype = tf.stypes[0]\n",
    "feat = tf.feat_dict[stype].to(\"cuda:0\")\n",
    "linear_encoder = model.encoder.encoder_dict[stype.value]\n",
    "# model.encoder.encoder_dict[stype.value](feat[2:3], col_names)"
   ]
  },
  {
   "cell_type": "code",
   "execution_count": 29,
   "id": "5bbb10a1-8004-4cd2-921b-87142972ff03",
   "metadata": {},
   "outputs": [],
   "source": [
    "## Get the validation set address"
   ]
  },
  {
   "cell_type": "code",
   "execution_count": 48,
   "id": "0e3746c1-6f9a-4499-a397-826f77fbe954",
   "metadata": {},
   "outputs": [
    {
     "data": {
      "text/plain": [
       "['Baths',\n",
       " 'Bedrooms',\n",
       " 'Garage Number',\n",
       " 'LAT',\n",
       " 'LON',\n",
       " 'Lot Size',\n",
       " 'Maintenance Fee',\n",
       " 'Recent Market Value',\n",
       " 'Recent Tax Value',\n",
       " 'Tax Rate',\n",
       " 'Year Built',\n",
       " 'building_sqft',\n",
       " 'elementary_school_star',\n",
       " 'high_school_star',\n",
       " 'index',\n",
       " 'middle_school_star']"
      ]
     },
     "execution_count": 48,
     "metadata": {},
     "output_type": "execute_result"
    }
   ],
   "source": [
    "# raw_df = pd.read_pickle(\"../data/property_structured_12162024.pkl\").reset_index(drop=True)\n",
    "# raw_df[\"index\"] = np.arange(len(raw_df))\n",
    "train_tf = train_dataset.tensor_frame\n",
    "val_tf = val_dataset.tensor_frame\n",
    "stype = val_tf.stypes[0]\n",
    "val_tf.col_names_dict[stype]"
   ]
  },
  {
   "cell_type": "code",
   "execution_count": 49,
   "id": "6d3e0788-f987-4d6b-b8aa-12520a565255",
   "metadata": {},
   "outputs": [
    {
     "name": "stderr",
     "output_type": "stream",
     "text": [
      "/tmp/ipykernel_2325/3813009141.py:1: DeprecationWarning: `np.int` is a deprecated alias for the builtin `int`. To silence this warning, use `int` by itself. Doing this will not modify any behavior and is safe. When replacing `np.int`, you may wish to use e.g. `np.int64` or `np.int32` to specify the precision. If you wish to review your current use, check the release note link for additional information.\n",
      "Deprecated in NumPy 1.20; for more details and guidance: https://numpy.org/devdocs/release/1.20.0-notes.html#deprecations\n",
      "  val_indices = val_tf.feat_dict[stype][:, -2].clone().numpy().astype(np.int)\n",
      "/tmp/ipykernel_2325/3813009141.py:2: DeprecationWarning: `np.int` is a deprecated alias for the builtin `int`. To silence this warning, use `int` by itself. Doing this will not modify any behavior and is safe. When replacing `np.int`, you may wish to use e.g. `np.int64` or `np.int32` to specify the precision. If you wish to review your current use, check the release note link for additional information.\n",
      "Deprecated in NumPy 1.20; for more details and guidance: https://numpy.org/devdocs/release/1.20.0-notes.html#deprecations\n",
      "  train_indices = train_tf.feat_dict[stype][:, -2].clone().numpy().astype(np.int)\n"
     ]
    },
    {
     "data": {
      "text/plain": [
       "array([169568, 169569, 169570, ..., 211957, 211958, 211959])"
      ]
     },
     "execution_count": 49,
     "metadata": {},
     "output_type": "execute_result"
    }
   ],
   "source": [
    "val_indices = val_tf.feat_dict[stype][:, -2].clone().numpy().astype(np.int)\n",
    "train_indices = train_tf.feat_dict[stype][:, -2].clone().numpy().astype(np.int)\n",
    "val_indices"
   ]
  },
  {
   "cell_type": "code",
   "execution_count": 42,
   "id": "c22cc313-dbb6-4f4d-b155-b1034f20e941",
   "metadata": {},
   "outputs": [
    {
     "data": {
      "text/html": [
       "<div>\n",
       "<style scoped>\n",
       "    .dataframe tbody tr th:only-of-type {\n",
       "        vertical-align: middle;\n",
       "    }\n",
       "\n",
       "    .dataframe tbody tr th {\n",
       "        vertical-align: top;\n",
       "    }\n",
       "\n",
       "    .dataframe thead th {\n",
       "        text-align: right;\n",
       "    }\n",
       "</style>\n",
       "<table border=\"1\" class=\"dataframe\">\n",
       "  <thead>\n",
       "    <tr style=\"text-align: right;\">\n",
       "      <th></th>\n",
       "      <th>address</th>\n",
       "      <th>harlink</th>\n",
       "      <th>mp_features</th>\n",
       "      <th>agent</th>\n",
       "      <th>price</th>\n",
       "      <th>posted_days</th>\n",
       "      <th>status</th>\n",
       "      <th>zipcode</th>\n",
       "      <th>num_beds</th>\n",
       "      <th>num_bath</th>\n",
       "      <th>...</th>\n",
       "      <th>floor_type_multiclass</th>\n",
       "      <th>Exterior Type_multiclass</th>\n",
       "      <th>Exterior_multiclass</th>\n",
       "      <th>Style_multiclass</th>\n",
       "      <th>finance_option_multiclass</th>\n",
       "      <th>high_school_star</th>\n",
       "      <th>middle_school_star</th>\n",
       "      <th>elementary_school_star</th>\n",
       "      <th>school_org</th>\n",
       "      <th>general_desc</th>\n",
       "    </tr>\n",
       "  </thead>\n",
       "  <tbody>\n",
       "    <tr>\n",
       "      <th>0</th>\n",
       "      <td>18756 Laurel Hills Dr, New Caney, TX 77357</td>\n",
       "      <td>https://www.har.com//homedetail/18756-laurel-h...</td>\n",
       "      <td>4 bedrooms 2,144 Sqft. ($142/Sqft.) 2 full bat...</td>\n",
       "      <td>Sandy Brabham      Keller Williams Realty Nort...</td>\n",
       "      <td>304900.0</td>\n",
       "      <td>53.0</td>\n",
       "      <td>Under Contract - P</td>\n",
       "      <td>77357</td>\n",
       "      <td>4.0</td>\n",
       "      <td>0.0</td>\n",
       "      <td>...</td>\n",
       "      <td>[carpet, tile]</td>\n",
       "      <td>[brick, cement board, stone]</td>\n",
       "      <td>[back yard fenced, covered patio/deck, sprinkl...</td>\n",
       "      <td>[traditional]</td>\n",
       "      <td>[cash sale, conventional, fha, va]</td>\n",
       "      <td>4.0</td>\n",
       "      <td>4.0</td>\n",
       "      <td>3.0</td>\n",
       "      <td>[NEW CANEY ISD]</td>\n",
       "      <td>Adorable single-story home in Tavola, a Master...</td>\n",
       "    </tr>\n",
       "    <tr>\n",
       "      <th>1</th>\n",
       "      <td>18719 Scopello Dr, New Caney, TX 77357</td>\n",
       "      <td>https://www.har.com//homedetail/18719-scopello...</td>\n",
       "      <td>4 bedrooms 1,760 Sqft. ($155/Sqft.) 2 full bat...</td>\n",
       "      <td>Jared Turner     Lennar Homes Village Builders...</td>\n",
       "      <td>272990.0</td>\n",
       "      <td>49.0</td>\n",
       "      <td>Under Contract - P</td>\n",
       "      <td>77357</td>\n",
       "      <td>4.0</td>\n",
       "      <td>0.0</td>\n",
       "      <td>...</td>\n",
       "      <td>[]</td>\n",
       "      <td>[brick, cement board]</td>\n",
       "      <td>[]</td>\n",
       "      <td>[traditional]</td>\n",
       "      <td>[cash sale, conventional, fha, va]</td>\n",
       "      <td>4.0</td>\n",
       "      <td>4.0</td>\n",
       "      <td>4.0</td>\n",
       "      <td>[NEW CANEY ISD]</td>\n",
       "      <td>NEW! Lennar Homes Watermill Series, \"Oxford\" f...</td>\n",
       "    </tr>\n",
       "    <tr>\n",
       "      <th>2</th>\n",
       "      <td>22608 Hackberry Leaf Dr, New Caney, TX 77357</td>\n",
       "      <td>https://www.har.com//homedetail/22608-hackberr...</td>\n",
       "      <td>4 bedrooms 2,289 Sqft. ($142/Sqft.) 2 full &amp; 1...</td>\n",
       "      <td>Jared Turner     Lennar Homes Village Builders...</td>\n",
       "      <td>325990.0</td>\n",
       "      <td>14.0</td>\n",
       "      <td>Under Contract - P</td>\n",
       "      <td>77357</td>\n",
       "      <td>4.0</td>\n",
       "      <td>0.0</td>\n",
       "      <td>...</td>\n",
       "      <td>[]</td>\n",
       "      <td>[brick]</td>\n",
       "      <td>[]</td>\n",
       "      <td>[traditional]</td>\n",
       "      <td>[]</td>\n",
       "      <td>3.0</td>\n",
       "      <td>NaN</td>\n",
       "      <td>0.0</td>\n",
       "      <td>[SPLENDORA ISD]</td>\n",
       "      <td>NEW! Lennar Wildflower Collection \"LARKSPUR II...</td>\n",
       "    </tr>\n",
       "  </tbody>\n",
       "</table>\n",
       "<p>3 rows × 54 columns</p>\n",
       "</div>"
      ],
      "text/plain": [
       "                                        address  \\\n",
       "0    18756 Laurel Hills Dr, New Caney, TX 77357   \n",
       "1        18719 Scopello Dr, New Caney, TX 77357   \n",
       "2  22608 Hackberry Leaf Dr, New Caney, TX 77357   \n",
       "\n",
       "                                             harlink  \\\n",
       "0  https://www.har.com//homedetail/18756-laurel-h...   \n",
       "1  https://www.har.com//homedetail/18719-scopello...   \n",
       "2  https://www.har.com//homedetail/22608-hackberr...   \n",
       "\n",
       "                                         mp_features  \\\n",
       "0  4 bedrooms 2,144 Sqft. ($142/Sqft.) 2 full bat...   \n",
       "1  4 bedrooms 1,760 Sqft. ($155/Sqft.) 2 full bat...   \n",
       "2  4 bedrooms 2,289 Sqft. ($142/Sqft.) 2 full & 1...   \n",
       "\n",
       "                                               agent     price  posted_days  \\\n",
       "0  Sandy Brabham      Keller Williams Realty Nort...  304900.0         53.0   \n",
       "1  Jared Turner     Lennar Homes Village Builders...  272990.0         49.0   \n",
       "2  Jared Turner     Lennar Homes Village Builders...  325990.0         14.0   \n",
       "\n",
       "               status zipcode  num_beds  num_bath  ...  floor_type_multiclass  \\\n",
       "0  Under Contract - P   77357       4.0       0.0  ...         [carpet, tile]   \n",
       "1  Under Contract - P   77357       4.0       0.0  ...                     []   \n",
       "2  Under Contract - P   77357       4.0       0.0  ...                     []   \n",
       "\n",
       "       Exterior Type_multiclass  \\\n",
       "0  [brick, cement board, stone]   \n",
       "1         [brick, cement board]   \n",
       "2                       [brick]   \n",
       "\n",
       "                                 Exterior_multiclass  Style_multiclass  \\\n",
       "0  [back yard fenced, covered patio/deck, sprinkl...     [traditional]   \n",
       "1                                                 []     [traditional]   \n",
       "2                                                 []     [traditional]   \n",
       "\n",
       "            finance_option_multiclass high_school_star middle_school_star  \\\n",
       "0  [cash sale, conventional, fha, va]              4.0                4.0   \n",
       "1  [cash sale, conventional, fha, va]              4.0                4.0   \n",
       "2                                  []              3.0                NaN   \n",
       "\n",
       "  elementary_school_star       school_org  \\\n",
       "0                    3.0  [NEW CANEY ISD]   \n",
       "1                    4.0  [NEW CANEY ISD]   \n",
       "2                    0.0  [SPLENDORA ISD]   \n",
       "\n",
       "                                        general_desc  \n",
       "0  Adorable single-story home in Tavola, a Master...  \n",
       "1  NEW! Lennar Homes Watermill Series, \"Oxford\" f...  \n",
       "2  NEW! Lennar Wildflower Collection \"LARKSPUR II...  \n",
       "\n",
       "[3 rows x 54 columns]"
      ]
     },
     "execution_count": 42,
     "metadata": {},
     "output_type": "execute_result"
    }
   ],
   "source": [
    "val_df = pd.DataFrame.from_dict({\"val_index\": val_indices})\n",
    "val_df = val_df.join(raw_df.set_index(\"index\"), on=\"val_index\", how=\"left\").drop([\"val_index\"], axis=1)\n",
    "val_df.head(3)"
   ]
  },
  {
   "cell_type": "code",
   "execution_count": 50,
   "id": "281269bc-0bad-4528-b719-54a6a7d0294f",
   "metadata": {},
   "outputs": [
    {
     "data": {
      "text/html": [
       "<div>\n",
       "<style scoped>\n",
       "    .dataframe tbody tr th:only-of-type {\n",
       "        vertical-align: middle;\n",
       "    }\n",
       "\n",
       "    .dataframe tbody tr th {\n",
       "        vertical-align: top;\n",
       "    }\n",
       "\n",
       "    .dataframe thead th {\n",
       "        text-align: right;\n",
       "    }\n",
       "</style>\n",
       "<table border=\"1\" class=\"dataframe\">\n",
       "  <thead>\n",
       "    <tr style=\"text-align: right;\">\n",
       "      <th></th>\n",
       "      <th>address</th>\n",
       "      <th>harlink</th>\n",
       "      <th>mp_features</th>\n",
       "      <th>agent</th>\n",
       "      <th>price</th>\n",
       "      <th>posted_days</th>\n",
       "      <th>status</th>\n",
       "      <th>zipcode</th>\n",
       "      <th>num_beds</th>\n",
       "      <th>num_bath</th>\n",
       "      <th>...</th>\n",
       "      <th>floor_type_multiclass</th>\n",
       "      <th>Exterior Type_multiclass</th>\n",
       "      <th>Exterior_multiclass</th>\n",
       "      <th>Style_multiclass</th>\n",
       "      <th>finance_option_multiclass</th>\n",
       "      <th>high_school_star</th>\n",
       "      <th>middle_school_star</th>\n",
       "      <th>elementary_school_star</th>\n",
       "      <th>school_org</th>\n",
       "      <th>general_desc</th>\n",
       "    </tr>\n",
       "  </thead>\n",
       "  <tbody>\n",
       "    <tr>\n",
       "      <th>0</th>\n",
       "      <td>4513 Refugio Dr, Plano, TX 75024</td>\n",
       "      <td>https://www.har.com//homedetail/4513-refugio-d...</td>\n",
       "      <td>4 bedrooms 3,395 Sqft. ($233/Sqft.) 3 full &amp; 1...</td>\n",
       "      <td>Karla Davis     Fathom Realty</td>\n",
       "      <td>789990.0</td>\n",
       "      <td>66.0</td>\n",
       "      <td>Under Contract - P</td>\n",
       "      <td>75024</td>\n",
       "      <td>4.0</td>\n",
       "      <td>0.0</td>\n",
       "      <td>...</td>\n",
       "      <td>[carpet, ceramic tile, wood]</td>\n",
       "      <td>[brick, rock/stone]</td>\n",
       "      <td>[covered patio/porch]</td>\n",
       "      <td>[traditional]</td>\n",
       "      <td>[]</td>\n",
       "      <td>NaN</td>\n",
       "      <td>5.0</td>\n",
       "      <td>5.0</td>\n",
       "      <td>[FRISCO ISD]</td>\n",
       "      <td>MOVE IN READY! Welcome to The Bartlet, this ge...</td>\n",
       "    </tr>\n",
       "    <tr>\n",
       "      <th>1</th>\n",
       "      <td>1516 Bay Area Blvd P12, Houston, TX 77058</td>\n",
       "      <td>https://www.har.com//homedetail/1516-bay-area-...</td>\n",
       "      <td>1 bedrooms 684 Sqft. ($117/Sqft.) 1 full baths...</td>\n",
       "      <td>Laurie Long      RE/MAX Space Center</td>\n",
       "      <td>79900.0</td>\n",
       "      <td>79.0</td>\n",
       "      <td>Under Contract - PS</td>\n",
       "      <td>77058</td>\n",
       "      <td>1.0</td>\n",
       "      <td>0.0</td>\n",
       "      <td>...</td>\n",
       "      <td>[tile, vinyl]</td>\n",
       "      <td>[brick, stucco]</td>\n",
       "      <td>[balcony, partially fenced, storage]</td>\n",
       "      <td>[traditional]</td>\n",
       "      <td>[cash sale, conventional, fha, investor, va]</td>\n",
       "      <td>5.0</td>\n",
       "      <td>NaN</td>\n",
       "      <td>4.0</td>\n",
       "      <td>[CLEAR CREEK ISD]</td>\n",
       "      <td>This is the perfect starter home! EVERYTHING U...</td>\n",
       "    </tr>\n",
       "    <tr>\n",
       "      <th>2</th>\n",
       "      <td>1717 San Sebastian Ln, Houston, TX 77058</td>\n",
       "      <td>https://www.har.com//homedetail/1717-san-sebas...</td>\n",
       "      <td>2 bedrooms 1,280 Sqft. ($148/Sqft.) 2 full &amp; 1...</td>\n",
       "      <td>Austin Jones     Keller Williams Realty Clear ...</td>\n",
       "      <td>189000.0</td>\n",
       "      <td>10.0</td>\n",
       "      <td>Under Contract - P</td>\n",
       "      <td>77058</td>\n",
       "      <td>2.0</td>\n",
       "      <td>0.0</td>\n",
       "      <td>...</td>\n",
       "      <td>[carpet, laminate]</td>\n",
       "      <td>[brick, cement board, wood]</td>\n",
       "      <td>[patio/deck, partially fenced]</td>\n",
       "      <td>[traditional]</td>\n",
       "      <td>[cash sale, conventional, fha, va]</td>\n",
       "      <td>4.0</td>\n",
       "      <td>NaN</td>\n",
       "      <td>NaN</td>\n",
       "      <td>[CLEAR CREEK ISD]</td>\n",
       "      <td>Welcome to your dream condo in the heart of Na...</td>\n",
       "    </tr>\n",
       "  </tbody>\n",
       "</table>\n",
       "<p>3 rows × 54 columns</p>\n",
       "</div>"
      ],
      "text/plain": [
       "                                     address  \\\n",
       "0           4513 Refugio Dr, Plano, TX 75024   \n",
       "1  1516 Bay Area Blvd P12, Houston, TX 77058   \n",
       "2   1717 San Sebastian Ln, Houston, TX 77058   \n",
       "\n",
       "                                             harlink  \\\n",
       "0  https://www.har.com//homedetail/4513-refugio-d...   \n",
       "1  https://www.har.com//homedetail/1516-bay-area-...   \n",
       "2  https://www.har.com//homedetail/1717-san-sebas...   \n",
       "\n",
       "                                         mp_features  \\\n",
       "0  4 bedrooms 3,395 Sqft. ($233/Sqft.) 3 full & 1...   \n",
       "1  1 bedrooms 684 Sqft. ($117/Sqft.) 1 full baths...   \n",
       "2  2 bedrooms 1,280 Sqft. ($148/Sqft.) 2 full & 1...   \n",
       "\n",
       "                                               agent     price  posted_days  \\\n",
       "0                      Karla Davis     Fathom Realty  789990.0         66.0   \n",
       "1               Laurie Long      RE/MAX Space Center   79900.0         79.0   \n",
       "2  Austin Jones     Keller Williams Realty Clear ...  189000.0         10.0   \n",
       "\n",
       "                status zipcode  num_beds  num_bath  ...  \\\n",
       "0   Under Contract - P   75024       4.0       0.0  ...   \n",
       "1  Under Contract - PS   77058       1.0       0.0  ...   \n",
       "2   Under Contract - P   77058       2.0       0.0  ...   \n",
       "\n",
       "          floor_type_multiclass     Exterior Type_multiclass  \\\n",
       "0  [carpet, ceramic tile, wood]          [brick, rock/stone]   \n",
       "1                 [tile, vinyl]              [brick, stucco]   \n",
       "2            [carpet, laminate]  [brick, cement board, wood]   \n",
       "\n",
       "                    Exterior_multiclass  Style_multiclass  \\\n",
       "0                 [covered patio/porch]     [traditional]   \n",
       "1  [balcony, partially fenced, storage]     [traditional]   \n",
       "2        [patio/deck, partially fenced]     [traditional]   \n",
       "\n",
       "                      finance_option_multiclass high_school_star  \\\n",
       "0                                            []              NaN   \n",
       "1  [cash sale, conventional, fha, investor, va]              5.0   \n",
       "2            [cash sale, conventional, fha, va]              4.0   \n",
       "\n",
       "  middle_school_star elementary_school_star         school_org  \\\n",
       "0                5.0                    5.0       [FRISCO ISD]   \n",
       "1                NaN                    4.0  [CLEAR CREEK ISD]   \n",
       "2                NaN                    NaN  [CLEAR CREEK ISD]   \n",
       "\n",
       "                                        general_desc  \n",
       "0  MOVE IN READY! Welcome to The Bartlet, this ge...  \n",
       "1  This is the perfect starter home! EVERYTHING U...  \n",
       "2  Welcome to your dream condo in the heart of Na...  \n",
       "\n",
       "[3 rows x 54 columns]"
      ]
     },
     "execution_count": 50,
     "metadata": {},
     "output_type": "execute_result"
    }
   ],
   "source": [
    "train_df = pd.DataFrame.from_dict({\"val_index\": train_indices})\n",
    "train_df = train_df.join(raw_df.set_index(\"index\"), on=\"val_index\", how=\"left\").drop([\"val_index\"], axis=1)\n",
    "train_df.head(3)"
   ]
  },
  {
   "cell_type": "code",
   "execution_count": 47,
   "id": "70ec95c2-c915-44ec-a557-3203fd848e54",
   "metadata": {},
   "outputs": [],
   "source": [
    "# np.save(\"../data/val_address_keys\", val_df[\"address_key\"].values)"
   ]
  },
  {
   "cell_type": "code",
   "execution_count": 51,
   "id": "48617764-f646-4b62-b6cd-9b5e472467a4",
   "metadata": {},
   "outputs": [],
   "source": [
    "# np.save(\"../data/train_address_keys\", train_df[\"address_key\"].values)"
   ]
  },
  {
   "cell_type": "code",
   "execution_count": 7,
   "id": "ee4909c9-1309-4341-9d03-6524e88ef7e8",
   "metadata": {},
   "outputs": [],
   "source": [
    "raw_df = pd.read_pickle(\"../data/property_structured_12162024.pkl\").reset_index(drop=True)"
   ]
  },
  {
   "cell_type": "code",
   "execution_count": 14,
   "id": "0fbde636-aaf8-4022-963f-bd4dcc04755a",
   "metadata": {},
   "outputs": [],
   "source": [
    "train_address_keys = set(np.load(\"../data/train_address_keys.npy\", allow_pickle=True))\n",
    "val_address_keys = set(np.load(\"../data/val_address_keys.npy\", allow_pickle=True))"
   ]
  },
  {
   "cell_type": "code",
   "execution_count": 13,
   "id": "a95b376a-937f-4e6c-b623-b3b5453f6bfd",
   "metadata": {},
   "outputs": [
    {
     "data": {
      "text/plain": [
       "(211960, 211960)"
      ]
     },
     "execution_count": 13,
     "metadata": {},
     "output_type": "execute_result"
    }
   ],
   "source": [
    "len(raw_df), len(train_address_keys) + len(val_address_keys)"
   ]
  },
  {
   "cell_type": "code",
   "execution_count": 16,
   "id": "9e091db5-e443-49ee-a2bb-43d900f726ca",
   "metadata": {},
   "outputs": [],
   "source": [
    "train_df = raw_df[raw_df[\"address_key\"].apply(lambda x: x in train_address_keys)]\n",
    "val_df = raw_df[raw_df[\"address_key\"].apply(lambda x: x in val_address_keys)]"
   ]
  },
  {
   "cell_type": "code",
   "execution_count": 17,
   "id": "071b0ad9-01d2-4330-a3d9-9d1c6af301c8",
   "metadata": {},
   "outputs": [
    {
     "data": {
      "text/plain": [
       "(211960, 211960)"
      ]
     },
     "execution_count": 17,
     "metadata": {},
     "output_type": "execute_result"
    }
   ],
   "source": [
    "len(raw_df), len(train_df) + len(val_df)"
   ]
  },
  {
   "cell_type": "code",
   "execution_count": 19,
   "id": "6af4ab49-6f02-4458-91df-5b21b9fad73d",
   "metadata": {},
   "outputs": [],
   "source": [
    "# train_df.to_pickle(\"../data/property_structured_12162024_train.pkl\")\n",
    "# val_df.to_pickle(\"../data/property_structured_12162024_val.pkl\")"
   ]
  },
  {
   "cell_type": "code",
   "execution_count": 20,
   "id": "57809f1d-f222-46ca-b4fa-8cfb380b7a80",
   "metadata": {},
   "outputs": [],
   "source": [
    "text_emb_df = pd.read_pickle(\"../data/property_structured_12162024_general_desc_features.pkl\")\n",
    "img_emb_df = pd.read_pickle(\"../data/property_structured_12162024_image_dinov2s_cls_mean.pkl\")"
   ]
  },
  {
   "cell_type": "code",
   "execution_count": 22,
   "id": "531d9d1b-0867-4208-bdce-f166c7b41fa7",
   "metadata": {},
   "outputs": [
    {
     "data": {
      "text/html": [
       "<div>\n",
       "<style scoped>\n",
       "    .dataframe tbody tr th:only-of-type {\n",
       "        vertical-align: middle;\n",
       "    }\n",
       "\n",
       "    .dataframe tbody tr th {\n",
       "        vertical-align: top;\n",
       "    }\n",
       "\n",
       "    .dataframe thead th {\n",
       "        text-align: right;\n",
       "    }\n",
       "</style>\n",
       "<table border=\"1\" class=\"dataframe\">\n",
       "  <thead>\n",
       "    <tr style=\"text-align: right;\">\n",
       "      <th></th>\n",
       "      <th>address</th>\n",
       "      <th>address_key</th>\n",
       "      <th>general_desc_roberta_mean_features</th>\n",
       "      <th>general_desc_roberta_cls_features</th>\n",
       "      <th>pool_desc_roberta_mean_features</th>\n",
       "      <th>pool_desc_roberta_cls_features</th>\n",
       "    </tr>\n",
       "  </thead>\n",
       "  <tbody>\n",
       "    <tr>\n",
       "      <th>57</th>\n",
       "      <td>4513 Refugio Dr, Plano, TX 75024</td>\n",
       "      <td>4513 Refugio Dr, Plano, TX 75024</td>\n",
       "      <td>[-0.05298574, 0.16712712, 0.030846443, -0.0905...</td>\n",
       "      <td>[-0.08189664, 0.081172906, -0.011601419, -0.11...</td>\n",
       "      <td>[0.0, 0.0, 0.0, 0.0, 0.0, 0.0, 0.0, 0.0, 0.0, ...</td>\n",
       "      <td>[0.0, 0.0, 0.0, 0.0, 0.0, 0.0, 0.0, 0.0, 0.0, ...</td>\n",
       "    </tr>\n",
       "    <tr>\n",
       "      <th>8</th>\n",
       "      <td>1516 Bay Area Blvd P12, Houston, TX 77058</td>\n",
       "      <td>1516 Bay Area Blvd P12, Houston, TX 77058</td>\n",
       "      <td>[-0.04425717, 0.1280026, 0.021496488, -0.11067...</td>\n",
       "      <td>[-0.06736968, 0.065313496, 0.004019822, -0.130...</td>\n",
       "      <td>[0.0, 0.0, 0.0, 0.0, 0.0, 0.0, 0.0, 0.0, 0.0, ...</td>\n",
       "      <td>[0.0, 0.0, 0.0, 0.0, 0.0, 0.0, 0.0, 0.0, 0.0, ...</td>\n",
       "    </tr>\n",
       "    <tr>\n",
       "      <th>22</th>\n",
       "      <td>1717 San Sebastian Ln, Houston, TX 77058</td>\n",
       "      <td>1717 San Sebastian Ln, Houston, TX 77058</td>\n",
       "      <td>[-0.012745147, 0.191385, 0.054775644, -0.12214...</td>\n",
       "      <td>[-0.085375026, 0.11280363, -0.00029663308, -0....</td>\n",
       "      <td>[0.0, 0.0, 0.0, 0.0, 0.0, 0.0, 0.0, 0.0, 0.0, ...</td>\n",
       "      <td>[0.0, 0.0, 0.0, 0.0, 0.0, 0.0, 0.0, 0.0, 0.0, ...</td>\n",
       "    </tr>\n",
       "  </tbody>\n",
       "</table>\n",
       "</div>"
      ],
      "text/plain": [
       "                                      address  \\\n",
       "57           4513 Refugio Dr, Plano, TX 75024   \n",
       "8   1516 Bay Area Blvd P12, Houston, TX 77058   \n",
       "22   1717 San Sebastian Ln, Houston, TX 77058   \n",
       "\n",
       "                                  address_key  \\\n",
       "57           4513 Refugio Dr, Plano, TX 75024   \n",
       "8   1516 Bay Area Blvd P12, Houston, TX 77058   \n",
       "22   1717 San Sebastian Ln, Houston, TX 77058   \n",
       "\n",
       "                   general_desc_roberta_mean_features  \\\n",
       "57  [-0.05298574, 0.16712712, 0.030846443, -0.0905...   \n",
       "8   [-0.04425717, 0.1280026, 0.021496488, -0.11067...   \n",
       "22  [-0.012745147, 0.191385, 0.054775644, -0.12214...   \n",
       "\n",
       "                    general_desc_roberta_cls_features  \\\n",
       "57  [-0.08189664, 0.081172906, -0.011601419, -0.11...   \n",
       "8   [-0.06736968, 0.065313496, 0.004019822, -0.130...   \n",
       "22  [-0.085375026, 0.11280363, -0.00029663308, -0....   \n",
       "\n",
       "                      pool_desc_roberta_mean_features  \\\n",
       "57  [0.0, 0.0, 0.0, 0.0, 0.0, 0.0, 0.0, 0.0, 0.0, ...   \n",
       "8   [0.0, 0.0, 0.0, 0.0, 0.0, 0.0, 0.0, 0.0, 0.0, ...   \n",
       "22  [0.0, 0.0, 0.0, 0.0, 0.0, 0.0, 0.0, 0.0, 0.0, ...   \n",
       "\n",
       "                       pool_desc_roberta_cls_features  \n",
       "57  [0.0, 0.0, 0.0, 0.0, 0.0, 0.0, 0.0, 0.0, 0.0, ...  \n",
       "8   [0.0, 0.0, 0.0, 0.0, 0.0, 0.0, 0.0, 0.0, 0.0, ...  \n",
       "22  [0.0, 0.0, 0.0, 0.0, 0.0, 0.0, 0.0, 0.0, 0.0, ...  "
      ]
     },
     "execution_count": 22,
     "metadata": {},
     "output_type": "execute_result"
    }
   ],
   "source": [
    "text_embedding_col = [\"general_desc_roberta_mean_features\", \"pool_desc_roberta_mean_features\"]\n",
    "text_emb_df.head(3)"
   ]
  },
  {
   "cell_type": "code",
   "execution_count": 23,
   "id": "18d941b6-7f0b-489c-9305-adf2f6443bd4",
   "metadata": {},
   "outputs": [],
   "source": [
    "train_df = train_df.join(text_emb_df.set_index(\"address_key\")[text_embedding_col], \n",
    "                     on=\"address_key\", \n",
    "                     how=\"left\")\n",
    "train_df = train_df.join(img_emb_df.set_index(\"address_key\")[[\"img_emb\"]], \n",
    "             on=\"address_key\", \n",
    "             how=\"left\")\n",
    "val_df = val_df.join(text_emb_df.set_index(\"address_key\")[text_embedding_col],\n",
    "                on=\"address_key\",\n",
    "                how=\"left\")\n",
    "val_df = val_df.join(img_emb_df.set_index(\"address_key\")[[\"img_emb\"]],\n",
    "                on=\"address_key\",\n",
    "                how=\"left\")"
   ]
  },
  {
   "cell_type": "code",
   "execution_count": 24,
   "id": "efd13ab3-2cb1-49f0-bdf7-8aa3e63a133c",
   "metadata": {},
   "outputs": [
    {
     "data": {
      "text/html": [
       "<div>\n",
       "<style scoped>\n",
       "    .dataframe tbody tr th:only-of-type {\n",
       "        vertical-align: middle;\n",
       "    }\n",
       "\n",
       "    .dataframe tbody tr th {\n",
       "        vertical-align: top;\n",
       "    }\n",
       "\n",
       "    .dataframe thead th {\n",
       "        text-align: right;\n",
       "    }\n",
       "</style>\n",
       "<table border=\"1\" class=\"dataframe\">\n",
       "  <thead>\n",
       "    <tr style=\"text-align: right;\">\n",
       "      <th></th>\n",
       "      <th>address</th>\n",
       "      <th>harlink</th>\n",
       "      <th>mp_features</th>\n",
       "      <th>agent</th>\n",
       "      <th>price</th>\n",
       "      <th>posted_days</th>\n",
       "      <th>status</th>\n",
       "      <th>zipcode</th>\n",
       "      <th>num_beds</th>\n",
       "      <th>num_bath</th>\n",
       "      <th>...</th>\n",
       "      <th>Style_multiclass</th>\n",
       "      <th>finance_option_multiclass</th>\n",
       "      <th>high_school_star</th>\n",
       "      <th>middle_school_star</th>\n",
       "      <th>elementary_school_star</th>\n",
       "      <th>school_org</th>\n",
       "      <th>general_desc</th>\n",
       "      <th>general_desc_roberta_mean_features</th>\n",
       "      <th>pool_desc_roberta_mean_features</th>\n",
       "      <th>img_emb</th>\n",
       "    </tr>\n",
       "  </thead>\n",
       "  <tbody>\n",
       "    <tr>\n",
       "      <th>0</th>\n",
       "      <td>4513 Refugio Dr, Plano, TX 75024</td>\n",
       "      <td>https://www.har.com//homedetail/4513-refugio-d...</td>\n",
       "      <td>4 bedrooms 3,395 Sqft. ($233/Sqft.) 3 full &amp; 1...</td>\n",
       "      <td>Karla Davis     Fathom Realty</td>\n",
       "      <td>789990.0</td>\n",
       "      <td>66.0</td>\n",
       "      <td>Under Contract - P</td>\n",
       "      <td>75024</td>\n",
       "      <td>4.0</td>\n",
       "      <td>0.0</td>\n",
       "      <td>...</td>\n",
       "      <td>[traditional]</td>\n",
       "      <td>[]</td>\n",
       "      <td>NaN</td>\n",
       "      <td>5.0</td>\n",
       "      <td>5.0</td>\n",
       "      <td>[FRISCO ISD]</td>\n",
       "      <td>MOVE IN READY! Welcome to The Bartlet, this ge...</td>\n",
       "      <td>[-0.05298574, 0.16712712, 0.030846443, -0.0905...</td>\n",
       "      <td>[0.0, 0.0, 0.0, 0.0, 0.0, 0.0, 0.0, 0.0, 0.0, ...</td>\n",
       "      <td>[-0.19927926, 0.32147434, -1.8815732, 0.635359...</td>\n",
       "    </tr>\n",
       "    <tr>\n",
       "      <th>1</th>\n",
       "      <td>1516 Bay Area Blvd P12, Houston, TX 77058</td>\n",
       "      <td>https://www.har.com//homedetail/1516-bay-area-...</td>\n",
       "      <td>1 bedrooms 684 Sqft. ($117/Sqft.) 1 full baths...</td>\n",
       "      <td>Laurie Long      RE/MAX Space Center</td>\n",
       "      <td>79900.0</td>\n",
       "      <td>79.0</td>\n",
       "      <td>Under Contract - PS</td>\n",
       "      <td>77058</td>\n",
       "      <td>1.0</td>\n",
       "      <td>0.0</td>\n",
       "      <td>...</td>\n",
       "      <td>[traditional]</td>\n",
       "      <td>[cash sale, conventional, fha, investor, va]</td>\n",
       "      <td>5.0</td>\n",
       "      <td>NaN</td>\n",
       "      <td>4.0</td>\n",
       "      <td>[CLEAR CREEK ISD]</td>\n",
       "      <td>This is the perfect starter home! EVERYTHING U...</td>\n",
       "      <td>[-0.04425717, 0.1280026, 0.021496488, -0.11067...</td>\n",
       "      <td>[0.0, 0.0, 0.0, 0.0, 0.0, 0.0, 0.0, 0.0, 0.0, ...</td>\n",
       "      <td>[-0.039341476, 0.20256862, -0.8904531, 0.47709...</td>\n",
       "    </tr>\n",
       "    <tr>\n",
       "      <th>2</th>\n",
       "      <td>1717 San Sebastian Ln, Houston, TX 77058</td>\n",
       "      <td>https://www.har.com//homedetail/1717-san-sebas...</td>\n",
       "      <td>2 bedrooms 1,280 Sqft. ($148/Sqft.) 2 full &amp; 1...</td>\n",
       "      <td>Austin Jones     Keller Williams Realty Clear ...</td>\n",
       "      <td>189000.0</td>\n",
       "      <td>10.0</td>\n",
       "      <td>Under Contract - P</td>\n",
       "      <td>77058</td>\n",
       "      <td>2.0</td>\n",
       "      <td>0.0</td>\n",
       "      <td>...</td>\n",
       "      <td>[traditional]</td>\n",
       "      <td>[cash sale, conventional, fha, va]</td>\n",
       "      <td>4.0</td>\n",
       "      <td>NaN</td>\n",
       "      <td>NaN</td>\n",
       "      <td>[CLEAR CREEK ISD]</td>\n",
       "      <td>Welcome to your dream condo in the heart of Na...</td>\n",
       "      <td>[-0.012745147, 0.191385, 0.054775644, -0.12214...</td>\n",
       "      <td>[0.0, 0.0, 0.0, 0.0, 0.0, 0.0, 0.0, 0.0, 0.0, ...</td>\n",
       "      <td>[0.34710482, 0.16588269, -0.7056697, 2.2239168...</td>\n",
       "    </tr>\n",
       "  </tbody>\n",
       "</table>\n",
       "<p>3 rows × 57 columns</p>\n",
       "</div>"
      ],
      "text/plain": [
       "                                     address  \\\n",
       "0           4513 Refugio Dr, Plano, TX 75024   \n",
       "1  1516 Bay Area Blvd P12, Houston, TX 77058   \n",
       "2   1717 San Sebastian Ln, Houston, TX 77058   \n",
       "\n",
       "                                             harlink  \\\n",
       "0  https://www.har.com//homedetail/4513-refugio-d...   \n",
       "1  https://www.har.com//homedetail/1516-bay-area-...   \n",
       "2  https://www.har.com//homedetail/1717-san-sebas...   \n",
       "\n",
       "                                         mp_features  \\\n",
       "0  4 bedrooms 3,395 Sqft. ($233/Sqft.) 3 full & 1...   \n",
       "1  1 bedrooms 684 Sqft. ($117/Sqft.) 1 full baths...   \n",
       "2  2 bedrooms 1,280 Sqft. ($148/Sqft.) 2 full & 1...   \n",
       "\n",
       "                                               agent     price  posted_days  \\\n",
       "0                      Karla Davis     Fathom Realty  789990.0         66.0   \n",
       "1               Laurie Long      RE/MAX Space Center   79900.0         79.0   \n",
       "2  Austin Jones     Keller Williams Realty Clear ...  189000.0         10.0   \n",
       "\n",
       "                status zipcode  num_beds  num_bath  ...  Style_multiclass  \\\n",
       "0   Under Contract - P   75024       4.0       0.0  ...     [traditional]   \n",
       "1  Under Contract - PS   77058       1.0       0.0  ...     [traditional]   \n",
       "2   Under Contract - P   77058       2.0       0.0  ...     [traditional]   \n",
       "\n",
       "                      finance_option_multiclass  high_school_star  \\\n",
       "0                                            []               NaN   \n",
       "1  [cash sale, conventional, fha, investor, va]               5.0   \n",
       "2            [cash sale, conventional, fha, va]               4.0   \n",
       "\n",
       "   middle_school_star  elementary_school_star         school_org  \\\n",
       "0                 5.0                     5.0       [FRISCO ISD]   \n",
       "1                 NaN                     4.0  [CLEAR CREEK ISD]   \n",
       "2                 NaN                     NaN  [CLEAR CREEK ISD]   \n",
       "\n",
       "                                        general_desc  \\\n",
       "0  MOVE IN READY! Welcome to The Bartlet, this ge...   \n",
       "1  This is the perfect starter home! EVERYTHING U...   \n",
       "2  Welcome to your dream condo in the heart of Na...   \n",
       "\n",
       "                  general_desc_roberta_mean_features  \\\n",
       "0  [-0.05298574, 0.16712712, 0.030846443, -0.0905...   \n",
       "1  [-0.04425717, 0.1280026, 0.021496488, -0.11067...   \n",
       "2  [-0.012745147, 0.191385, 0.054775644, -0.12214...   \n",
       "\n",
       "                     pool_desc_roberta_mean_features  \\\n",
       "0  [0.0, 0.0, 0.0, 0.0, 0.0, 0.0, 0.0, 0.0, 0.0, ...   \n",
       "1  [0.0, 0.0, 0.0, 0.0, 0.0, 0.0, 0.0, 0.0, 0.0, ...   \n",
       "2  [0.0, 0.0, 0.0, 0.0, 0.0, 0.0, 0.0, 0.0, 0.0, ...   \n",
       "\n",
       "                                             img_emb  \n",
       "0  [-0.19927926, 0.32147434, -1.8815732, 0.635359...  \n",
       "1  [-0.039341476, 0.20256862, -0.8904531, 0.47709...  \n",
       "2  [0.34710482, 0.16588269, -0.7056697, 2.2239168...  \n",
       "\n",
       "[3 rows x 57 columns]"
      ]
     },
     "execution_count": 24,
     "metadata": {},
     "output_type": "execute_result"
    }
   ],
   "source": [
    "train_df.head(3)"
   ]
  },
  {
   "cell_type": "code",
   "execution_count": 25,
   "id": "ffa3eaa1-6791-4422-90d4-9c0afab996b1",
   "metadata": {},
   "outputs": [],
   "source": [
    "# train_df.to_pickle(\"../data/property_structured_12162024_train.pkl\")\n",
    "# val_df.to_pickle(\"../data/property_structured_12162024_val.pkl\")"
   ]
  },
  {
   "cell_type": "code",
   "execution_count": 26,
   "id": "11095bde-8453-4a2a-9076-69dcdecdc09c",
   "metadata": {},
   "outputs": [],
   "source": [
    "# new_df = pd.read_pickle(\"/home/user/DataCenter/HAR_data/under_contract_04252020_11042023_full.pkl\")"
   ]
  },
  {
   "cell_type": "code",
   "execution_count": 34,
   "id": "5aea28ea-d44e-4c33-aae0-fbd7484b4070",
   "metadata": {},
   "outputs": [],
   "source": [
    "# len(new_df)"
   ]
  },
  {
   "cell_type": "code",
   "execution_count": 32,
   "id": "b1b69144-f4d7-432e-99bb-3d227a0ccbbb",
   "metadata": {},
   "outputs": [],
   "source": [
    "# new_df_2 = pd.read_pickle(\"/home/user/DataCenter/HAR_data/under_contract_04252020_11042023_structured_data_v2.pkl\")"
   ]
  },
  {
   "cell_type": "code",
   "execution_count": 33,
   "id": "7ab9f93d-a90e-4e5d-bc2a-26990de90f3a",
   "metadata": {},
   "outputs": [],
   "source": [
    "# new_df_2.head(2)"
   ]
  },
  {
   "cell_type": "code",
   "execution_count": 83,
   "id": "caac3bf6-db87-472c-a99a-57ca6dd1794b",
   "metadata": {},
   "outputs": [],
   "source": [
    "from torch_frame.datasets import FakeDataset\n",
    "from torch_frame.config.image_embedder import ImageEmbedderConfig\n",
    "from torch_frame.config.text_embedder import TextEmbedderConfig\n",
    "from torch_frame.testing.image_embedder import RandomImageEmbedder\n",
    "from torch_frame.testing.text_embedder import HashTextEmbedder\n",
    "from pathlib import Path"
   ]
  },
  {
   "cell_type": "code",
   "execution_count": 86,
   "id": "9ab5bd5a-c315-4bf6-a8f3-e328f5dead0e",
   "metadata": {},
   "outputs": [
    {
     "name": "stderr",
     "output_type": "stream",
     "text": [
      "\n",
      "\n",
      "\n",
      "\n",
      "mbedding raw data in mini-batch: 100%|██████████████████████████████████████████████████████████| 2/2 [00:00<00:00, 852.59it/s]"
     ]
    },
    {
     "data": {
      "text/plain": [
       "FakeDataset()"
      ]
     },
     "execution_count": 86,
     "metadata": {},
     "output_type": "execute_result"
    }
   ],
   "source": [
    "# tmpdir = Path()\n",
    "# os.mkdir(\"./tmp\")\n",
    "tmp_path = \"./tmp\" #str(tmpdir.mkdir(\"image\"))\n",
    "text_embedder_cfg = TextEmbedderConfig(\n",
    "    text_embedder=HashTextEmbedder(1),\n",
    "    batch_size=8,\n",
    ")\n",
    "image_embedder_cfg = ImageEmbedderConfig(\n",
    "    image_embedder=RandomImageEmbedder(1),\n",
    "    batch_size=8,\n",
    ")\n",
    "dataset_stypes = [\n",
    "        torch_frame.categorical,\n",
    "        torch_frame.numerical,\n",
    "        torch_frame.multicategorical,\n",
    "        torch_frame.sequence_numerical,\n",
    "        torch_frame.timestamp,\n",
    "        torch_frame.text_embedded,\n",
    "        torch_frame.embedding,\n",
    "        torch_frame.image_embedded,\n",
    "    ]\n",
    "train_dataset = FakeDataset(\n",
    "    num_rows=10,\n",
    "    stypes=dataset_stypes,\n",
    "    col_to_text_embedder_cfg=text_embedder_cfg,\n",
    "    col_to_image_embedder_cfg=image_embedder_cfg,\n",
    "    tmp_path=tmp_path,\n",
    ")\n",
    "train_dataset.materialize()"
   ]
  },
  {
   "cell_type": "code",
   "execution_count": 87,
   "id": "1f14ee2c-6b47-4359-8c76-7aed8ab75e15",
   "metadata": {},
   "outputs": [],
   "source": [
    "test_dataset = FakeDataset(\n",
    "    num_rows=5,\n",
    "    stypes=dataset_stypes,\n",
    "    col_to_text_embedder_cfg=text_embedder_cfg,\n",
    "    col_to_image_embedder_cfg=image_embedder_cfg,\n",
    "    tmp_path=tmp_path,\n",
    ")"
   ]
  },
  {
   "cell_type": "code",
   "execution_count": 88,
   "id": "f31ade89-a3a9-4be5-9c07-13cf2d9b25e4",
   "metadata": {},
   "outputs": [
    {
     "name": "stderr",
     "output_type": "stream",
     "text": [
      "\n",
      "\n",
      "\n",
      "\n",
      "mbedding raw data in mini-batch: 100%|██████████████████████████████████████████████████████████| 1/1 [00:00<00:00, 400.30it/s]"
     ]
    },
    {
     "data": {
      "text/plain": [
       "FakeDataset()"
      ]
     },
     "execution_count": 88,
     "metadata": {},
     "output_type": "execute_result"
    }
   ],
   "source": [
    "test_dataset.materialize(col_stats=train_dataset.col_stats)"
   ]
  },
  {
   "cell_type": "code",
   "execution_count": 89,
   "id": "a8e88057-5c15-4466-b673-e0c24e7cedb9",
   "metadata": {},
   "outputs": [
    {
     "data": {
      "text/plain": [
       "True"
      ]
     },
     "execution_count": 89,
     "metadata": {},
     "output_type": "execute_result"
    }
   ],
   "source": [
    "train_dataset.col_stats == test_dataset.col_stats"
   ]
  },
  {
   "cell_type": "code",
   "execution_count": null,
   "id": "b62ab679-756e-4617-a98e-3a42245afa1f",
   "metadata": {},
   "outputs": [],
   "source": []
  }
 ],
 "metadata": {
  "kernelspec": {
   "display_name": "Python 3 (ipykernel)",
   "language": "python",
   "name": "python3"
  },
  "language_info": {
   "codemirror_mode": {
    "name": "ipython",
    "version": 3
   },
   "file_extension": ".py",
   "mimetype": "text/x-python",
   "name": "python",
   "nbconvert_exporter": "python",
   "pygments_lexer": "ipython3",
   "version": "3.10.13"
  }
 },
 "nbformat": 4,
 "nbformat_minor": 5
}
