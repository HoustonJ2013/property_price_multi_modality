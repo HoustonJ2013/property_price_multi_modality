{
 "cells": [
  {
   "cell_type": "code",
   "execution_count": 1,
   "id": "1f900340-b37d-45a4-9a8b-1ee4a6878531",
   "metadata": {},
   "outputs": [],
   "source": [
    "import torch\n",
    "from torch.autograd import Variable\n",
    "import shap\n",
    "import numpy\n",
    "import pandas\n",
    "import argparse\n",
    "import os \n",
    "from typing import Any, Dict, List\n",
    "import pandas as pd\n",
    "from torch.nn import MSELoss, L1Loss\n",
    "import numpy as np\n",
    "import json \n",
    "import random\n",
    "from tqdm import tqdm\n",
    "from pathlib import Path\n",
    "from scipy.stats import binned_statistic\n",
    "import matplotlib.pylab as plt\n",
    "\n",
    "\n",
    "import torch\n",
    "\n",
    "import torch_frame\n",
    "from torch.nn import Linear, Module\n",
    "from torch_frame.data import Dataset\n",
    "from torch_frame.data import DataLoader\n",
    "from torch_frame import TensorFrame, stype\n",
    "from torch_frame.nn.models.ft_transformer import FTTransformer\n",
    "from torch.nn import Linear, Module, ModuleList\n",
    "from typing import Any, Dict, List\n",
    "from torch import Tensor\n",
    "import torch \n",
    "\n",
    "import torch_frame\n",
    "from torch_frame import TensorFrame, stype\n",
    "from torch_frame.data.stats import StatType\n",
    "from torch_frame.nn.conv import TabTransformerConv, FTTransformerConvs\n",
    "from torch_frame.nn.encoder import (\n",
    "    EmbeddingEncoder,\n",
    "    LinearEncoder,\n",
    "    LinearEmbeddingEncoder,\n",
    "    StypeWiseFeatureEncoder,\n",
    "    MultiCategoricalEmbeddingEncoder,\n",
    "    TimestampEncoder,\n",
    ")\n",
    "\n",
    "import sys\n",
    "sys.path.append('../modeling/')\n",
    "\n",
    "from model import TabTransformer, stype_encoder_dict_2, stype_encoder_dict_3\n",
    "from train import get_args_parser"
   ]
  },
  {
   "cell_type": "code",
   "execution_count": 2,
   "id": "7c7597f8-e4c2-4123-9de0-aa8e2d9035e8",
   "metadata": {},
   "outputs": [],
   "source": [
    "target = \"price\"\n",
    "dense_features = [\"LON\", \n",
    "                \"LAT\", \n",
    "                \"building_sqft\", \n",
    "                \"Lot Size\", \n",
    "                \"Year Built\", \n",
    "                \"Garage Number\", \n",
    "                \"Bedrooms\", \n",
    "                \"Baths\", \n",
    "                \"Maintenance Fee\", \n",
    "                \"Tax Rate\", \n",
    "                \"Recent Market Value\", \n",
    "                \"Recent Tax Value\", \n",
    "                 \"index\"]\n",
    "cate = [\"status\", \"Property Type\", \"County\", \"Private Pool\", \"Area Pool\"]\n",
    "time_col = [\"date\"]\n",
    "cate_multi = [\"Foundation_multiclass\", \"Garage Types_multiclass\", \n",
    "            \"Roof Type_multiclass\", \"Pool_feature_multiclass\", \"floor_type_multiclass\", \n",
    "            \"finance_option_multiclass\", \"Exterior Type_multiclass\", \"Style_multiclass\"]\n",
    "\n",
    "add_numerial_features = [\"elementary_school_star\", \"middle_school_star\", \"high_school_star\"]\n",
    "add_cate_multi = [\"school_org\"] # [\"school_names\", \"school_grades\", \"school_org\"]\n",
    "text_embedding_col = [\"general_desc_roberta_mean_features\"]\n",
    "img_embedding_col = [\"img_emb\"]\n",
    "raw_df = pd.read_pickle(\"../data/property_structured_12162024.pkl\").reset_index(drop=True)\n",
    "raw_df[\"index\"] = np.arange(len(raw_df))\n",
    "raw_df[\"date\"] = raw_df[\"date\"].apply(lambda x: x.replace(\"_\", \"-\"))\n",
    "dense_features = dense_features + add_numerial_features\n",
    "cate_multi = cate_multi + add_cate_multi\n",
    "\n",
    "for feat in dense_features:\n",
    "    raw_df[feat] = raw_df[feat].fillna(raw_df[feat].mean())\n",
    "\n",
    "col_to_stype = {}\n",
    "col_to_stype.update({d: stype.numerical for d in dense_features})\n",
    "col_to_stype.update({d: stype.timestamp for d in time_col})\n",
    "col_to_stype.update({target: stype.numerical})\n",
    "col_to_stype.update({d: stype.categorical for d in cate})\n",
    "col_to_stype.update({d: stype.multicategorical for d in cate_multi})\n",
    "raw_df = raw_df[dense_features + cate + cate_multi + time_col + [target]]\n",
    "stype_encoder_dict = stype_encoder_dict_2\n",
    "\n",
    "for col in cate_multi:\n",
    "    raw_df[col] = raw_df[col].apply(lambda d: d if isinstance(d, list) else [])\n",
    "\n",
    "dataset = Dataset(\n",
    "    raw_df, \n",
    "    col_to_stype=col_to_stype,\n",
    "    target_col=\"price\"\n",
    ")\n",
    "dataset.materialize()\n",
    "torch.manual_seed(10)\n",
    "dataset.shuffle()\n",
    "train_dataset, val_dataset = dataset[:0.8], dataset[0.80:]"
   ]
  },
  {
   "cell_type": "code",
   "execution_count": 3,
   "id": "0f339716-6641-4035-bc46-1ac08682a756",
   "metadata": {},
   "outputs": [
    {
     "data": {
      "text/plain": [
       "TensorFrame(\n",
       "  num_cols=30,\n",
       "  num_rows=169568,\n",
       "  numerical (15): ['Baths', 'Bedrooms', 'Garage Number', 'LAT', 'LON', 'Lot Size', 'Maintenance Fee', 'Recent Market Value', 'Recent Tax Value', 'Tax Rate', 'Year Built', 'building_sqft', 'elementary_school_star', 'high_school_star', 'middle_school_star'],\n",
       "  timestamp (1): ['date'],\n",
       "  categorical (5): ['Area Pool', 'County', 'Private Pool', 'Property Type', 'status'],\n",
       "  multicategorical (9): ['Exterior Type_multiclass', 'Foundation_multiclass', 'Garage Types_multiclass', 'Pool_feature_multiclass', 'Roof Type_multiclass', 'Style_multiclass', 'finance_option_multiclass', 'floor_type_multiclass', 'school_org'],\n",
       "  has_target=True,\n",
       "  device='cpu',\n",
       ")"
      ]
     },
     "execution_count": 3,
     "metadata": {},
     "output_type": "execute_result"
    }
   ],
   "source": [
    "train_loader = DataLoader(train_dataset.tensor_frame, \n",
    "                          batch_size=1024,\n",
    "                          shuffle=True)\n",
    "train_iter = iter(train_loader)\n",
    "train_loader.tensor_frame"
   ]
  },
  {
   "cell_type": "code",
   "execution_count": 4,
   "id": "65c40cfa-117a-40bc-ab0f-f908fde7bb98",
   "metadata": {},
   "outputs": [],
   "source": [
    "def load_argparse(filename):\n",
    "    with open(filename, \"r\") as f:\n",
    "        args = json.load(f)\n",
    "    return args\n",
    "\n",
    "args = load_argparse(\"../model_checkpoints/tabformer_t90/config.cfg\")\n",
    "args\n",
    "\n",
    "model = TabTransformer(\n",
    "        channels=args[\"tabformer_channels\"],\n",
    "        num_layers=args[\"tabformer_num_layers\"],\n",
    "        num_heads=args[\"tabformer_num_heads\"],\n",
    "        col_stats=train_dataset.col_stats,\n",
    "        col_names_dict=train_dataset.tensor_frame.col_names_dict,\n",
    "        stype_encoder_dict=stype_encoder_dict, \n",
    ").to(\"cuda:0\")"
   ]
  },
  {
   "cell_type": "code",
   "execution_count": 5,
   "id": "10208a9f-aaf6-4d94-99a8-2c822513e304",
   "metadata": {},
   "outputs": [],
   "source": [
    "optimizer = torch.optim.Adam(model.parameters(), lr=0.0001) \n",
    "loss_fn = MSELoss()"
   ]
  },
  {
   "cell_type": "code",
   "execution_count": 6,
   "id": "0eaf1ef5-d3ee-431f-a3c1-c3a8c6d1b9bc",
   "metadata": {},
   "outputs": [
    {
     "data": {
      "text/plain": [
       "tensor([-0.0123,  0.0067, -0.0096, -0.0017, -0.0086, -0.0094, -0.0008, -0.0128,\n",
       "         0.0118, -0.0026,  0.0017,  0.0152, -0.0071, -0.0064, -0.0032, -0.0096,\n",
       "        -0.0081, -0.0018,  0.0039, -0.0175,  0.0027,  0.0106,  0.0100, -0.0031,\n",
       "         0.0127,  0.0085,  0.0023,  0.0105,  0.0239,  0.0083, -0.0177,  0.0051],\n",
       "       device='cuda:0')"
      ]
     },
     "execution_count": 6,
     "metadata": {},
     "output_type": "execute_result"
    }
   ],
   "source": [
    "model.state_dict()[\"encoder.encoder_dict.numerical.weight\"][0]"
   ]
  },
  {
   "cell_type": "code",
   "execution_count": 7,
   "id": "4b50932c-5c1c-4310-b61a-da3fc9b98e2e",
   "metadata": {},
   "outputs": [],
   "source": [
    "losses = []"
   ]
  },
  {
   "cell_type": "code",
   "execution_count": 13,
   "id": "34a16b9d-f957-48f2-a18b-2d553d726ad5",
   "metadata": {},
   "outputs": [],
   "source": [
    "# with autograd.detect_anomaly():\n",
    "for i in range(10):\n",
    "    tf = next(train_iter)\n",
    "    tf = tf.to(\"cuda:0\", non_blocking=True)\n",
    "    optimizer.zero_grad()\n",
    "    pred = model(tf)\n",
    "    # print(pred, tf.y)\n",
    "    loss = loss_fn(pred, tf.y)\n",
    "    # print(loss)\n",
    "    loss.backward()\n",
    "    optimizer.step()\n",
    "    losses.append(loss.item())\n",
    "    losses[-1]"
   ]
  },
  {
   "cell_type": "code",
   "execution_count": 14,
   "id": "b5669e22-a30a-4434-aa3e-214c7b322c64",
   "metadata": {},
   "outputs": [
    {
     "data": {
      "text/plain": [
       "tensor([-0.0106,  0.0053, -0.0115, -0.0008, -0.0102, -0.0086, -0.0018, -0.0134,\n",
       "         0.0118, -0.0039,  0.0001,  0.0147, -0.0085, -0.0060, -0.0021, -0.0106,\n",
       "        -0.0093, -0.0005,  0.0037, -0.0166,  0.0044,  0.0126,  0.0109, -0.0034,\n",
       "         0.0146,  0.0094,  0.0032,  0.0109,  0.0222,  0.0087, -0.0173,  0.0034],\n",
       "       device='cuda:0')"
      ]
     },
     "execution_count": 14,
     "metadata": {},
     "output_type": "execute_result"
    }
   ],
   "source": [
    "model.state_dict()[\"encoder.encoder_dict.numerical.weight\"][0]"
   ]
  },
  {
   "cell_type": "code",
   "execution_count": 19,
   "id": "51d10c76-4f4b-450f-a66a-6c1fac211f8a",
   "metadata": {},
   "outputs": [],
   "source": [
    "train_tf = train_dataset.tensor_frame"
   ]
  },
  {
   "cell_type": "code",
   "execution_count": 21,
   "id": "29d324d2-e156-42c4-96bf-07320fa7f191",
   "metadata": {},
   "outputs": [],
   "source": [
    "feat = train_tf.feat_dict[train_tf.stypes[0]]"
   ]
  },
  {
   "cell_type": "code",
   "execution_count": 23,
   "id": "8870e2ff-8942-43a3-a82f-32d4f88423e7",
   "metadata": {},
   "outputs": [
    {
     "data": {
      "text/plain": [
       "tensor(nan)"
      ]
     },
     "execution_count": 23,
     "metadata": {},
     "output_type": "execute_result"
    }
   ],
   "source": [
    "torch.max(feat)"
   ]
  },
  {
   "cell_type": "code",
   "execution_count": 30,
   "id": "a797d036-2bd1-4271-8abe-eb9b6446abbd",
   "metadata": {},
   "outputs": [
    {
     "name": "stdout",
     "output_type": "stream",
     "text": [
      "torch.Size([1, 3]) torch.Size([3, 2])\n"
     ]
    },
    {
     "data": {
      "text/plain": [
       "tensor([[[1., 1.],\n",
       "         [4., 4.],\n",
       "         [9., 9.]]])"
      ]
     },
     "execution_count": 30,
     "metadata": {},
     "output_type": "execute_result"
    }
   ],
   "source": [
    "x = torch.Tensor([[1, 2, 3]])\n",
    "y = torch.Tensor([[1, 1], [2, 2], [3, 3]])\n",
    "print(x.shape, y.shape)\n",
    "torch.einsum(\"ij,jk->ijk\", x, y)"
   ]
  },
  {
   "cell_type": "code",
   "execution_count": 31,
   "id": "6cc77d14-b98b-481f-b6a9-04783f6879f7",
   "metadata": {},
   "outputs": [
    {
     "data": {
      "text/plain": [
       "TensorFrame(\n",
       "  num_cols=30,\n",
       "  num_rows=16,\n",
       "  numerical (15): ['Baths', 'Bedrooms', 'Garage Number', 'LAT', 'LON', 'Lot Size', 'Maintenance Fee', 'Recent Market Value', 'Recent Tax Value', 'Tax Rate', 'Year Built', 'building_sqft', 'elementary_school_star', 'high_school_star', 'middle_school_star'],\n",
       "  timestamp (1): ['date'],\n",
       "  categorical (5): ['Area Pool', 'County', 'Private Pool', 'Property Type', 'status'],\n",
       "  multicategorical (9): ['Exterior Type_multiclass', 'Foundation_multiclass', 'Garage Types_multiclass', 'Pool_feature_multiclass', 'Roof Type_multiclass', 'Style_multiclass', 'finance_option_multiclass', 'floor_type_multiclass', 'school_org'],\n",
       "  has_target=True,\n",
       "  device='cuda:0',\n",
       ")"
      ]
     },
     "execution_count": 31,
     "metadata": {},
     "output_type": "execute_result"
    }
   ],
   "source": [
    "tf"
   ]
  },
  {
   "cell_type": "code",
   "execution_count": 46,
   "id": "dd7bd2f7-83bd-4b3b-afc6-7a0e443c9097",
   "metadata": {},
   "outputs": [],
   "source": [
    "tf = next(train_iter)"
   ]
  },
  {
   "cell_type": "code",
   "execution_count": 57,
   "id": "2aef3a6b-b0ad-4d03-9cf6-0b4f4d9b0700",
   "metadata": {},
   "outputs": [],
   "source": [
    "col_names = model.encoder.col_names_dict[stype]"
   ]
  },
  {
   "cell_type": "code",
   "execution_count": 79,
   "id": "58d637e3-a499-408f-a6e6-21da86977411",
   "metadata": {},
   "outputs": [],
   "source": [
    "stype = tf.stypes[0]\n",
    "feat = tf.feat_dict[stype].to(\"cuda:0\")\n",
    "linear_encoder = model.encoder.encoder_dict[stype.value]\n",
    "# model.encoder.encoder_dict[stype.value](feat[2:3], col_names)"
   ]
  },
  {
   "cell_type": "code",
   "execution_count": 29,
   "id": "5bbb10a1-8004-4cd2-921b-87142972ff03",
   "metadata": {},
   "outputs": [],
   "source": [
    "## Get the validation set address"
   ]
  },
  {
   "cell_type": "code",
   "execution_count": 30,
   "id": "0e3746c1-6f9a-4499-a397-826f77fbe954",
   "metadata": {},
   "outputs": [
    {
     "data": {
      "text/plain": [
       "['Baths',\n",
       " 'Bedrooms',\n",
       " 'Garage Number',\n",
       " 'LAT',\n",
       " 'LON',\n",
       " 'Lot Size',\n",
       " 'Maintenance Fee',\n",
       " 'Recent Market Value',\n",
       " 'Recent Tax Value',\n",
       " 'Tax Rate',\n",
       " 'Year Built',\n",
       " 'building_sqft',\n",
       " 'elementary_school_star',\n",
       " 'high_school_star',\n",
       " 'index',\n",
       " 'middle_school_star']"
      ]
     },
     "execution_count": 30,
     "metadata": {},
     "output_type": "execute_result"
    }
   ],
   "source": [
    "raw_df = pd.read_pickle(\"../data/property_structured_12162024.pkl\").reset_index(drop=True)\n",
    "raw_df[\"index\"] = np.arange(len(raw_df))\n",
    "val_tf = val_dataset.tensor_frame\n",
    "stype = val_tf.stypes[0]\n",
    "val_tf.col_names_dict[stype]"
   ]
  },
  {
   "cell_type": "code",
   "execution_count": 31,
   "id": "6d3e0788-f987-4d6b-b8aa-12520a565255",
   "metadata": {},
   "outputs": [
    {
     "name": "stderr",
     "output_type": "stream",
     "text": [
      "/tmp/ipykernel_2325/2765142923.py:1: DeprecationWarning: `np.int` is a deprecated alias for the builtin `int`. To silence this warning, use `int` by itself. Doing this will not modify any behavior and is safe. When replacing `np.int`, you may wish to use e.g. `np.int64` or `np.int32` to specify the precision. If you wish to review your current use, check the release note link for additional information.\n",
      "Deprecated in NumPy 1.20; for more details and guidance: https://numpy.org/devdocs/release/1.20.0-notes.html#deprecations\n",
      "  val_indices = val_tf.feat_dict[stype][:, -2].clone().numpy().astype(np.int)\n"
     ]
    },
    {
     "data": {
      "text/plain": [
       "array([169568, 169569, 169570, ..., 211957, 211958, 211959])"
      ]
     },
     "execution_count": 31,
     "metadata": {},
     "output_type": "execute_result"
    }
   ],
   "source": [
    "val_indices = val_tf.feat_dict[stype][:, -2].clone().numpy().astype(np.int)\n",
    "val_indices"
   ]
  },
  {
   "cell_type": "code",
   "execution_count": 32,
   "id": "c22cc313-dbb6-4f4d-b155-b1034f20e941",
   "metadata": {},
   "outputs": [],
   "source": [
    "s1 = set(raw_df[\"index\"].values)\n",
    "s2 = set(val_indices)"
   ]
  },
  {
   "cell_type": "code",
   "execution_count": 37,
   "id": "70ec95c2-c915-44ec-a557-3203fd848e54",
   "metadata": {},
   "outputs": [],
   "source": [
    "# raw_df[raw_df[\"index\"].apply(lambda x: x in s2)].drop([\"index\"], axis=1).to_pickle(\"../data/property_structured_12162024_validation.pkl\")"
   ]
  },
  {
   "cell_type": "code",
   "execution_count": 26,
   "id": "48617764-f646-4b62-b6cd-9b5e472467a4",
   "metadata": {},
   "outputs": [
    {
     "data": {
      "text/plain": [
       "42392"
      ]
     },
     "execution_count": 26,
     "metadata": {},
     "output_type": "execute_result"
    }
   ],
   "source": []
  },
  {
   "cell_type": "code",
   "execution_count": null,
   "id": "ee4909c9-1309-4341-9d03-6524e88ef7e8",
   "metadata": {},
   "outputs": [],
   "source": []
  }
 ],
 "metadata": {
  "kernelspec": {
   "display_name": "Python 3 (ipykernel)",
   "language": "python",
   "name": "python3"
  },
  "language_info": {
   "codemirror_mode": {
    "name": "ipython",
    "version": 3
   },
   "file_extension": ".py",
   "mimetype": "text/x-python",
   "name": "python",
   "nbconvert_exporter": "python",
   "pygments_lexer": "ipython3",
   "version": "3.10.9"
  }
 },
 "nbformat": 4,
 "nbformat_minor": 5
}
