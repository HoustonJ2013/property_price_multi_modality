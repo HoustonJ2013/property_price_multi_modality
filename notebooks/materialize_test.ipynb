{
 "cells": [
  {
   "cell_type": "code",
   "execution_count": 1,
   "id": "1f900340-b37d-45a4-9a8b-1ee4a6878531",
   "metadata": {},
   "outputs": [],
   "source": [
    "import torch\n",
    "from torch.autograd import Variable\n",
    "import shap\n",
    "import numpy\n",
    "import pandas\n",
    "import argparse\n",
    "import os \n",
    "from typing import Any, Dict, List\n",
    "import pandas as pd\n",
    "from torch.nn import MSELoss, L1Loss\n",
    "import numpy as np\n",
    "import json \n",
    "import random\n",
    "from tqdm import tqdm\n",
    "from pathlib import Path\n",
    "from scipy.stats import binned_statistic\n",
    "import matplotlib.pylab as plt\n",
    "\n",
    "\n",
    "import torch\n",
    "\n",
    "import torch_frame\n",
    "from torch.nn import Linear, Module\n",
    "from torch_frame.data import Dataset\n",
    "from torch_frame.data import DataLoader\n",
    "from torch_frame import TensorFrame, stype\n",
    "from torch_frame.nn.models.ft_transformer import FTTransformer\n",
    "from torch.nn import Linear, Module, ModuleList\n",
    "from typing import Any, Dict, List\n",
    "from torch import Tensor\n",
    "import torch \n",
    "\n",
    "import torch_frame\n",
    "from torch_frame import TensorFrame, stype\n",
    "from torch_frame.data.stats import StatType\n",
    "from torch_frame.nn.conv import TabTransformerConv, FTTransformerConvs\n",
    "from torch_frame.nn.encoder import (\n",
    "    EmbeddingEncoder,\n",
    "    LinearEncoder,\n",
    "    LinearEmbeddingEncoder,\n",
    "    StypeWiseFeatureEncoder,\n",
    "    MultiCategoricalEmbeddingEncoder,\n",
    "    TimestampEncoder,\n",
    ")\n",
    "\n",
    "import sys\n",
    "sys.path.append('../modeling/')\n",
    "\n",
    "from model import TabTransformer, stype_encoder_dict_2, stype_encoder_dict_3\n",
    "from train import get_args_parser"
   ]
  },
  {
   "cell_type": "code",
   "execution_count": 2,
   "id": "7c7597f8-e4c2-4123-9de0-aa8e2d9035e8",
   "metadata": {},
   "outputs": [],
   "source": [
    "target = \"price\"\n",
    "dense_features = [\"LON\", \n",
    "                \"LAT\", \n",
    "                \"building_sqft\", \n",
    "                \"Lot Size\", \n",
    "                \"Year Built\", \n",
    "                \"Garage Number\", \n",
    "                \"Bedrooms\", \n",
    "                \"Baths\", \n",
    "                \"Maintenance Fee\", \n",
    "                \"Tax Rate\", \n",
    "                \"Recent Market Value\", \n",
    "                \"Recent Tax Value\", \n",
    "                 \"index\"]\n",
    "cate = [\"status\", \"Property Type\", \"County\", \"Private Pool\", \"Area Pool\"]\n",
    "time_col = [\"date\"]\n",
    "cate_multi = [\"Foundation_multiclass\", \"Garage Types_multiclass\", \n",
    "            \"Roof Type_multiclass\", \"Pool_feature_multiclass\", \"floor_type_multiclass\", \n",
    "            \"finance_option_multiclass\", \"Exterior Type_multiclass\", \"Style_multiclass\"]\n",
    "\n",
    "add_numerial_features = [\"elementary_school_star\", \"middle_school_star\", \"high_school_star\"]\n",
    "add_cate_multi = [\"school_org\"] # [\"school_names\", \"school_grades\", \"school_org\"]\n",
    "text_embedding_col = [\"general_desc_roberta_mean_features\"]\n",
    "img_embedding_col = [\"img_emb\"]\n",
    "raw_df = pd.read_pickle(\"../data/property_structured_12162024.pkl\").reset_index(drop=True)\n",
    "raw_df[\"index\"] = np.arange(len(raw_df))\n",
    "raw_df[\"date\"] = raw_df[\"date\"].apply(lambda x: x.replace(\"_\", \"-\"))\n",
    "dense_features = dense_features + add_numerial_features\n",
    "cate_multi = cate_multi + add_cate_multi\n",
    "\n",
    "for feat in dense_features:\n",
    "    raw_df[feat] = raw_df[feat].fillna(raw_df[feat].mean())\n",
    "\n",
    "col_to_stype = {}\n",
    "col_to_stype.update({d: stype.numerical for d in dense_features})\n",
    "col_to_stype.update({d: stype.timestamp for d in time_col})\n",
    "col_to_stype.update({target: stype.numerical})\n",
    "col_to_stype.update({d: stype.categorical for d in cate})\n",
    "col_to_stype.update({d: stype.multicategorical for d in cate_multi})\n",
    "raw_df = raw_df[dense_features + cate + cate_multi + time_col + [target]]\n",
    "stype_encoder_dict = stype_encoder_dict_2\n",
    "\n",
    "for col in cate_multi:\n",
    "    raw_df[col] = raw_df[col].apply(lambda d: d if isinstance(d, list) else [])\n",
    "\n",
    "dataset = Dataset(\n",
    "    raw_df, \n",
    "    col_to_stype=col_to_stype,\n",
    "    target_col=\"price\"\n",
    ")\n",
    "dataset.materialize()\n",
    "torch.manual_seed(10)\n",
    "dataset.shuffle()\n",
    "train_dataset, val_dataset = dataset[:0.8], dataset[0.80:]"
   ]
  },
  {
   "cell_type": "code",
   "execution_count": 3,
   "id": "1fb6f723-f79b-4fb6-bc18-392186d01b32",
   "metadata": {},
   "outputs": [
    {
     "data": {
      "text/plain": [
       "True"
      ]
     },
     "execution_count": 3,
     "metadata": {},
     "output_type": "execute_result"
    }
   ],
   "source": [
    "train_dataset.col_stats == dataset.col_stats"
   ]
  },
  {
   "cell_type": "code",
   "execution_count": 4,
   "id": "ee4909c9-1309-4341-9d03-6524e88ef7e8",
   "metadata": {},
   "outputs": [
    {
     "data": {
      "text/plain": [
       "(211960, 169568)"
      ]
     },
     "execution_count": 4,
     "metadata": {},
     "output_type": "execute_result"
    }
   ],
   "source": [
    "len(dataset), len(train_dataset)"
   ]
  },
  {
   "cell_type": "code",
   "execution_count": 5,
   "id": "58d25286-27a8-40e9-9287-f325e49392a0",
   "metadata": {},
   "outputs": [],
   "source": [
    "batch_size = 1000 \n",
    "n_batches = 5\n",
    "all_datasets = []\n",
    "for i in range(n_batches):\n",
    "    d_ = Dataset(raw_df.iloc[batch_size * i : batch_size * (i + 1)], \n",
    "                 col_to_stype=col_to_stype, \n",
    "                 target_col=\"price\")\n",
    "    d_.materialize(col_stats=train_dataset.col_stats)\n",
    "    all_datasets.append(d_)"
   ]
  },
  {
   "cell_type": "code",
   "execution_count": 6,
   "id": "7f3940cc-f8c5-4cb8-bb5c-88d41371543d",
   "metadata": {},
   "outputs": [],
   "source": [
    "# all_datasets[0].col_stats[\"County\"], all_datasets[1].col_stats[\"County\"]"
   ]
  },
  {
   "cell_type": "code",
   "execution_count": 7,
   "id": "931d02cf-5b17-4490-bff4-47044ea281c1",
   "metadata": {},
   "outputs": [],
   "source": [
    "# all_datasets[0].tensor_frame.feat_dict"
   ]
  },
  {
   "cell_type": "code",
   "execution_count": 8,
   "id": "691c2654-d765-4a71-8efe-b48fe79ae6f6",
   "metadata": {},
   "outputs": [
    {
     "data": {
      "text/plain": [
       "['single family',\n",
       " 'townhouse/condo',\n",
       " 'residential/condo',\n",
       " 'townhouse',\n",
       " 'mid/hi-rise condo',\n",
       " 'country homes/acreage',\n",
       " 'residential/mobile home',\n",
       " 'multi-family',\n",
       " 'residential/manufactured',\n",
       " '',\n",
       " 'residential',\n",
       " 'residential/lot',\n",
       " 'residential - modular',\n",
       " 'farm',\n",
       " 'farm - manufactured home',\n",
       " 'lots',\n",
       " 'land / unimproved land']"
      ]
     },
     "execution_count": 8,
     "metadata": {},
     "output_type": "execute_result"
    }
   ],
   "source": [
    "all_datasets[0].col_stats[\"Property Type\"][StatType.COUNT][0]"
   ]
  },
  {
   "cell_type": "code",
   "execution_count": 9,
   "id": "16355b55-77ac-459a-bd80-8761a3274945",
   "metadata": {},
   "outputs": [
    {
     "data": {
      "text/plain": [
       "['single family',\n",
       " 'townhouse/condo',\n",
       " 'residential/condo',\n",
       " 'townhouse',\n",
       " 'mid/hi-rise condo',\n",
       " 'country homes/acreage',\n",
       " 'residential/mobile home',\n",
       " 'multi-family',\n",
       " 'residential/manufactured',\n",
       " '',\n",
       " 'residential',\n",
       " 'residential/lot',\n",
       " 'residential - modular',\n",
       " 'farm',\n",
       " 'farm - manufactured home',\n",
       " 'lots',\n",
       " 'land / unimproved land']"
      ]
     },
     "execution_count": 9,
     "metadata": {},
     "output_type": "execute_result"
    }
   ],
   "source": [
    "all_datasets[1].col_stats[\"Property Type\"][StatType.COUNT][0]"
   ]
  },
  {
   "cell_type": "code",
   "execution_count": 10,
   "id": "c69738fe-1e48-487e-90cc-6717f658284c",
   "metadata": {},
   "outputs": [
    {
     "data": {
      "text/plain": [
       "torch.Size([2000, 5])"
      ]
     },
     "execution_count": 10,
     "metadata": {},
     "output_type": "execute_result"
    }
   ],
   "source": [
    "combine = torch.concat([all_datasets[0].tensor_frame.feat_dict[stype.categorical], \n",
    "                        all_datasets[1].tensor_frame.feat_dict[stype.categorical]], \n",
    "                       axis=0)\n",
    "combine.shape"
   ]
  },
  {
   "cell_type": "code",
   "execution_count": 11,
   "id": "22c33be5-a899-4f65-83ae-470bb0b72be6",
   "metadata": {},
   "outputs": [],
   "source": [
    "c = Dataset(raw_df.iloc[0: 2000], \n",
    "                 col_to_stype=col_to_stype, \n",
    "                 target_col=\"price\")\n",
    "c.materialize(col_stats=train_dataset.col_stats)\n",
    "c2 = c.tensor_frame.feat_dict[stype.categorical]"
   ]
  },
  {
   "cell_type": "code",
   "execution_count": 12,
   "id": "4a6c7685-33a9-4c55-b19b-5f7de98f5770",
   "metadata": {},
   "outputs": [
    {
     "data": {
      "text/plain": [
       "tensor([0, 0, 0, 0, 0])"
      ]
     },
     "execution_count": 12,
     "metadata": {},
     "output_type": "execute_result"
    }
   ],
   "source": [
    "torch.sum(c2 != combine, axis=0)"
   ]
  },
  {
   "cell_type": "code",
   "execution_count": null,
   "id": "cca9c325-e652-4133-8afc-d7e5bc21cfc0",
   "metadata": {},
   "outputs": [],
   "source": []
  }
 ],
 "metadata": {
  "kernelspec": {
   "display_name": "Python 3 (ipykernel)",
   "language": "python",
   "name": "python3"
  },
  "language_info": {
   "codemirror_mode": {
    "name": "ipython",
    "version": 3
   },
   "file_extension": ".py",
   "mimetype": "text/x-python",
   "name": "python",
   "nbconvert_exporter": "python",
   "pygments_lexer": "ipython3",
   "version": "3.11.10"
  }
 },
 "nbformat": 4,
 "nbformat_minor": 5
}
