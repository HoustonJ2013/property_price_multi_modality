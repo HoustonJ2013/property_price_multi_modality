{
 "cells": [
  {
   "cell_type": "code",
   "execution_count": 1,
   "id": "6b6c4b05-8ac6-4c1d-964d-883e9d37d138",
   "metadata": {},
   "outputs": [],
   "source": [
    "import torch\n",
    "from torch.autograd import Variable\n",
    "import shap\n",
    "import numpy\n",
    "import pandas\n",
    "import argparse\n",
    "import os \n",
    "from typing import Any, Dict, List\n",
    "import pandas as pd\n",
    "from torch.nn import MSELoss, L1Loss\n",
    "import numpy as np\n",
    "import json \n",
    "import random\n",
    "from tqdm import tqdm\n",
    "from pathlib import Path\n",
    "from scipy.stats import binned_statistic\n",
    "import matplotlib.pylab as plt\n",
    "\n",
    "\n",
    "import torch\n",
    "\n",
    "import torch_frame\n",
    "from torch.nn import Linear, Module\n",
    "from torch_frame.data import Dataset\n",
    "from torch_frame.data import DataLoader\n",
    "from torch_frame import TensorFrame, stype\n",
    "from torch_frame.nn.models.ft_transformer import FTTransformer\n",
    "from torch.nn import Linear, Module, ModuleList\n",
    "from typing import Any, Dict, List\n",
    "from torch import Tensor\n",
    "import torch \n",
    "\n",
    "import torch_frame\n",
    "from torch_frame import TensorFrame, stype\n",
    "from torch_frame.data.stats import StatType\n",
    "from torch_frame.nn.conv import TabTransformerConv, FTTransformerConvs\n",
    "from torch_frame.nn.encoder import (\n",
    "    EmbeddingEncoder,\n",
    "    LinearEncoder,\n",
    "    LinearEmbeddingEncoder,\n",
    "    StypeWiseFeatureEncoder,\n",
    "    MultiCategoricalEmbeddingEncoder,\n",
    "    TimestampEncoder,\n",
    ")\n",
    "\n",
    "\n",
    "import sys\n",
    "sys.path.append('../modeling/')\n",
    "\n",
    "from model import TabTransformer, stype_encoder_dict_2, stype_encoder_dict_3"
   ]
  },
  {
   "cell_type": "code",
   "execution_count": 2,
   "id": "46e597cf-a0dd-4278-b22f-3af6b004a9c0",
   "metadata": {},
   "outputs": [],
   "source": [
    "target = \"price\"\n",
    "dense_features = [\"LON\", \n",
    "                \"LAT\", \n",
    "                \"building_sqft\", \n",
    "                \"Lot Size\", \n",
    "                \"Year Built\", \n",
    "                \"Garage Number\", \n",
    "                \"Bedrooms\", \n",
    "                \"Baths\", \n",
    "                \"Maintenance Fee\", \n",
    "                \"Tax Rate\", \n",
    "                \"Recent Market Value\", \n",
    "                \"Recent Tax Value\"]\n",
    "cate = [\"status\", \"Property Type\", \"County\", \"Private Pool\", \"Area Pool\"]\n",
    "time_col = [\"date\"]\n",
    "cate_multi = [\"Foundation_multiclass\", \"Garage Types_multiclass\", \n",
    "            \"Roof Type_multiclass\", \"Pool_feature_multiclass\", \"floor_type_multiclass\", \n",
    "            \"finance_option_multiclass\", \"Exterior Type_multiclass\", \"Style_multiclass\"]\n",
    "\n",
    "add_numerial_features = [\"elementary_school_star\", \"middle_school_star\", \"high_school_star\"]\n",
    "add_cate_multi = [\"school_org\"] # [\"school_names\", \"school_grades\", \"school_org\"]\n",
    "text_embedding_col = [\"general_desc_roberta_mean_features\"]\n",
    "img_embedding_col = [\"img_emb\"]\n",
    "raw_df = pd.read_pickle(\"../data/property_structured_12162024.pkl\").reset_index(drop=True)"
   ]
  },
  {
   "cell_type": "code",
   "execution_count": 3,
   "id": "1459fa82-33e7-4b04-bfa6-7baba1ef07f9",
   "metadata": {},
   "outputs": [],
   "source": [
    "raw_df[\"date\"] = raw_df[\"date\"].apply(lambda x: x.replace(\"_\", \"-\"))\n",
    "# raw_df[\"date\"] = pd.to_datetime(raw_df[\"date\"])\n",
    "dense_features = dense_features + add_numerial_features\n",
    "cate_multi = cate_multi + add_cate_multi\n",
    "\n",
    "col_to_stype = {}\n",
    "col_to_stype = {d: stype.numerical for d in dense_features}\n",
    "col_to_stype.update({d: stype.timestamp for d in time_col})\n",
    "col_to_stype.update({target: stype.numerical})\n",
    "col_to_stype.update({d: stype.categorical for d in cate})\n",
    "col_to_stype.update({d: stype.multicategorical for d in cate_multi})\n",
    "\n",
    "text_emb_df = pd.read_pickle(\"../data/property_structured_12162024_general_desc_features.pkl\")\n",
    "raw_df = raw_df.join(text_emb_df.set_index(\"address_key\")[text_embedding_col], \n",
    "             on=\"address_key\", \n",
    "             how=\"left\")\n",
    "img_emb_df = pd.read_pickle(\"../data/property_structured_12162024_image_dinov2s_cls_mean.pkl\")\n",
    "raw_df = raw_df.join(img_emb_df.set_index(\"address_key\")[[\"img_emb\"]], \n",
    "             on=\"address_key\", \n",
    "             how=\"left\")\n",
    "raw_df = raw_df[dense_features + cate + cate_multi + time_col + text_embedding_col + img_embedding_col + [target]]\n",
    "col_to_stype.update({d: stype.embedding for d in img_embedding_col + text_embedding_col})\n",
    "stype_encoder_dict = stype_encoder_dict_3\n",
    "\n",
    "for col in cate_multi:\n",
    "    raw_df[col] = raw_df[col].apply(lambda d: d if isinstance(d, list) else [])\n",
    "\n",
    "dataset = Dataset(\n",
    "    raw_df, \n",
    "    col_to_stype=col_to_stype,\n",
    "    target_col=\"price\"\n",
    ")\n",
    "dataset.materialize(path=\"../data/property_structured_12162024_tabformer_t32c.pt\")\n",
    "torch.manual_seed(10)\n",
    "dataset.shuffle()\n",
    "train_dataset, val_dataset = dataset[:0.8], dataset[0.80:]"
   ]
  },
  {
   "cell_type": "code",
   "execution_count": 4,
   "id": "d18b50b2-940d-4963-96be-66f6bf1bab84",
   "metadata": {},
   "outputs": [
    {
     "data": {
      "text/plain": [
       "TensorFrame(\n",
       "  num_cols=32,\n",
       "  num_rows=169568,\n",
       "  numerical (15): ['Baths', 'Bedrooms', 'Garage Number', 'LAT', 'LON', 'Lot Size', 'Maintenance Fee', 'Recent Market Value', 'Recent Tax Value', 'Tax Rate', 'Year Built', 'building_sqft', 'elementary_school_star', 'high_school_star', 'middle_school_star'],\n",
       "  timestamp (1): ['date'],\n",
       "  categorical (5): ['Area Pool', 'County', 'Private Pool', 'Property Type', 'status'],\n",
       "  multicategorical (9): ['Exterior Type_multiclass', 'Foundation_multiclass', 'Garage Types_multiclass', 'Pool_feature_multiclass', 'Roof Type_multiclass', 'Style_multiclass', 'finance_option_multiclass', 'floor_type_multiclass', 'school_org'],\n",
       "  embedding (2): ['general_desc_roberta_mean_features', 'img_emb'],\n",
       "  has_target=True,\n",
       "  device='cpu',\n",
       ")"
      ]
     },
     "execution_count": 4,
     "metadata": {},
     "output_type": "execute_result"
    }
   ],
   "source": [
    "train_loader = DataLoader(train_dataset.tensor_frame, \n",
    "                          batch_size=2048,\n",
    "                          shuffle=True)\n",
    "val_loader = DataLoader(val_dataset.tensor_frame, batch_size=16)\n",
    "train_loader.tensor_frame"
   ]
  },
  {
   "cell_type": "code",
   "execution_count": 5,
   "id": "4e73890a-8508-4d91-88fa-803377b6f331",
   "metadata": {},
   "outputs": [],
   "source": [
    "train_iter = iter(train_loader)\n",
    "val_iter = iter(val_loader)\n",
    "tf = next(train_iter)\n",
    "all_col_names = []\n",
    "for stype in tf.stypes:\n",
    "    col_names = train_loader.tensor_frame.col_names_dict[stype]\n",
    "    all_col_names.extend(col_names)"
   ]
  },
  {
   "cell_type": "code",
   "execution_count": 6,
   "id": "dff7d075-ad67-49b3-9125-305c3e0ba1de",
   "metadata": {},
   "outputs": [],
   "source": [
    "# \n",
    "tf = next(train_iter)\n",
    "tf_val = next(val_iter)"
   ]
  },
  {
   "cell_type": "code",
   "execution_count": 7,
   "id": "b06caf27-5e4a-4974-9e58-313ca88d24db",
   "metadata": {},
   "outputs": [],
   "source": [
    "# class TabTransformer(Module):\n",
    "#     def __init__(\n",
    "#         self,\n",
    "#         channels: int,\n",
    "#         num_layers: int,\n",
    "#         num_heads: int,\n",
    "#         col_stats: Dict[str, Dict[StatType, Any]],\n",
    "#         col_names_dict: Dict[torch_frame.stype, List[str]],\n",
    "#         stype_encoder_dict, \n",
    "#         out_channels: int = 1,\n",
    "#     ):\n",
    "#         super().__init__()\n",
    "#         self.encoder = StypeWiseFeatureEncoder(\n",
    "#             out_channels=channels,\n",
    "#             col_stats=col_stats,\n",
    "#             col_names_dict=col_names_dict,\n",
    "#             stype_encoder_dict=stype_encoder_dict,\n",
    "#         )\n",
    "#         self.tab_transformer_convs = ModuleList([\n",
    "#             TabTransformerConv(\n",
    "#                 channels=channels,\n",
    "#                 num_heads=num_heads,\n",
    "#             ) for _ in range(num_layers)\n",
    "#         ])\n",
    "#         self.decoder = Linear(channels, out_channels)\n",
    "\n",
    "#     def forward(self, x) -> Tensor:\n",
    "#         for tab_transformer_conv in self.tab_transformer_convs:\n",
    "#             x = tab_transformer_conv(x)\n",
    "#         out = self.decoder(x.mean(dim=1))\n",
    "#         return out\n",
    "    \n",
    "#     def encode(self, tf: TensorFrame) -> Tensor:\n",
    "#         x, all_col_names = self.encoder(tf)\n",
    "#         return x, all_col_names\n",
    "\n",
    "model = TabTransformer(\n",
    "        channels=32,\n",
    "        num_layers=8,\n",
    "        num_heads=8,\n",
    "        col_stats=train_dataset.col_stats,\n",
    "        col_names_dict=train_dataset.tensor_frame.col_names_dict,\n",
    "        stype_encoder_dict=stype_encoder_dict, \n",
    "    )"
   ]
  },
  {
   "cell_type": "code",
   "execution_count": 8,
   "id": "8774f9cf-2625-4110-9023-8733b53c6a00",
   "metadata": {},
   "outputs": [
    {
     "data": {
      "text/plain": [
       "tensor([-0.0086, -0.0094, -0.0008, -0.0128, -0.0041, -0.0096,  0.0093,  0.0056,\n",
       "        -0.0071, -0.0064, -0.0032, -0.0096, -0.0088,  0.0217,  0.0065, -0.0056,\n",
       "         0.0027,  0.0106,  0.0100, -0.0031, -0.0090, -0.0044,  0.0041, -0.0018,\n",
       "         0.0239,  0.0083, -0.0177,  0.0051,  0.0015, -0.0069, -0.0009,  0.0102])"
      ]
     },
     "execution_count": 8,
     "metadata": {},
     "output_type": "execute_result"
    }
   ],
   "source": [
    "model.state_dict()[\"encoder.encoder_dict.numerical.weight\"][0, :]"
   ]
  },
  {
   "cell_type": "code",
   "execution_count": 29,
   "id": "7b5e450b-7b55-4e75-bed8-a86d5af4ea7c",
   "metadata": {},
   "outputs": [],
   "source": [
    "model_path = \"../model_checkpoints/tabformer_t30/final_model.pth\"\n",
    "loaded = torch.load(model_path)\n",
    "# model.load_state_dict(loaded[\"model_weight\"])\n",
    "# _ = model.eval()\n",
    "# train_pred = model(tf)"
   ]
  },
  {
   "cell_type": "code",
   "execution_count": 27,
   "id": "bb7afcb2-f24b-4752-85f4-9bb1b08abfe4",
   "metadata": {},
   "outputs": [
    {
     "data": {
      "text/plain": [
       "tensor(60693.6602, grad_fn=<MeanBackward0>)"
      ]
     },
     "execution_count": 27,
     "metadata": {},
     "output_type": "execute_result"
    }
   ],
   "source": [
    "torch.mean(torch.abs((tf.y - train_pred)))"
   ]
  },
  {
   "cell_type": "code",
   "execution_count": 20,
   "id": "6da85644-a7ac-4618-8ada-5296f0a92105",
   "metadata": {},
   "outputs": [
    {
     "data": {
      "text/plain": [
       "tensor([683668.6250, 658774.2500, 327371.7500,  ..., 267615.8125,\n",
       "        317145.9375, 462647.2500], grad_fn=<SqueezeBackward0>)"
      ]
     },
     "execution_count": 20,
     "metadata": {},
     "output_type": "execute_result"
    }
   ],
   "source": [
    "train_pred"
   ]
  },
  {
   "cell_type": "code",
   "execution_count": 33,
   "id": "437fca96-ede7-4b7f-a5cf-6f013bb7f0ca",
   "metadata": {},
   "outputs": [
    {
     "data": {
      "text/plain": [
       "tensor([nan, nan, nan, nan, nan, nan, nan, nan, nan, nan, nan, nan, nan, nan, nan, nan, nan, nan, nan, nan, nan, nan, nan, nan,\n",
       "        nan, nan, nan, nan, nan, nan, nan, nan])"
      ]
     },
     "execution_count": 33,
     "metadata": {},
     "output_type": "execute_result"
    }
   ],
   "source": [
    "model.state_dict()[\"encoder.encoder_dict.numerical.weight\"][0, :]"
   ]
  },
  {
   "cell_type": "code",
   "execution_count": 40,
   "id": "92bb1b31-19f6-45fa-9f74-28d16fb3add2",
   "metadata": {},
   "outputs": [
    {
     "data": {
      "text/plain": [
       "['2.58',\n",
       " '3.53',\n",
       " '2.22',\n",
       " '-96.42',\n",
       " '30.84',\n",
       " '25683.35',\n",
       " '86.73',\n",
       " '407162.81',\n",
       " '369465.94',\n",
       " '31.52',\n",
       " '2002.74',\n",
       " '2247.74',\n",
       " '3.95',\n",
       " '3.79',\n",
       " '3.47']"
      ]
     },
     "execution_count": 40,
     "metadata": {},
     "output_type": "execute_result"
    }
   ],
   "source": [
    "stype = tf.stypes[0]\n",
    "[\"%0.2f\"%(f) for f in model.encoder.encoder_dict[stype.value].mean]"
   ]
  },
  {
   "cell_type": "code",
   "execution_count": 39,
   "id": "929d4eca-b9be-4455-bb6e-a804d26446cb",
   "metadata": {},
   "outputs": [
    {
     "data": {
      "text/plain": [
       "['0.88',\n",
       " '0.84',\n",
       " '36.54',\n",
       " '2.26',\n",
       " '1.48',\n",
       " '4184878.75',\n",
       " '166.84',\n",
       " '397780.06',\n",
       " '362370.81',\n",
       " '12332.50',\n",
       " '99.15',\n",
       " '967.13',\n",
       " '1.21',\n",
       " '1.15',\n",
       " '1.38']"
      ]
     },
     "execution_count": 39,
     "metadata": {},
     "output_type": "execute_result"
    }
   ],
   "source": [
    "[\"%0.2f\"%(f) for f in model.encoder.encoder_dict[stype.value].std]"
   ]
  },
  {
   "cell_type": "code",
   "execution_count": null,
   "id": "5a467701-4688-4cc1-9c38-1b5e5ea75d19",
   "metadata": {},
   "outputs": [],
   "source": []
  },
  {
   "cell_type": "code",
   "execution_count": null,
   "id": "83b21ffc-9a52-4f06-bb57-bcfc4076e958",
   "metadata": {},
   "outputs": [],
   "source": []
  },
  {
   "cell_type": "code",
   "execution_count": null,
   "id": "c412c63d-1e0b-4741-949b-262d70a51fa3",
   "metadata": {},
   "outputs": [],
   "source": []
  },
  {
   "cell_type": "code",
   "execution_count": null,
   "id": "96838022-7206-446a-a21c-b915c34b9d80",
   "metadata": {},
   "outputs": [],
   "source": []
  },
  {
   "cell_type": "code",
   "execution_count": null,
   "id": "3cfd6f34-405f-4610-b9f8-1a2fd433c677",
   "metadata": {},
   "outputs": [],
   "source": []
  },
  {
   "cell_type": "code",
   "execution_count": null,
   "id": "94f5ebe5-734d-4611-a1a0-5432b1fa98d5",
   "metadata": {},
   "outputs": [],
   "source": []
  },
  {
   "cell_type": "code",
   "execution_count": null,
   "id": "901bfa90-1c54-4256-950d-d844d0419376",
   "metadata": {},
   "outputs": [],
   "source": []
  },
  {
   "cell_type": "code",
   "execution_count": null,
   "id": "daceba96-83cb-46a4-8a52-7ffba64cfc9b",
   "metadata": {},
   "outputs": [],
   "source": []
  },
  {
   "cell_type": "code",
   "execution_count": 15,
   "id": "d865145c-5684-4d4b-95ee-40ddb127851f",
   "metadata": {},
   "outputs": [
    {
     "name": "stderr",
     "output_type": "stream",
     "text": [
      "/opt/conda/lib/python3.10/site-packages/shap/explainers/_deep/deep_pytorch.py:243: UserWarning: unrecognized nn.Module: GEGLU\n",
      "  warnings.warn(f'unrecognized nn.Module: {module_type}')\n",
      "/opt/conda/lib/python3.10/site-packages/shap/explainers/_deep/deep_pytorch.py:243: UserWarning: unrecognized nn.Module: LayerNorm\n",
      "  warnings.warn(f'unrecognized nn.Module: {module_type}')\n"
     ]
    }
   ],
   "source": [
    "torch.set_grad_enabled(True)\n",
    "e = shap.DeepExplainer(model, x)\n",
    "shap_values = e.shap_values(x_val, check_additivity=False)\n",
    "shap_values = shap_values.reshape(16, 32, 32)"
   ]
  },
  {
   "cell_type": "code",
   "execution_count": 16,
   "id": "0d890c01-054e-4a1e-a56f-3a4d311a77a9",
   "metadata": {},
   "outputs": [],
   "source": [
    "mean_abs_feature_importance = np.mean(np.mean(np.abs(shap_values), axis=2), axis=0)"
   ]
  },
  {
   "cell_type": "code",
   "execution_count": 17,
   "id": "e017e881-dc11-4759-b077-eae6521bd415",
   "metadata": {},
   "outputs": [
    {
     "data": {
      "text/plain": [
       "<BarContainer object of 32 artists>"
      ]
     },
     "execution_count": 17,
     "metadata": {},
     "output_type": "execute_result"
    },
    {
     "data": {
      "image/png": "[encoded data removed]",
      "text/plain": [
       "<Figure size 600x1000 with 1 Axes>"
      ]
     },
     "metadata": {},
     "output_type": "display_data"
    }
   ],
   "source": [
    "plt.figure(figsize=(6, 10))\n",
    "plt.barh(col_names, mean_abs_feature_importance)"
   ]
  },
  {
   "cell_type": "code",
   "execution_count": null,
   "id": "918119cf-b30d-42fb-9d0c-496b5371636b",
   "metadata": {},
   "outputs": [],
   "source": []
  }
 ],
 "metadata": {
  "kernelspec": {
   "display_name": "Python 3 (ipykernel)",
   "language": "python",
   "name": "python3"
  },
  "language_info": {
   "codemirror_mode": {
    "name": "ipython",
    "version": 3
   },
   "file_extension": ".py",
   "mimetype": "text/x-python",
   "name": "python",
   "nbconvert_exporter": "python",
   "pygments_lexer": "ipython3",
   "version": "3.10.9"
  }
 },
 "nbformat": 4,
 "nbformat_minor": 5
}
