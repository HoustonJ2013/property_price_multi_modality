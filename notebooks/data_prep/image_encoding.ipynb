{
 "cells": [
  {
   "cell_type": "code",
   "execution_count": 1,
   "id": "614f87c5-9521-49a4-9b43-7ed665f5366c",
   "metadata": {},
   "outputs": [],
   "source": [
    "import pandas as pd\n",
    "import numpy as np \n",
    "from multiprocessing import Pool\n",
    "from tqdm import tqdm\n",
    "import os\n",
    "import torch \n",
    "import warnings\n",
    "import json \n",
    "warnings.filterwarnings('ignore')\n",
    "pd.set_option('display.max_columns', 50)\n",
    "pd.set_option('display.max_rows', 500)\n",
    "pd.set_option(\"display.precision\", 1)"
   ]
  },
  {
   "cell_type": "code",
   "execution_count": 2,
   "id": "75499c69-94aa-4c63-baa6-2f6e05e99ec7",
   "metadata": {},
   "outputs": [],
   "source": [
    "# image_folder = \"/home/user/DataCenter/HAR_data/house_images/\"\n",
    "# img_paths = []\n",
    "# for i in tqdm(range(100)):\n",
    "#     for j in range(100):\n",
    "#         subfolder = os.path.join(image_folder, \"%04d/%04d/\"%(i,j))\n",
    "#         img_paths.extend([os.path.join(subfolder, f_) for f_ in os.listdir(subfolder)])"
   ]
  },
  {
   "cell_type": "code",
   "execution_count": 3,
   "id": "72876269-fef7-4229-94ea-e7e3d73f2d18",
   "metadata": {},
   "outputs": [
    {
     "data": {
      "text/html": [
       "<div>\n",
       "<style scoped>\n",
       "    .dataframe tbody tr th:only-of-type {\n",
       "        vertical-align: middle;\n",
       "    }\n",
       "\n",
       "    .dataframe tbody tr th {\n",
       "        vertical-align: top;\n",
       "    }\n",
       "\n",
       "    .dataframe thead th {\n",
       "        text-align: right;\n",
       "    }\n",
       "</style>\n",
       "<table border=\"1\" class=\"dataframe\">\n",
       "  <thead>\n",
       "    <tr style=\"text-align: right;\">\n",
       "      <th></th>\n",
       "      <th>address</th>\n",
       "      <th>harlink</th>\n",
       "      <th>mp_features</th>\n",
       "      <th>agent</th>\n",
       "      <th>price</th>\n",
       "      <th>posted_days</th>\n",
       "      <th>status</th>\n",
       "      <th>zipcode</th>\n",
       "      <th>num_beds</th>\n",
       "      <th>num_bath</th>\n",
       "      <th>num_half_bath</th>\n",
       "      <th>building_sqft</th>\n",
       "      <th>has_loft</th>\n",
       "      <th>num_stories</th>\n",
       "      <th>num_parking_space</th>\n",
       "      <th>address_key</th>\n",
       "      <th>date</th>\n",
       "      <th>json_path</th>\n",
       "      <th>time_epoch</th>\n",
       "      <th>image_path</th>\n",
       "      <th>json_size</th>\n",
       "      <th>image_cnt</th>\n",
       "      <th>LAT</th>\n",
       "      <th>LON</th>\n",
       "      <th>building_sqft2</th>\n",
       "      <th>...</th>\n",
       "      <th>Baths</th>\n",
       "      <th>Maintenance Fee</th>\n",
       "      <th>Tax Rate</th>\n",
       "      <th>tax_rate2</th>\n",
       "      <th>Recent Market Value</th>\n",
       "      <th>Recent Tax Value</th>\n",
       "      <th>Property Type</th>\n",
       "      <th>County</th>\n",
       "      <th>Private Pool</th>\n",
       "      <th>Area Pool</th>\n",
       "      <th>Private_pool_desc</th>\n",
       "      <th>Pool_feature_multiclass</th>\n",
       "      <th>Foundation_multiclass</th>\n",
       "      <th>Garage Types_multiclass</th>\n",
       "      <th>Roof Type_multiclass</th>\n",
       "      <th>floor_type_multiclass</th>\n",
       "      <th>Exterior Type_multiclass</th>\n",
       "      <th>Exterior_multiclass</th>\n",
       "      <th>Style_multiclass</th>\n",
       "      <th>finance_option_multiclass</th>\n",
       "      <th>high_school_star</th>\n",
       "      <th>middle_school_star</th>\n",
       "      <th>elementary_school_star</th>\n",
       "      <th>school_org</th>\n",
       "      <th>general_desc</th>\n",
       "    </tr>\n",
       "  </thead>\n",
       "  <tbody>\n",
       "    <tr>\n",
       "      <th>57</th>\n",
       "      <td>4513 Refugio Dr, Plano, TX 75024</td>\n",
       "      <td>https://www.har.com//homedetail/4513-refugio-d...</td>\n",
       "      <td>4 bedrooms 3,395 Sqft. ($233/Sqft.) 3 full &amp; 1...</td>\n",
       "      <td>Karla Davis     Fathom Realty</td>\n",
       "      <td>789990.0</td>\n",
       "      <td>66.0</td>\n",
       "      <td>Under Contract - P</td>\n",
       "      <td>75024</td>\n",
       "      <td>4.0</td>\n",
       "      <td>0.0</td>\n",
       "      <td>0.0</td>\n",
       "      <td>3395.0</td>\n",
       "      <td>0.0</td>\n",
       "      <td>0.0</td>\n",
       "      <td>0.0</td>\n",
       "      <td>4513 Refugio Dr, Plano, TX 75024</td>\n",
       "      <td>2023_11_05</td>\n",
       "      <td>/home/user/DataCenter/HAR_data/address_fullinf...</td>\n",
       "      <td>1690411643</td>\n",
       "      <td>/home/user/DataCenter/HAR_data/house_images/00...</td>\n",
       "      <td>4425</td>\n",
       "      <td>12</td>\n",
       "      <td>-96.8</td>\n",
       "      <td>33.1</td>\n",
       "      <td>3395.0</td>\n",
       "      <td>...</td>\n",
       "      <td>3.5</td>\n",
       "      <td>65.1</td>\n",
       "      <td>1.9</td>\n",
       "      <td>NaN</td>\n",
       "      <td>157533.0</td>\n",
       "      <td>157533.0</td>\n",
       "      <td>single family</td>\n",
       "      <td>Collin County</td>\n",
       "      <td>No</td>\n",
       "      <td>None</td>\n",
       "      <td>None</td>\n",
       "      <td>[]</td>\n",
       "      <td>[Slab]</td>\n",
       "      <td>[Attached]</td>\n",
       "      <td>[composition]</td>\n",
       "      <td>[carpet, ceramic tile, wood]</td>\n",
       "      <td>[brick, rock/stone]</td>\n",
       "      <td>[covered patio/porch]</td>\n",
       "      <td>[traditional]</td>\n",
       "      <td>[]</td>\n",
       "      <td>NaN</td>\n",
       "      <td>5.0</td>\n",
       "      <td>5.0</td>\n",
       "      <td>[FRISCO ISD]</td>\n",
       "      <td>MOVE IN READY! Welcome to The Bartlet, this ge...</td>\n",
       "    </tr>\n",
       "    <tr>\n",
       "      <th>8</th>\n",
       "      <td>1516 Bay Area Blvd P12, Houston, TX 77058</td>\n",
       "      <td>https://www.har.com//homedetail/1516-bay-area-...</td>\n",
       "      <td>1 bedrooms 684 Sqft. ($117/Sqft.) 1 full baths...</td>\n",
       "      <td>Laurie Long      RE/MAX Space Center</td>\n",
       "      <td>79900.0</td>\n",
       "      <td>79.0</td>\n",
       "      <td>Under Contract - PS</td>\n",
       "      <td>77058</td>\n",
       "      <td>1.0</td>\n",
       "      <td>0.0</td>\n",
       "      <td>0.0</td>\n",
       "      <td>684.0</td>\n",
       "      <td>0.0</td>\n",
       "      <td>0.0</td>\n",
       "      <td>0.0</td>\n",
       "      <td>1516 Bay Area Blvd P12, Houston, TX 77058</td>\n",
       "      <td>2023_11_05</td>\n",
       "      <td>/home/user/DataCenter/HAR_data/address_fullinf...</td>\n",
       "      <td>1689375459</td>\n",
       "      <td>/home/user/DataCenter/HAR_data/house_images/00...</td>\n",
       "      <td>5661</td>\n",
       "      <td>11</td>\n",
       "      <td>-95.1</td>\n",
       "      <td>29.6</td>\n",
       "      <td>684.0</td>\n",
       "      <td>...</td>\n",
       "      <td>1.0</td>\n",
       "      <td>272.0</td>\n",
       "      <td>2.4</td>\n",
       "      <td>2.4</td>\n",
       "      <td>69024.0</td>\n",
       "      <td>47052.0</td>\n",
       "      <td>townhouse/condo</td>\n",
       "      <td>Harris County</td>\n",
       "      <td>No</td>\n",
       "      <td>Yes</td>\n",
       "      <td>None</td>\n",
       "      <td>[]</td>\n",
       "      <td>[Slab]</td>\n",
       "      <td>[]</td>\n",
       "      <td>[composition]</td>\n",
       "      <td>[tile, vinyl]</td>\n",
       "      <td>[brick, stucco]</td>\n",
       "      <td>[balcony, partially fenced, storage]</td>\n",
       "      <td>[traditional]</td>\n",
       "      <td>[cash sale, conventional, fha, investor, va]</td>\n",
       "      <td>5.0</td>\n",
       "      <td>NaN</td>\n",
       "      <td>4.0</td>\n",
       "      <td>[CLEAR CREEK ISD]</td>\n",
       "      <td>This is the perfect starter home! EVERYTHING U...</td>\n",
       "    </tr>\n",
       "  </tbody>\n",
       "</table>\n",
       "<p>2 rows × 54 columns</p>\n",
       "</div>"
      ],
      "text/plain": [
       "                                      address  \\\n",
       "57           4513 Refugio Dr, Plano, TX 75024   \n",
       "8   1516 Bay Area Blvd P12, Houston, TX 77058   \n",
       "\n",
       "                                              harlink  \\\n",
       "57  https://www.har.com//homedetail/4513-refugio-d...   \n",
       "8   https://www.har.com//homedetail/1516-bay-area-...   \n",
       "\n",
       "                                          mp_features  \\\n",
       "57  4 bedrooms 3,395 Sqft. ($233/Sqft.) 3 full & 1...   \n",
       "8   1 bedrooms 684 Sqft. ($117/Sqft.) 1 full baths...   \n",
       "\n",
       "                                   agent     price  posted_days  \\\n",
       "57         Karla Davis     Fathom Realty  789990.0         66.0   \n",
       "8   Laurie Long      RE/MAX Space Center   79900.0         79.0   \n",
       "\n",
       "                 status zipcode  num_beds  num_bath  num_half_bath  \\\n",
       "57   Under Contract - P   75024       4.0       0.0            0.0   \n",
       "8   Under Contract - PS   77058       1.0       0.0            0.0   \n",
       "\n",
       "    building_sqft  has_loft  num_stories  num_parking_space  \\\n",
       "57         3395.0       0.0          0.0                0.0   \n",
       "8           684.0       0.0          0.0                0.0   \n",
       "\n",
       "                                  address_key        date  \\\n",
       "57           4513 Refugio Dr, Plano, TX 75024  2023_11_05   \n",
       "8   1516 Bay Area Blvd P12, Houston, TX 77058  2023_11_05   \n",
       "\n",
       "                                            json_path  time_epoch  \\\n",
       "57  /home/user/DataCenter/HAR_data/address_fullinf...  1690411643   \n",
       "8   /home/user/DataCenter/HAR_data/address_fullinf...  1689375459   \n",
       "\n",
       "                                           image_path  json_size  image_cnt  \\\n",
       "57  /home/user/DataCenter/HAR_data/house_images/00...       4425         12   \n",
       "8   /home/user/DataCenter/HAR_data/house_images/00...       5661         11   \n",
       "\n",
       "     LAT   LON  building_sqft2  ...  Baths  Maintenance Fee  Tax Rate  \\\n",
       "57 -96.8  33.1          3395.0  ...    3.5             65.1       1.9   \n",
       "8  -95.1  29.6           684.0  ...    1.0            272.0       2.4   \n",
       "\n",
       "    tax_rate2  Recent Market Value  Recent Tax Value    Property Type  \\\n",
       "57        NaN             157533.0          157533.0    single family   \n",
       "8         2.4              69024.0           47052.0  townhouse/condo   \n",
       "\n",
       "           County  Private Pool  Area Pool Private_pool_desc  \\\n",
       "57  Collin County            No       None              None   \n",
       "8   Harris County            No        Yes              None   \n",
       "\n",
       "   Pool_feature_multiclass Foundation_multiclass Garage Types_multiclass  \\\n",
       "57                      []                [Slab]              [Attached]   \n",
       "8                       []                [Slab]                      []   \n",
       "\n",
       "   Roof Type_multiclass         floor_type_multiclass  \\\n",
       "57        [composition]  [carpet, ceramic tile, wood]   \n",
       "8         [composition]                 [tile, vinyl]   \n",
       "\n",
       "   Exterior Type_multiclass                   Exterior_multiclass  \\\n",
       "57      [brick, rock/stone]                 [covered patio/porch]   \n",
       "8           [brick, stucco]  [balcony, partially fenced, storage]   \n",
       "\n",
       "   Style_multiclass                     finance_option_multiclass  \\\n",
       "57    [traditional]                                            []   \n",
       "8     [traditional]  [cash sale, conventional, fha, investor, va]   \n",
       "\n",
       "   high_school_star middle_school_star elementary_school_star  \\\n",
       "57              NaN                5.0                    5.0   \n",
       "8               5.0                NaN                    4.0   \n",
       "\n",
       "           school_org                                       general_desc  \n",
       "57       [FRISCO ISD]  MOVE IN READY! Welcome to The Bartlet, this ge...  \n",
       "8   [CLEAR CREEK ISD]  This is the perfect starter home! EVERYTHING U...  \n",
       "\n",
       "[2 rows x 54 columns]"
      ]
     },
     "execution_count": 3,
     "metadata": {},
     "output_type": "execute_result"
    }
   ],
   "source": [
    "raw_df = pd.read_pickle(\"../../data/property_structured_12162024.pkl\")\n",
    "raw_df.head(2)"
   ]
  },
  {
   "cell_type": "code",
   "execution_count": 4,
   "id": "58ba4209",
   "metadata": {},
   "outputs": [
    {
     "name": "stderr",
     "output_type": "stream",
     "text": [
      "\n",
      "00%|███████████████████████████████████████████████████████████████████████████████████████████████████████████████████████████████████████████████████████████████████████████████| 104/104 [00:40<00:00,  2.55it/s]"
     ]
    }
   ],
   "source": [
    "## Get the list of images to be encoded\n",
    "def get_image_paths(image_folder, check_mean=True):\n",
    "    images_path = [os.path.join(image_folder, f_) for f_ in os.listdir(image_folder) if f_.endswith(\".jpeg\")]\n",
    "    n_images = len(images_path)\n",
    "    if check_mean:\n",
    "        images_path = [f_ for f_ in images_path if os.path.exists(f_.replace(\".jpeg\", \"mean.pt\")) is False] \n",
    "    else:\n",
    "        images_path = [f_ for f_ in images_path if os.path.exists(f_.replace(\".jpeg\", \".pt\")) is False]\n",
    "    return images_path, n_images \n",
    "\n",
    "batch_size = 2048 \n",
    "n_batches = len(raw_df) // batch_size + 1\n",
    "all_img_cnt = 0\n",
    "all_img_paths = []\n",
    "\n",
    "for batch_i in tqdm(range(n_batches)):\n",
    "    with Pool(10) as p:\n",
    "        img_path, img_cnt = zip(*p.map(get_image_paths, raw_df[\"image_path\"].iloc[batch_i * batch_size: (batch_i + 1) * batch_size].values))\n",
    "    [all_img_paths.extend(path_) for path_ in img_path]\n",
    "    all_img_cnt += sum(img_cnt)"
   ]
  },
  {
   "cell_type": "code",
   "execution_count": 5,
   "id": "b01a306c",
   "metadata": {},
   "outputs": [
    {
     "data": {
      "text/plain": [
       "'There are 4239179 images, and 1006923 to be encoded'"
      ]
     },
     "execution_count": 5,
     "metadata": {},
     "output_type": "execute_result"
    }
   ],
   "source": [
    "\"There are %i images, and %i to be encoded\"%(all_img_cnt, len(all_img_paths))"
   ]
  },
  {
   "cell_type": "markdown",
   "id": "8a32ca74",
   "metadata": {},
   "source": [
    "## Run Dino Encoding "
   ]
  },
  {
   "cell_type": "code",
   "execution_count": 6,
   "id": "6fb9eeb0-def7-4c08-b786-06a1223cf545",
   "metadata": {},
   "outputs": [
    {
     "data": {
      "application/vnd.jupyter.widget-view+json": {
       "model_id": "ff0dd88b721540d3a492d37873dd786d",
       "version_major": 2,
       "version_minor": 0
      },
      "text/plain": [
       "preprocessor_config.json:   0%|          | 0.00/436 [00:00<?, ?B/s]"
      ]
     },
     "metadata": {},
     "output_type": "display_data"
    },
    {
     "data": {
      "application/vnd.jupyter.widget-view+json": {
       "model_id": "28818c20c98e4186b087f1d5452af2c6",
       "version_major": 2,
       "version_minor": 0
      },
      "text/plain": [
       "config.json:   0%|          | 0.00/547 [00:00<?, ?B/s]"
      ]
     },
     "metadata": {},
     "output_type": "display_data"
    },
    {
     "data": {
      "application/vnd.jupyter.widget-view+json": {
       "model_id": "6315acbaf04443b4acb391871242ab89",
       "version_major": 2,
       "version_minor": 0
      },
      "text/plain": [
       "model.safetensors:   0%|          | 0.00/88.2M [00:00<?, ?B/s]"
      ]
     },
     "metadata": {},
     "output_type": "display_data"
    }
   ],
   "source": [
    "## Run DINO Encoding\n",
    "import torch.utils.data as data_utils\n",
    "from torchvision import datasets, transforms\n",
    "import torch\n",
    "from transformers import AutoImageProcessor, AutoModel\n",
    "from PIL import Image\n",
    "import requests\n",
    "\n",
    "device = \"cuda:0\"\n",
    "processor = AutoImageProcessor.from_pretrained('facebook/dinov2-small')\n",
    "model = AutoModel.from_pretrained('facebook/dinov2-small')\n",
    "model.cuda(device)\n",
    "\n",
    "def read_image(image_path):\n",
    "    image = Image.open(image_path)\n",
    "    return image"
   ]
  },
  {
   "cell_type": "code",
   "execution_count": 7,
   "id": "719f8b93",
   "metadata": {},
   "outputs": [
    {
     "name": "stderr",
     "output_type": "stream",
     "text": [
      "\n",
      "00%|█████████████████████████████████████████████████████████████████████████████████████████████████████████████████████████████████████████████████████████████████████████████| 984/984 [2:50:37<00:00, 10.40s/it]"
     ]
    }
   ],
   "source": [
    "batch_size = 1024 \n",
    "n_batches = (len(all_img_paths) + batch_size - 1) // batch_size\n",
    "\n",
    "for batch_i in tqdm(range(n_batches)):\n",
    "    batch_images = all_img_paths[batch_i * batch_size: batch_i * batch_size + batch_size]\n",
    "    with Pool(10) as p:\n",
    "        inp_imgs = p.map(read_image, batch_images)\n",
    "    inputs = processor(images=inp_imgs, return_tensors=\"pt\").to(device, non_blocking=True)\n",
    "    with torch.no_grad():\n",
    "        last_hidden_states = model(**inputs)[0]\n",
    "        embedding_list = last_hidden_states[:, 0, :].cpu()\n",
    "        mean_embedding_list = torch.mean(last_hidden_states, axis=1).cpu()\n",
    "    embedding_list = [e.clone() for e in embedding_list]\n",
    "    mean_embedding_list = [e.clone() for e in mean_embedding_list]\n",
    "    # _ = [torch.save(embedding_list[i], batch_images[i].replace(\".jpeg\", \".pt\")) for i in range(len(embedding_list))]\n",
    "    _ = [torch.save(mean_embedding_list[i], batch_images[i].replace(\".jpeg\", \"mean.pt\")) for i in range(len(embedding_list))]"
   ]
  },
  {
   "cell_type": "code",
   "execution_count": 83,
   "id": "899676f3",
   "metadata": {},
   "outputs": [],
   "source": [
    "# dir(embedding_list[0])"
   ]
  },
  {
   "cell_type": "markdown",
   "id": "492cb042",
   "metadata": {},
   "source": [
    "### Stack the image embeddings "
   ]
  },
  {
   "cell_type": "code",
   "execution_count": 5,
   "id": "fd632502",
   "metadata": {},
   "outputs": [],
   "source": [
    "import pandas as pd \n",
    "import numpy as np \n",
    "import torch \n",
    "import os \n",
    "import warnings\n",
    "import json \n",
    "from multiprocessing import Pool\n",
    "warnings.filterwarnings('ignore')\n",
    "pd.set_option('display.max_columns', 50)\n",
    "pd.set_option('display.max_rows', 500)\n",
    "pd.set_option(\"display.precision\", 1)\n",
    "raw_df = pd.read_pickle(\"../../data/property_structured_12162024.pkl\")"
   ]
  },
  {
   "cell_type": "code",
   "execution_count": null,
   "id": "7574200e-6a57-4b61-9d40-09b6530abd8d",
   "metadata": {},
   "outputs": [],
   "source": [
    "def load_and_stack_tensor(image_folder, use_mean_tensor=False):\n",
    "    if use_mean_tensor:\n",
    "        pt_paths = [os.path.join(image_folder, f_) for f_ in os.listdir(image_folder) if f_.endswith(\"mean.pt\")]\n",
    "    else: \n",
    "        pt_paths = [os.path.join(image_folder, f_) for f_ in os.listdir(image_folder) if f_.endswith(\".pt\") and \"mean\" not in f_]\n",
    "    if len(pt_paths) == 0:\n",
    "        return np.zeros(384)\n",
    "    pt_list = np.array([torch.load(pt_path).numpy() for pt_path in pt_paths])\n",
    "    return np.mean(pt_list, axis=0)\n",
    "\n",
    "with Pool(10) as p:\n",
    "    image_dinov2s_cls_mean = p.map(load_and_stack_tensor, raw_df[\"image_path\"].values)"
   ]
  },
  {
   "cell_type": "code",
   "execution_count": 6,
   "id": "aeac2ee5-e7f3-4b64-9b20-6e170c5f7970",
   "metadata": {},
   "outputs": [],
   "source": [
    "def load_and_stack_tensor(image_folder, use_mean_tensor=True):\n",
    "    if use_mean_tensor:\n",
    "        pt_paths = [os.path.join(image_folder, f_) for f_ in os.listdir(image_folder) if f_.endswith(\"mean.pt\")]\n",
    "    else: \n",
    "        pt_paths = [os.path.join(image_folder, f_) for f_ in os.listdir(image_folder) if f_.endswith(\".pt\") and \"mean\" not in f_]\n",
    "    if len(pt_paths) == 0:\n",
    "        return np.zeros(384)\n",
    "    pt_list = np.array([torch.load(pt_path).numpy() for pt_path in pt_paths])\n",
    "    return np.mean(pt_list, axis=0)\n",
    "    \n",
    "with Pool(10) as p:\n",
    "    image_dinov2s_mean_mean = p.map(load_and_stack_tensor, raw_df[\"image_path\"].values)"
   ]
  },
  {
   "cell_type": "code",
   "execution_count": 8,
   "id": "c77eb6e6-c3e3-448d-a2ec-d156e3199d9a",
   "metadata": {},
   "outputs": [],
   "source": [
    "# raw_df[\"img_emb\"] = image_dinov2s_mean_mean\n",
    "# raw_df[[\"address\", \"address_key\", \"img_emb\"]].to_pickle(\"../../data/property_structured_12162024_image_dinov2s_mean_mean.pkl\")"
   ]
  },
  {
   "cell_type": "code",
   "execution_count": null,
   "id": "7132e9a2",
   "metadata": {},
   "outputs": [],
   "source": []
  }
 ],
 "metadata": {
  "kernelspec": {
   "display_name": "Python 3 (ipykernel)",
   "language": "python",
   "name": "python3"
  },
  "language_info": {
   "codemirror_mode": {
    "name": "ipython",
    "version": 3
   },
   "file_extension": ".py",
   "mimetype": "text/x-python",
   "name": "python",
   "nbconvert_exporter": "python",
   "pygments_lexer": "ipython3",
   "version": "3.10.13"
  }
 },
 "nbformat": 4,
 "nbformat_minor": 5
}
