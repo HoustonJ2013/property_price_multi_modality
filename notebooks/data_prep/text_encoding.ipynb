{
 "cells": [
  {
   "cell_type": "code",
   "execution_count": 1,
   "metadata": {},
   "outputs": [
    {
     "name": "stderr",
     "output_type": "stream",
     "text": [
      "/opt/conda/lib/python3.10/site-packages/torchvision/datapoints/__init__.py:12: UserWarning: The torchvision.datapoints and torchvision.transforms.v2 namespaces are still Beta. While we do not expect major breaking changes, some APIs may still change according to user feedback. Please submit any feedback you may have in this issue: https://github.com/pytorch/vision/issues/6753, and you can also check out https://github.com/pytorch/vision/issues/7319 to learn more about the APIs that we suspect might involve future changes. You can silence this warning by calling torchvision.disable_beta_transforms_warning().\n",
      "  warnings.warn(_BETA_TRANSFORMS_WARNING)\n",
      "/opt/conda/lib/python3.10/site-packages/torchvision/transforms/v2/__init__.py:54: UserWarning: The torchvision.datapoints and torchvision.transforms.v2 namespaces are still Beta. While we do not expect major breaking changes, some APIs may still change according to user feedback. Please submit any feedback you may have in this issue: https://github.com/pytorch/vision/issues/6753, and you can also check out https://github.com/pytorch/vision/issues/7319 to learn more about the APIs that we suspect might involve future changes. You can silence this warning by calling torchvision.disable_beta_transforms_warning().\n",
      "  warnings.warn(_BETA_TRANSFORMS_WARNING)\n"
     ]
    }
   ],
   "source": [
    "import pandas as pd\n",
    "import numpy as np \n",
    "from multiprocessing import Pool\n",
    "from tqdm import tqdm\n",
    "import os\n",
    "import torch \n",
    "import warnings\n",
    "import json \n",
    "import torch.utils.data as data_utils\n",
    "from torchvision import datasets, transforms\n",
    "import torch\n",
    "from transformers import AutoImageProcessor, AutoModel\n",
    "from PIL import Image\n",
    "import requests\n",
    "\n",
    "warnings.filterwarnings('ignore')\n",
    "pd.set_option('display.max_columns', 100)\n",
    "pd.set_option('display.max_rows', 500)\n",
    "pd.set_option(\"display.precision\", 1)"
   ]
  },
  {
   "cell_type": "code",
   "execution_count": 2,
   "metadata": {},
   "outputs": [
    {
     "data": {
      "text/html": [
       "<div>\n",
       "<style scoped>\n",
       "    .dataframe tbody tr th:only-of-type {\n",
       "        vertical-align: middle;\n",
       "    }\n",
       "\n",
       "    .dataframe tbody tr th {\n",
       "        vertical-align: top;\n",
       "    }\n",
       "\n",
       "    .dataframe thead th {\n",
       "        text-align: right;\n",
       "    }\n",
       "</style>\n",
       "<table border=\"1\" class=\"dataframe\">\n",
       "  <thead>\n",
       "    <tr style=\"text-align: right;\">\n",
       "      <th></th>\n",
       "      <th>address</th>\n",
       "      <th>harlink</th>\n",
       "      <th>mp_features</th>\n",
       "      <th>agent</th>\n",
       "      <th>price</th>\n",
       "      <th>posted_days</th>\n",
       "      <th>status</th>\n",
       "      <th>zipcode</th>\n",
       "      <th>num_beds</th>\n",
       "      <th>num_bath</th>\n",
       "      <th>num_half_bath</th>\n",
       "      <th>building_sqft</th>\n",
       "      <th>has_loft</th>\n",
       "      <th>num_stories</th>\n",
       "      <th>num_parking_space</th>\n",
       "      <th>address_key</th>\n",
       "      <th>date</th>\n",
       "      <th>json_path</th>\n",
       "      <th>time_epoch</th>\n",
       "      <th>image_path</th>\n",
       "      <th>json_size</th>\n",
       "      <th>image_cnt</th>\n",
       "      <th>LAT</th>\n",
       "      <th>LON</th>\n",
       "      <th>building_sqft2</th>\n",
       "      <th>Lot Size</th>\n",
       "      <th>Year Built</th>\n",
       "      <th>Garage Number</th>\n",
       "      <th>Bedrooms</th>\n",
       "      <th>Baths</th>\n",
       "      <th>Maintenance Fee</th>\n",
       "      <th>Tax Rate</th>\n",
       "      <th>tax_rate2</th>\n",
       "      <th>Recent Market Value</th>\n",
       "      <th>Recent Tax Value</th>\n",
       "      <th>Property Type</th>\n",
       "      <th>County</th>\n",
       "      <th>Private Pool</th>\n",
       "      <th>Area Pool</th>\n",
       "      <th>Private_pool_desc</th>\n",
       "      <th>Pool_feature_multiclass</th>\n",
       "      <th>Foundation_multiclass</th>\n",
       "      <th>Garage Types_multiclass</th>\n",
       "      <th>Roof Type_multiclass</th>\n",
       "      <th>floor_type_multiclass</th>\n",
       "      <th>Exterior Type_multiclass</th>\n",
       "      <th>Exterior_multiclass</th>\n",
       "      <th>Style_multiclass</th>\n",
       "      <th>finance_option_multiclass</th>\n",
       "      <th>high_school_star</th>\n",
       "      <th>middle_school_star</th>\n",
       "      <th>elementary_school_star</th>\n",
       "      <th>school_org</th>\n",
       "      <th>general_desc</th>\n",
       "    </tr>\n",
       "  </thead>\n",
       "  <tbody>\n",
       "    <tr>\n",
       "      <th>57</th>\n",
       "      <td>4513 Refugio Dr, Plano, TX 75024</td>\n",
       "      <td>https://www.har.com//homedetail/4513-refugio-d...</td>\n",
       "      <td>4 bedrooms 3,395 Sqft. ($233/Sqft.) 3 full &amp; 1...</td>\n",
       "      <td>Karla Davis     Fathom Realty</td>\n",
       "      <td>789990.0</td>\n",
       "      <td>66.0</td>\n",
       "      <td>Under Contract - P</td>\n",
       "      <td>75024</td>\n",
       "      <td>4.0</td>\n",
       "      <td>0.0</td>\n",
       "      <td>0.0</td>\n",
       "      <td>3395.0</td>\n",
       "      <td>0.0</td>\n",
       "      <td>0.0</td>\n",
       "      <td>0.0</td>\n",
       "      <td>4513 Refugio Dr, Plano, TX 75024</td>\n",
       "      <td>2023_11_05</td>\n",
       "      <td>/home/user/DataCenter/HAR_data/address_fullinf...</td>\n",
       "      <td>1690411643</td>\n",
       "      <td>/home/user/DataCenter/HAR_data/house_images/00...</td>\n",
       "      <td>4425</td>\n",
       "      <td>12</td>\n",
       "      <td>-96.8</td>\n",
       "      <td>33.1</td>\n",
       "      <td>3395.0</td>\n",
       "      <td>429.0</td>\n",
       "      <td>2023.0</td>\n",
       "      <td>2.0</td>\n",
       "      <td>4.0</td>\n",
       "      <td>3.5</td>\n",
       "      <td>65.1</td>\n",
       "      <td>1.9</td>\n",
       "      <td>NaN</td>\n",
       "      <td>157533.0</td>\n",
       "      <td>157533.0</td>\n",
       "      <td>single family</td>\n",
       "      <td>Collin County</td>\n",
       "      <td>No</td>\n",
       "      <td>None</td>\n",
       "      <td>None</td>\n",
       "      <td>[]</td>\n",
       "      <td>[Slab]</td>\n",
       "      <td>[Attached]</td>\n",
       "      <td>[composition]</td>\n",
       "      <td>[carpet, ceramic tile, wood]</td>\n",
       "      <td>[brick, rock/stone]</td>\n",
       "      <td>[covered patio/porch]</td>\n",
       "      <td>[traditional]</td>\n",
       "      <td>[]</td>\n",
       "      <td>NaN</td>\n",
       "      <td>5.0</td>\n",
       "      <td>5.0</td>\n",
       "      <td>[FRISCO ISD]</td>\n",
       "      <td>MOVE IN READY! Welcome to The Bartlet, this ge...</td>\n",
       "    </tr>\n",
       "    <tr>\n",
       "      <th>8</th>\n",
       "      <td>1516 Bay Area Blvd P12, Houston, TX 77058</td>\n",
       "      <td>https://www.har.com//homedetail/1516-bay-area-...</td>\n",
       "      <td>1 bedrooms 684 Sqft. ($117/Sqft.) 1 full baths...</td>\n",
       "      <td>Laurie Long      RE/MAX Space Center</td>\n",
       "      <td>79900.0</td>\n",
       "      <td>79.0</td>\n",
       "      <td>Under Contract - PS</td>\n",
       "      <td>77058</td>\n",
       "      <td>1.0</td>\n",
       "      <td>0.0</td>\n",
       "      <td>0.0</td>\n",
       "      <td>684.0</td>\n",
       "      <td>0.0</td>\n",
       "      <td>0.0</td>\n",
       "      <td>0.0</td>\n",
       "      <td>1516 Bay Area Blvd P12, Houston, TX 77058</td>\n",
       "      <td>2023_11_05</td>\n",
       "      <td>/home/user/DataCenter/HAR_data/address_fullinf...</td>\n",
       "      <td>1689375459</td>\n",
       "      <td>/home/user/DataCenter/HAR_data/house_images/00...</td>\n",
       "      <td>5661</td>\n",
       "      <td>11</td>\n",
       "      <td>-95.1</td>\n",
       "      <td>29.6</td>\n",
       "      <td>684.0</td>\n",
       "      <td>31348.0</td>\n",
       "      <td>1977.0</td>\n",
       "      <td>NaN</td>\n",
       "      <td>1.0</td>\n",
       "      <td>1.0</td>\n",
       "      <td>272.0</td>\n",
       "      <td>2.4</td>\n",
       "      <td>2.4</td>\n",
       "      <td>69024.0</td>\n",
       "      <td>47052.0</td>\n",
       "      <td>townhouse/condo</td>\n",
       "      <td>Harris County</td>\n",
       "      <td>No</td>\n",
       "      <td>Yes</td>\n",
       "      <td>None</td>\n",
       "      <td>[]</td>\n",
       "      <td>[Slab]</td>\n",
       "      <td>[]</td>\n",
       "      <td>[composition]</td>\n",
       "      <td>[tile, vinyl]</td>\n",
       "      <td>[brick, stucco]</td>\n",
       "      <td>[balcony, partially fenced, storage]</td>\n",
       "      <td>[traditional]</td>\n",
       "      <td>[cash sale, conventional, fha, investor, va]</td>\n",
       "      <td>5.0</td>\n",
       "      <td>NaN</td>\n",
       "      <td>4.0</td>\n",
       "      <td>[CLEAR CREEK ISD]</td>\n",
       "      <td>This is the perfect starter home! EVERYTHING U...</td>\n",
       "    </tr>\n",
       "  </tbody>\n",
       "</table>\n",
       "</div>"
      ],
      "text/plain": [
       "                                      address  \\\n",
       "57           4513 Refugio Dr, Plano, TX 75024   \n",
       "8   1516 Bay Area Blvd P12, Houston, TX 77058   \n",
       "\n",
       "                                              harlink  \\\n",
       "57  https://www.har.com//homedetail/4513-refugio-d...   \n",
       "8   https://www.har.com//homedetail/1516-bay-area-...   \n",
       "\n",
       "                                          mp_features  \\\n",
       "57  4 bedrooms 3,395 Sqft. ($233/Sqft.) 3 full & 1...   \n",
       "8   1 bedrooms 684 Sqft. ($117/Sqft.) 1 full baths...   \n",
       "\n",
       "                                   agent     price  posted_days  \\\n",
       "57         Karla Davis     Fathom Realty  789990.0         66.0   \n",
       "8   Laurie Long      RE/MAX Space Center   79900.0         79.0   \n",
       "\n",
       "                 status zipcode  num_beds  num_bath  num_half_bath  \\\n",
       "57   Under Contract - P   75024       4.0       0.0            0.0   \n",
       "8   Under Contract - PS   77058       1.0       0.0            0.0   \n",
       "\n",
       "    building_sqft  has_loft  num_stories  num_parking_space  \\\n",
       "57         3395.0       0.0          0.0                0.0   \n",
       "8           684.0       0.0          0.0                0.0   \n",
       "\n",
       "                                  address_key        date  \\\n",
       "57           4513 Refugio Dr, Plano, TX 75024  2023_11_05   \n",
       "8   1516 Bay Area Blvd P12, Houston, TX 77058  2023_11_05   \n",
       "\n",
       "                                            json_path  time_epoch  \\\n",
       "57  /home/user/DataCenter/HAR_data/address_fullinf...  1690411643   \n",
       "8   /home/user/DataCenter/HAR_data/address_fullinf...  1689375459   \n",
       "\n",
       "                                           image_path  json_size  image_cnt  \\\n",
       "57  /home/user/DataCenter/HAR_data/house_images/00...       4425         12   \n",
       "8   /home/user/DataCenter/HAR_data/house_images/00...       5661         11   \n",
       "\n",
       "     LAT   LON  building_sqft2  Lot Size  Year Built  Garage Number  Bedrooms  \\\n",
       "57 -96.8  33.1          3395.0     429.0      2023.0            2.0       4.0   \n",
       "8  -95.1  29.6           684.0   31348.0      1977.0            NaN       1.0   \n",
       "\n",
       "    Baths  Maintenance Fee  Tax Rate  tax_rate2  Recent Market Value  \\\n",
       "57    3.5             65.1       1.9        NaN             157533.0   \n",
       "8     1.0            272.0       2.4        2.4              69024.0   \n",
       "\n",
       "    Recent Tax Value    Property Type         County Private Pool Area Pool  \\\n",
       "57          157533.0    single family  Collin County           No      None   \n",
       "8            47052.0  townhouse/condo  Harris County           No       Yes   \n",
       "\n",
       "   Private_pool_desc Pool_feature_multiclass Foundation_multiclass  \\\n",
       "57              None                      []                [Slab]   \n",
       "8               None                      []                [Slab]   \n",
       "\n",
       "   Garage Types_multiclass Roof Type_multiclass         floor_type_multiclass  \\\n",
       "57              [Attached]        [composition]  [carpet, ceramic tile, wood]   \n",
       "8                       []        [composition]                 [tile, vinyl]   \n",
       "\n",
       "   Exterior Type_multiclass                   Exterior_multiclass  \\\n",
       "57      [brick, rock/stone]                 [covered patio/porch]   \n",
       "8           [brick, stucco]  [balcony, partially fenced, storage]   \n",
       "\n",
       "   Style_multiclass                     finance_option_multiclass  \\\n",
       "57    [traditional]                                            []   \n",
       "8     [traditional]  [cash sale, conventional, fha, investor, va]   \n",
       "\n",
       "    high_school_star  middle_school_star  elementary_school_star  \\\n",
       "57               NaN                 5.0                     5.0   \n",
       "8                5.0                 NaN                     4.0   \n",
       "\n",
       "           school_org                                       general_desc  \n",
       "57       [FRISCO ISD]  MOVE IN READY! Welcome to The Bartlet, this ge...  \n",
       "8   [CLEAR CREEK ISD]  This is the perfect starter home! EVERYTHING U...  "
      ]
     },
     "execution_count": 2,
     "metadata": {},
     "output_type": "execute_result"
    }
   ],
   "source": [
    "raw_df = pd.read_pickle(\"data/property_structured_12162024.pkl\")\n",
    "raw_df.head(2)"
   ]
  },
  {
   "cell_type": "code",
   "execution_count": 3,
   "metadata": {},
   "outputs": [
    {
     "data": {
      "text/plain": [
       "['Private_pool_desc', 'general_desc']"
      ]
     },
     "execution_count": 3,
     "metadata": {},
     "output_type": "execute_result"
    }
   ],
   "source": [
    "[_ for _ in raw_df.columns.values if \"desc\" in _]"
   ]
  },
  {
   "cell_type": "code",
   "execution_count": 5,
   "metadata": {},
   "outputs": [
    {
     "data": {
      "text/html": [
       "<div>\n",
       "<style scoped>\n",
       "    .dataframe tbody tr th:only-of-type {\n",
       "        vertical-align: middle;\n",
       "    }\n",
       "\n",
       "    .dataframe tbody tr th {\n",
       "        vertical-align: top;\n",
       "    }\n",
       "\n",
       "    .dataframe thead th {\n",
       "        text-align: right;\n",
       "    }\n",
       "</style>\n",
       "<table border=\"1\" class=\"dataframe\">\n",
       "  <thead>\n",
       "    <tr style=\"text-align: right;\">\n",
       "      <th></th>\n",
       "      <th>address</th>\n",
       "      <th>address_key</th>\n",
       "      <th>general_desc</th>\n",
       "      <th>Private_pool_desc</th>\n",
       "    </tr>\n",
       "  </thead>\n",
       "  <tbody>\n",
       "    <tr>\n",
       "      <th>53</th>\n",
       "      <td>118 Whites Lake Estates Dr, Highlands, TX 77562</td>\n",
       "      <td>118 Whites Lake Estates Dr, Highlands, TX 77562</td>\n",
       "      <td>Step into serenity living with this impeccably...</td>\n",
       "      <td>Gunite, In Ground</td>\n",
       "    </tr>\n",
       "    <tr>\n",
       "      <th>327</th>\n",
       "      <td>6414 Buffalo Bend Ln, Richmond, TX 77469,</td>\n",
       "      <td>6414 Buffalo Bend Ln, Richmond, TX 77469</td>\n",
       "      <td>Brand new, energy-efficient home available NOW...</td>\n",
       "      <td>None</td>\n",
       "    </tr>\n",
       "  </tbody>\n",
       "</table>\n",
       "</div>"
      ],
      "text/plain": [
       "                                             address  \\\n",
       "53   118 Whites Lake Estates Dr, Highlands, TX 77562   \n",
       "327      6414 Buffalo Bend Ln, Richmond, TX 77469,     \n",
       "\n",
       "                                         address_key  \\\n",
       "53   118 Whites Lake Estates Dr, Highlands, TX 77562   \n",
       "327         6414 Buffalo Bend Ln, Richmond, TX 77469   \n",
       "\n",
       "                                          general_desc  Private_pool_desc  \n",
       "53   Step into serenity living with this impeccably...  Gunite, In Ground  \n",
       "327  Brand new, energy-efficient home available NOW...               None  "
      ]
     },
     "execution_count": 5,
     "metadata": {},
     "output_type": "execute_result"
    }
   ],
   "source": [
    "raw_df = raw_df[[\"address\", \"address_key\", \"general_desc\", \"Private_pool_desc\"]]\n",
    "raw_df.sample(2)"
   ]
  },
  {
   "cell_type": "code",
   "execution_count": 6,
   "metadata": {},
   "outputs": [
    {
     "data": {
      "text/plain": [
       "(1553, 189661, 211960)"
      ]
     },
     "execution_count": 6,
     "metadata": {},
     "output_type": "execute_result"
    }
   ],
   "source": [
    "raw_df[\"general_desc\"].isna().sum(), raw_df[\"Private_pool_desc\"].isna().sum(), len(raw_df)"
   ]
  },
  {
   "cell_type": "code",
   "execution_count": 7,
   "metadata": {},
   "outputs": [
    {
     "data": {
      "text/plain": [
       "count    210406.0\n",
       "mean        771.0\n",
       "std         329.9\n",
       "min           9.0\n",
       "25%         538.0\n",
       "50%         793.0\n",
       "75%         993.0\n",
       "max        4001.0\n",
       "Name: general_desc, dtype: float64"
      ]
     },
     "execution_count": 7,
     "metadata": {},
     "output_type": "execute_result"
    }
   ],
   "source": [
    "tem = raw_df[\"general_desc\"].apply(lambda x: len(x) if x is not None else 0)\n",
    "tem[tem > 0].describe()"
   ]
  },
  {
   "cell_type": "code",
   "execution_count": 8,
   "metadata": {},
   "outputs": [
    {
     "data": {
      "text/plain": [
       "count    22299.0\n",
       "mean        27.4\n",
       "std         23.1\n",
       "min          3.0\n",
       "25%          9.0\n",
       "50%         17.0\n",
       "75%         37.0\n",
       "max        166.0\n",
       "Name: Private_pool_desc, dtype: float64"
      ]
     },
     "execution_count": 8,
     "metadata": {},
     "output_type": "execute_result"
    }
   ],
   "source": [
    "tem = raw_df[\"Private_pool_desc\"].apply(lambda x: len(x) if x is not None else 0)\n",
    "tem[tem > 0].describe()"
   ]
  },
  {
   "cell_type": "code",
   "execution_count": 9,
   "metadata": {},
   "outputs": [
    {
     "data": {
      "application/vnd.jupyter.widget-view+json": {
       "model_id": "e2887d5397a2485fabf161df9b2830fc",
       "version_major": 2,
       "version_minor": 0
      },
      "text/plain": [
       "config.json:   0%|          | 0.00/481 [00:00<?, ?B/s]"
      ]
     },
     "metadata": {},
     "output_type": "display_data"
    },
    {
     "data": {
      "application/vnd.jupyter.widget-view+json": {
       "model_id": "b370cd7841b44d80ac7ba1ea82cd385f",
       "version_major": 2,
       "version_minor": 0
      },
      "text/plain": [
       "model.safetensors:   0%|          | 0.00/499M [00:00<?, ?B/s]"
      ]
     },
     "metadata": {},
     "output_type": "display_data"
    },
    {
     "name": "stderr",
     "output_type": "stream",
     "text": [
      "Some weights of RobertaModel were not initialized from the model checkpoint at roberta-base and are newly initialized: ['roberta.pooler.dense.bias', 'roberta.pooler.dense.weight']\n",
      "You should probably TRAIN this model on a down-stream task to be able to use it for predictions and inference.\n"
     ]
    },
    {
     "data": {
      "application/vnd.jupyter.widget-view+json": {
       "model_id": "a0848e5460974fe79bdcb142c3031659",
       "version_major": 2,
       "version_minor": 0
      },
      "text/plain": [
       "tokenizer_config.json:   0%|          | 0.00/25.0 [00:00<?, ?B/s]"
      ]
     },
     "metadata": {},
     "output_type": "display_data"
    },
    {
     "data": {
      "application/vnd.jupyter.widget-view+json": {
       "model_id": "d55a248de5ed409abcf0e69818365a6b",
       "version_major": 2,
       "version_minor": 0
      },
      "text/plain": [
       "vocab.json:   0%|          | 0.00/899k [00:00<?, ?B/s]"
      ]
     },
     "metadata": {},
     "output_type": "display_data"
    },
    {
     "data": {
      "application/vnd.jupyter.widget-view+json": {
       "model_id": "2120a789bdbc4e71a750543d89c8d84b",
       "version_major": 2,
       "version_minor": 0
      },
      "text/plain": [
       "merges.txt:   0%|          | 0.00/456k [00:00<?, ?B/s]"
      ]
     },
     "metadata": {},
     "output_type": "display_data"
    },
    {
     "data": {
      "application/vnd.jupyter.widget-view+json": {
       "model_id": "e5ec8fa8d7594dc6a8a80fb4480a9256",
       "version_major": 2,
       "version_minor": 0
      },
      "text/plain": [
       "tokenizer.json:   0%|          | 0.00/1.36M [00:00<?, ?B/s]"
      ]
     },
     "metadata": {},
     "output_type": "display_data"
    },
    {
     "name": "stderr",
     "output_type": "stream",
     "text": [
      "Device set to use cuda:0\n"
     ]
    }
   ],
   "source": [
    "from transformers import pipeline\n",
    "feature_extraction = pipeline('feature-extraction', model=\"roberta-base\", tokenizer=\"roberta-base\", device=0, truncation=True)"
   ]
  },
  {
   "cell_type": "code",
   "execution_count": 10,
   "metadata": {},
   "outputs": [
    {
     "name": "stderr",
     "output_type": "stream",
     "text": [
      "  0%|                                                                                                                                                                            | 7/211960 [00:01<8:09:56,  7.21it/s]You seem to be using the pipelines sequentially on GPU. In order to maximize efficiency please use a dataset\n",
      "100%|███████████████████████████████████████████████████████████████████████████████████████████████████████████████████████████████████████████████████████████████████████| 211960/211960 [1:01:22<00:00, 57.56it/s]\n"
     ]
    }
   ],
   "source": [
    "cnt = 0 \n",
    "general_desc_mean_features = []\n",
    "general_desc_cls_features = []\n",
    "for desc in tqdm(raw_df[\"general_desc\"].values):\n",
    "    if desc is None:\n",
    "        cnt += 1\n",
    "        general_desc_mean_features.append(np.zeros(768))\n",
    "        general_desc_cls_features.append(np.zeros(768))\n",
    "    else: \n",
    "        feature = feature_extraction(desc,  return_tensors=\"pt\")\n",
    "        general_desc_mean_features.append(np.mean(feature[0].clone().numpy(), axis=0))\n",
    "        general_desc_cls_features.append(feature[0][0].clone().numpy())\n",
    "\n",
    "raw_df[\"general_desc_roberta_mean_features\"] = general_desc_mean_features\n",
    "raw_df[\"general_desc_roberta_cls_features\"] = general_desc_cls_features\n",
    "raw_df[[\"address\", \"address_key\", \"general_desc_roberta_mean_features\", \"general_desc_roberta_cls_features\"]].to_pickle(\"data/property_structured_12162024_general_desc_features.pkl\")"
   ]
  },
  {
   "cell_type": "code",
   "execution_count": 11,
   "metadata": {},
   "outputs": [
    {
     "name": "stderr",
     "output_type": "stream",
     "text": [
      "100%|████████████████████████████████████████████████████████████████████████████████████████████████████████████████████████████████████████████████████████████████████████| 211960/211960 [03:43<00:00, 949.64it/s]\n"
     ]
    }
   ],
   "source": [
    "pool_desc_mean_features = []\n",
    "pool_desc_cls_features = []\n",
    "for desc in tqdm(raw_df[\"Private_pool_desc\"].values):\n",
    "    if desc is None:\n",
    "        pool_desc_mean_features.append(np.zeros(768))\n",
    "        pool_desc_cls_features.append(np.zeros(768))\n",
    "    else: \n",
    "        feature = feature_extraction(desc,  return_tensors=\"pt\")\n",
    "        pool_desc_mean_features.append(np.mean(feature[0].clone().numpy(), axis=0))\n",
    "        pool_desc_cls_features.append(feature[0][0].clone().numpy())\n",
    "raw_df[\"pool_desc_roberta_mean_features\"] = pool_desc_mean_features\n",
    "raw_df[\"pool_desc_roberta_cls_features\"] = pool_desc_cls_features\n",
    "raw_df[[\"address\", \"address_key\", \"pool_desc_roberta_mean_features\", \"pool_desc_roberta_cls_features\"]].to_pickle(\"data/property_structured_12162024_pool_desc_features.pkl\")"
   ]
  },
  {
   "cell_type": "code",
   "execution_count": null,
   "metadata": {},
   "outputs": [],
   "source": []
  }
 ],
 "metadata": {
  "kernelspec": {
   "display_name": "Python 3 (ipykernel)",
   "language": "python",
   "name": "python3"
  },
  "language_info": {
   "codemirror_mode": {
    "name": "ipython",
    "version": 3
   },
   "file_extension": ".py",
   "mimetype": "text/x-python",
   "name": "python",
   "nbconvert_exporter": "python",
   "pygments_lexer": "ipython3",
   "version": "3.10.13"
  }
 },
 "nbformat": 4,
 "nbformat_minor": 4
}
