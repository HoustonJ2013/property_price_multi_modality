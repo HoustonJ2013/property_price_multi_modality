{
 "cells": [
  {
   "cell_type": "code",
   "execution_count": 43,
   "metadata": {},
   "outputs": [],
   "source": [
    "import pandas as pd\n",
    "import numpy as np\n",
    "from tqdm import tqdm\n",
    "import os \n",
    "import sys\n",
    "from datetime import datetime, timedelta\n",
    "from modeling.utils import process_address\n",
    "import warnings\n",
    "warnings.filterwarnings('ignore')\n",
    "pd.set_option('display.max_columns', 50)\n",
    "pd.set_option('display.max_rows', 500)"
   ]
  },
  {
   "cell_type": "markdown",
   "metadata": {},
   "source": [
    "## Select the time window to extract house information"
   ]
  },
  {
   "cell_type": "code",
   "execution_count": 51,
   "metadata": {},
   "outputs": [
    {
     "name": "stderr",
     "output_type": "stream",
     "text": [
      "  0%|                                                                                                                                                    | 0/368 [00:00<?, ?it/s]"
     ]
    },
    {
     "name": "stderr",
     "output_type": "stream",
     "text": [
      "100%|██████████████████████████████████████████████████████████████████████████████████████████████████████████████████████████████████████████| 368/368 [04:02<00:00,  1.52it/s]\n"
     ]
    }
   ],
   "source": [
    "daily_scrpe_folder = '/home/user/DataCenter/HAR_data/combined_pickles/'\n",
    "start_date = datetime(2023, 11, 5)\n",
    "end_date = datetime(2024, 11,6)\n",
    "daily_df = None \n",
    "\n",
    "for day in tqdm(range((end_date - start_date).days + 1)):\n",
    "    cur_date = start_date + timedelta(days=day)\n",
    "    date_str = cur_date.strftime(\"%Y_%m_%d\")\n",
    "    daily_pickle = os.path.join(daily_scrpe_folder, \"zipcode_search__\"+date_str+\"_for_sale.pkl\")\n",
    "    try:\n",
    "        if daily_df is None:\n",
    "            daily_df = pd.read_pickle(daily_pickle)\n",
    "            daily_df = daily_df[daily_df[\"status\"].apply(lambda x: \"contract\" in x.lower())]\n",
    "            daily_df[\"address_key\"] = daily_df[\"address\"].apply(lambda x: process_address(x))\n",
    "            daily_df[\"date\"] = date_str\n",
    "        else:\n",
    "            tem_df = pd.read_pickle(daily_pickle)\n",
    "            tem_df = tem_df[tem_df[\"status\"].apply(lambda x: \"contract\" in x.lower())]\n",
    "            tem_df[\"address_key\"] = tem_df[\"address\"].apply(lambda x: process_address(x))\n",
    "            tem_df[\"date\"] = date_str\n",
    "            daily_df = pd.concat([daily_df, tem_df], axis=0)\\\n",
    "                        .drop_duplicates(\"address\", keep=\"last\")\n",
    "    except:\n",
    "        pass "
   ]
  },
  {
   "cell_type": "code",
   "execution_count": 52,
   "metadata": {},
   "outputs": [
    {
     "name": "stdout",
     "output_type": "stream",
     "text": [
      "260434\n"
     ]
    },
    {
     "data": {
      "text/html": [
       "<div>\n",
       "<style scoped>\n",
       "    .dataframe tbody tr th:only-of-type {\n",
       "        vertical-align: middle;\n",
       "    }\n",
       "\n",
       "    .dataframe tbody tr th {\n",
       "        vertical-align: top;\n",
       "    }\n",
       "\n",
       "    .dataframe thead th {\n",
       "        text-align: right;\n",
       "    }\n",
       "</style>\n",
       "<table border=\"1\" class=\"dataframe\">\n",
       "  <thead>\n",
       "    <tr style=\"text-align: right;\">\n",
       "      <th></th>\n",
       "      <th>address</th>\n",
       "      <th>harlink</th>\n",
       "      <th>mp_features</th>\n",
       "      <th>agent</th>\n",
       "      <th>price</th>\n",
       "      <th>posted_days</th>\n",
       "      <th>status</th>\n",
       "      <th>zipcode</th>\n",
       "      <th>num_beds</th>\n",
       "      <th>num_bath</th>\n",
       "      <th>num_half_bath</th>\n",
       "      <th>building_sqft</th>\n",
       "      <th>has_loft</th>\n",
       "      <th>num_stories</th>\n",
       "      <th>num_parking_space</th>\n",
       "      <th>address_key</th>\n",
       "      <th>date</th>\n",
       "    </tr>\n",
       "  </thead>\n",
       "  <tbody>\n",
       "    <tr>\n",
       "      <th>57</th>\n",
       "      <td>4513 Refugio Dr, Plano, TX 75024</td>\n",
       "      <td>https://www.har.com//homedetail/4513-refugio-d...</td>\n",
       "      <td>4 bedrooms 3,395 Sqft. ($233/Sqft.) 3 full &amp; 1...</td>\n",
       "      <td>Karla Davis     Fathom Realty</td>\n",
       "      <td>789990.0</td>\n",
       "      <td>66.0</td>\n",
       "      <td>Under Contract - P</td>\n",
       "      <td>75024</td>\n",
       "      <td>4.0</td>\n",
       "      <td>0.0</td>\n",
       "      <td>0.0</td>\n",
       "      <td>3395.0</td>\n",
       "      <td>0.0</td>\n",
       "      <td>0.0</td>\n",
       "      <td>0.0</td>\n",
       "      <td>4513 Refugio Dr, Plano, TX 75024</td>\n",
       "      <td>2023_11_05</td>\n",
       "    </tr>\n",
       "    <tr>\n",
       "      <th>8</th>\n",
       "      <td>1516 Bay Area Blvd P12, Houston, TX 77058</td>\n",
       "      <td>https://www.har.com//homedetail/1516-bay-area-...</td>\n",
       "      <td>1 bedrooms 684 Sqft. ($117/Sqft.) 1 full baths...</td>\n",
       "      <td>Laurie Long      RE/MAX Space Center</td>\n",
       "      <td>79900.0</td>\n",
       "      <td>79.0</td>\n",
       "      <td>Under Contract - PS</td>\n",
       "      <td>77058</td>\n",
       "      <td>1.0</td>\n",
       "      <td>0.0</td>\n",
       "      <td>0.0</td>\n",
       "      <td>684.0</td>\n",
       "      <td>0.0</td>\n",
       "      <td>0.0</td>\n",
       "      <td>0.0</td>\n",
       "      <td>1516 Bay Area Blvd P12, Houston, TX 77058</td>\n",
       "      <td>2023_11_05</td>\n",
       "    </tr>\n",
       "  </tbody>\n",
       "</table>\n",
       "</div>"
      ],
      "text/plain": [
       "                                      address  \\\n",
       "57           4513 Refugio Dr, Plano, TX 75024   \n",
       "8   1516 Bay Area Blvd P12, Houston, TX 77058   \n",
       "\n",
       "                                              harlink  \\\n",
       "57  https://www.har.com//homedetail/4513-refugio-d...   \n",
       "8   https://www.har.com//homedetail/1516-bay-area-...   \n",
       "\n",
       "                                          mp_features  \\\n",
       "57  4 bedrooms 3,395 Sqft. ($233/Sqft.) 3 full & 1...   \n",
       "8   1 bedrooms 684 Sqft. ($117/Sqft.) 1 full baths...   \n",
       "\n",
       "                                   agent     price  posted_days  \\\n",
       "57         Karla Davis     Fathom Realty  789990.0         66.0   \n",
       "8   Laurie Long      RE/MAX Space Center   79900.0         79.0   \n",
       "\n",
       "                 status zipcode  num_beds  num_bath  num_half_bath  \\\n",
       "57   Under Contract - P   75024       4.0       0.0            0.0   \n",
       "8   Under Contract - PS   77058       1.0       0.0            0.0   \n",
       "\n",
       "    building_sqft  has_loft  num_stories  num_parking_space  \\\n",
       "57         3395.0       0.0          0.0                0.0   \n",
       "8           684.0       0.0          0.0                0.0   \n",
       "\n",
       "                                  address_key        date  \n",
       "57           4513 Refugio Dr, Plano, TX 75024  2023_11_05  \n",
       "8   1516 Bay Area Blvd P12, Houston, TX 77058  2023_11_05  "
      ]
     },
     "execution_count": 52,
     "metadata": {},
     "output_type": "execute_result"
    }
   ],
   "source": [
    "print(len(daily_df))\n",
    "daily_df.head(2)"
   ]
  },
  {
   "cell_type": "markdown",
   "metadata": {},
   "source": [
    "## Append full house json file "
   ]
  },
  {
   "cell_type": "code",
   "execution_count": 62,
   "metadata": {},
   "outputs": [
    {
     "name": "stdout",
     "output_type": "stream",
     "text": [
      "1687741\n",
      "1322213\n"
     ]
    },
    {
     "data": {
      "text/html": [
       "<div>\n",
       "<style scoped>\n",
       "    .dataframe tbody tr th:only-of-type {\n",
       "        vertical-align: middle;\n",
       "    }\n",
       "\n",
       "    .dataframe tbody tr th {\n",
       "        vertical-align: top;\n",
       "    }\n",
       "\n",
       "    .dataframe thead th {\n",
       "        text-align: right;\n",
       "    }\n",
       "</style>\n",
       "<table border=\"1\" class=\"dataframe\">\n",
       "  <thead>\n",
       "    <tr style=\"text-align: right;\">\n",
       "      <th></th>\n",
       "      <th>json_path</th>\n",
       "      <th>address</th>\n",
       "      <th>time_epoch</th>\n",
       "    </tr>\n",
       "  </thead>\n",
       "  <tbody>\n",
       "    <tr>\n",
       "      <th>1420123</th>\n",
       "      <td>/home/user/DataCenter/HAR_data/address_fullinf...</td>\n",
       "      <td>1649 Pinot Noir St, Leander, TX 78641</td>\n",
       "      <td>1628900603</td>\n",
       "    </tr>\n",
       "    <tr>\n",
       "      <th>686945</th>\n",
       "      <td>/home/user/DataCenter/HAR_data/address_fullinf...</td>\n",
       "      <td>1441 Isabella Ln, Aubrey, TX 76227</td>\n",
       "      <td>1710390001</td>\n",
       "    </tr>\n",
       "    <tr>\n",
       "      <th>83461</th>\n",
       "      <td>/home/user/DataCenter/HAR_data/address_fullinf...</td>\n",
       "      <td>8611 Datapoint Dr #47, San Antonio, TX 78229</td>\n",
       "      <td>1656798632</td>\n",
       "    </tr>\n",
       "  </tbody>\n",
       "</table>\n",
       "</div>"
      ],
      "text/plain": [
       "                                                 json_path  \\\n",
       "1420123  /home/user/DataCenter/HAR_data/address_fullinf...   \n",
       "686945   /home/user/DataCenter/HAR_data/address_fullinf...   \n",
       "83461    /home/user/DataCenter/HAR_data/address_fullinf...   \n",
       "\n",
       "                                              address  time_epoch  \n",
       "1420123         1649 Pinot Noir St, Leander, TX 78641  1628900603  \n",
       "686945             1441 Isabella Ln, Aubrey, TX 76227  1710390001  \n",
       "83461    8611 Datapoint Dr #47, San Antonio, TX 78229  1656798632  "
      ]
     },
     "execution_count": 62,
     "metadata": {},
     "output_type": "execute_result"
    }
   ],
   "source": [
    "json_folder = \"/home/user/DataCenter/HAR_data/address_fullinfo_for_sale/\"\n",
    "all_files = [os.path.join(json_folder, f) for f in os.listdir(json_folder) if f.endswith(\".json\")]\n",
    "json_path_df = pd.DataFrame(all_files, columns=[\"json_path\"])\n",
    "json_path_df[\"address\"] = json_path_df[\"json_path\"].apply(lambda x: x.split(\"/\")[-1][:-16])\n",
    "json_path_df[\"time_epoch\"] = json_path_df[\"json_path\"].apply(lambda x: x.split(\"/\")[-1][-15:-5])\n",
    "print(len(json_path_df))\n",
    "json_path_df = json_path_df.sort_values(\"time_epoch\").drop_duplicates(\"address\", keep=\"last\")\n",
    "print(len(json_path_df))\n",
    "json_path_df.sample(3)"
   ]
  },
  {
   "cell_type": "code",
   "execution_count": 65,
   "metadata": {},
   "outputs": [
    {
     "data": {
      "text/html": [
       "<div>\n",
       "<style scoped>\n",
       "    .dataframe tbody tr th:only-of-type {\n",
       "        vertical-align: middle;\n",
       "    }\n",
       "\n",
       "    .dataframe tbody tr th {\n",
       "        vertical-align: top;\n",
       "    }\n",
       "\n",
       "    .dataframe thead th {\n",
       "        text-align: right;\n",
       "    }\n",
       "</style>\n",
       "<table border=\"1\" class=\"dataframe\">\n",
       "  <thead>\n",
       "    <tr style=\"text-align: right;\">\n",
       "      <th></th>\n",
       "      <th>address</th>\n",
       "      <th>harlink</th>\n",
       "      <th>mp_features</th>\n",
       "      <th>agent</th>\n",
       "      <th>price</th>\n",
       "      <th>posted_days</th>\n",
       "      <th>status</th>\n",
       "      <th>zipcode</th>\n",
       "      <th>num_beds</th>\n",
       "      <th>num_bath</th>\n",
       "      <th>num_half_bath</th>\n",
       "      <th>building_sqft</th>\n",
       "      <th>has_loft</th>\n",
       "      <th>num_stories</th>\n",
       "      <th>num_parking_space</th>\n",
       "      <th>address_key</th>\n",
       "      <th>date</th>\n",
       "      <th>json_path</th>\n",
       "      <th>time_epoch</th>\n",
       "    </tr>\n",
       "  </thead>\n",
       "  <tbody>\n",
       "    <tr>\n",
       "      <th>57</th>\n",
       "      <td>4513 Refugio Dr, Plano, TX 75024</td>\n",
       "      <td>https://www.har.com//homedetail/4513-refugio-d...</td>\n",
       "      <td>4 bedrooms 3,395 Sqft. ($233/Sqft.) 3 full &amp; 1...</td>\n",
       "      <td>Karla Davis     Fathom Realty</td>\n",
       "      <td>789990.0</td>\n",
       "      <td>66.0</td>\n",
       "      <td>Under Contract - P</td>\n",
       "      <td>75024</td>\n",
       "      <td>4.0</td>\n",
       "      <td>0.0</td>\n",
       "      <td>0.0</td>\n",
       "      <td>3395.0</td>\n",
       "      <td>0.0</td>\n",
       "      <td>0.0</td>\n",
       "      <td>0.0</td>\n",
       "      <td>4513 Refugio Dr, Plano, TX 75024</td>\n",
       "      <td>2023_11_05</td>\n",
       "      <td>/home/user/DataCenter/HAR_data/address_fullinf...</td>\n",
       "      <td>1690411643</td>\n",
       "    </tr>\n",
       "    <tr>\n",
       "      <th>8</th>\n",
       "      <td>1516 Bay Area Blvd P12, Houston, TX 77058</td>\n",
       "      <td>https://www.har.com//homedetail/1516-bay-area-...</td>\n",
       "      <td>1 bedrooms 684 Sqft. ($117/Sqft.) 1 full baths...</td>\n",
       "      <td>Laurie Long      RE/MAX Space Center</td>\n",
       "      <td>79900.0</td>\n",
       "      <td>79.0</td>\n",
       "      <td>Under Contract - PS</td>\n",
       "      <td>77058</td>\n",
       "      <td>1.0</td>\n",
       "      <td>0.0</td>\n",
       "      <td>0.0</td>\n",
       "      <td>684.0</td>\n",
       "      <td>0.0</td>\n",
       "      <td>0.0</td>\n",
       "      <td>0.0</td>\n",
       "      <td>1516 Bay Area Blvd P12, Houston, TX 77058</td>\n",
       "      <td>2023_11_05</td>\n",
       "      <td>/home/user/DataCenter/HAR_data/address_fullinf...</td>\n",
       "      <td>1689375459</td>\n",
       "    </tr>\n",
       "  </tbody>\n",
       "</table>\n",
       "</div>"
      ],
      "text/plain": [
       "                                      address  \\\n",
       "57           4513 Refugio Dr, Plano, TX 75024   \n",
       "8   1516 Bay Area Blvd P12, Houston, TX 77058   \n",
       "\n",
       "                                              harlink  \\\n",
       "57  https://www.har.com//homedetail/4513-refugio-d...   \n",
       "8   https://www.har.com//homedetail/1516-bay-area-...   \n",
       "\n",
       "                                          mp_features  \\\n",
       "57  4 bedrooms 3,395 Sqft. ($233/Sqft.) 3 full & 1...   \n",
       "8   1 bedrooms 684 Sqft. ($117/Sqft.) 1 full baths...   \n",
       "\n",
       "                                   agent     price  posted_days  \\\n",
       "57         Karla Davis     Fathom Realty  789990.0         66.0   \n",
       "8   Laurie Long      RE/MAX Space Center   79900.0         79.0   \n",
       "\n",
       "                 status zipcode  num_beds  num_bath  num_half_bath  \\\n",
       "57   Under Contract - P   75024       4.0       0.0            0.0   \n",
       "8   Under Contract - PS   77058       1.0       0.0            0.0   \n",
       "\n",
       "    building_sqft  has_loft  num_stories  num_parking_space  \\\n",
       "57         3395.0       0.0          0.0                0.0   \n",
       "8           684.0       0.0          0.0                0.0   \n",
       "\n",
       "                                  address_key        date  \\\n",
       "57           4513 Refugio Dr, Plano, TX 75024  2023_11_05   \n",
       "8   1516 Bay Area Blvd P12, Houston, TX 77058  2023_11_05   \n",
       "\n",
       "                                            json_path  time_epoch  \n",
       "57  /home/user/DataCenter/HAR_data/address_fullinf...  1690411643  \n",
       "8   /home/user/DataCenter/HAR_data/address_fullinf...  1689375459  "
      ]
     },
     "execution_count": 65,
     "metadata": {},
     "output_type": "execute_result"
    }
   ],
   "source": [
    "join_df = daily_df.join(json_path_df.set_index(\"address\"), on=\"address\", how=\"inner\")\n",
    "join_df.head(2)"
   ]
  },
  {
   "cell_type": "markdown",
   "metadata": {},
   "source": [
    "## Append Image Folder "
   ]
  },
  {
   "cell_type": "code",
   "execution_count": 73,
   "metadata": {},
   "outputs": [
    {
     "name": "stderr",
     "output_type": "stream",
     "text": [
      "100%|██████████████████████████████████████████████████████████████████████████████████████████████████████████████████████████████████████████| 100/100 [00:05<00:00, 19.54it/s]\n"
     ]
    }
   ],
   "source": [
    "image_folder = \"/home/user/DataCenter/HAR_data/house_images/\"\n",
    "all_folders = []\n",
    "for i in tqdm(range(100)):\n",
    "    for j in range(100):\n",
    "        folder = os.path.join(image_folder, f\"{i:04d}/{j:04d}\") \n",
    "        all_folders.extend([os.path.join(folder, f) for f in os.listdir(folder)])"
   ]
  },
  {
   "cell_type": "code",
   "execution_count": 96,
   "metadata": {},
   "outputs": [
    {
     "name": "stdout",
     "output_type": "stream",
     "text": [
      "608920\n",
      "606158\n"
     ]
    },
    {
     "data": {
      "text/html": [
       "<div>\n",
       "<style scoped>\n",
       "    .dataframe tbody tr th:only-of-type {\n",
       "        vertical-align: middle;\n",
       "    }\n",
       "\n",
       "    .dataframe tbody tr th {\n",
       "        vertical-align: top;\n",
       "    }\n",
       "\n",
       "    .dataframe thead th {\n",
       "        text-align: right;\n",
       "    }\n",
       "</style>\n",
       "<table border=\"1\" class=\"dataframe\">\n",
       "  <thead>\n",
       "    <tr style=\"text-align: right;\">\n",
       "      <th></th>\n",
       "      <th>image_path</th>\n",
       "      <th>address</th>\n",
       "      <th>time_epoch</th>\n",
       "    </tr>\n",
       "  </thead>\n",
       "  <tbody>\n",
       "    <tr>\n",
       "      <th>378087</th>\n",
       "      <td>/home/user/DataCenter/HAR_data/house_images/00...</td>\n",
       "      <td>5635 Fountainwood Dr, San Antonio, TX 78233</td>\n",
       "      <td>1733507515</td>\n",
       "    </tr>\n",
       "    <tr>\n",
       "      <th>382474</th>\n",
       "      <td>/home/user/DataCenter/HAR_data/house_images/00...</td>\n",
       "      <td>12720 Apollo Creek, San Antonio, TX 78245</td>\n",
       "      <td>1730929530</td>\n",
       "    </tr>\n",
       "  </tbody>\n",
       "</table>\n",
       "</div>"
      ],
      "text/plain": [
       "                                               image_path  \\\n",
       "378087  /home/user/DataCenter/HAR_data/house_images/00...   \n",
       "382474  /home/user/DataCenter/HAR_data/house_images/00...   \n",
       "\n",
       "                                            address  time_epoch  \n",
       "378087  5635 Fountainwood Dr, San Antonio, TX 78233  1733507515  \n",
       "382474    12720 Apollo Creek, San Antonio, TX 78245  1730929530  "
      ]
     },
     "execution_count": 96,
     "metadata": {},
     "output_type": "execute_result"
    }
   ],
   "source": [
    "image_df = pd.DataFrame(all_folders, columns=[\"image_path\"])\n",
    "image_df[\"address\"] = image_df[\"image_path\"].apply(lambda x: x.split(\"/\")[-1][:-11])\n",
    "image_df[\"time_epoch\"] = image_df[\"image_path\"].apply(lambda x: x.split(\"/\")[-1][-10:])\n",
    "print(len(image_df))\n",
    "image_df = image_df.sort_values(\"time_epoch\").drop_duplicates(\"address\", keep=\"last\")\n",
    "print(len(image_df))\n",
    "image_df.sample(2)"
   ]
  },
  {
   "cell_type": "code",
   "execution_count": 99,
   "metadata": {},
   "outputs": [
    {
     "name": "stdout",
     "output_type": "stream",
     "text": [
      "260368\n",
      "258960\n"
     ]
    },
    {
     "data": {
      "text/html": [
       "<div>\n",
       "<style scoped>\n",
       "    .dataframe tbody tr th:only-of-type {\n",
       "        vertical-align: middle;\n",
       "    }\n",
       "\n",
       "    .dataframe tbody tr th {\n",
       "        vertical-align: top;\n",
       "    }\n",
       "\n",
       "    .dataframe thead th {\n",
       "        text-align: right;\n",
       "    }\n",
       "</style>\n",
       "<table border=\"1\" class=\"dataframe\">\n",
       "  <thead>\n",
       "    <tr style=\"text-align: right;\">\n",
       "      <th></th>\n",
       "      <th>address</th>\n",
       "      <th>harlink</th>\n",
       "      <th>mp_features</th>\n",
       "      <th>agent</th>\n",
       "      <th>price</th>\n",
       "      <th>posted_days</th>\n",
       "      <th>status</th>\n",
       "      <th>zipcode</th>\n",
       "      <th>num_beds</th>\n",
       "      <th>num_bath</th>\n",
       "      <th>num_half_bath</th>\n",
       "      <th>building_sqft</th>\n",
       "      <th>has_loft</th>\n",
       "      <th>num_stories</th>\n",
       "      <th>num_parking_space</th>\n",
       "      <th>address_key</th>\n",
       "      <th>date</th>\n",
       "      <th>json_path</th>\n",
       "      <th>time_epoch</th>\n",
       "      <th>image_path</th>\n",
       "    </tr>\n",
       "  </thead>\n",
       "  <tbody>\n",
       "    <tr>\n",
       "      <th>57</th>\n",
       "      <td>4513 Refugio Dr, Plano, TX 75024</td>\n",
       "      <td>https://www.har.com//homedetail/4513-refugio-d...</td>\n",
       "      <td>4 bedrooms 3,395 Sqft. ($233/Sqft.) 3 full &amp; 1...</td>\n",
       "      <td>Karla Davis     Fathom Realty</td>\n",
       "      <td>789990.0</td>\n",
       "      <td>66.0</td>\n",
       "      <td>Under Contract - P</td>\n",
       "      <td>75024</td>\n",
       "      <td>4.0</td>\n",
       "      <td>0.0</td>\n",
       "      <td>0.0</td>\n",
       "      <td>3395.0</td>\n",
       "      <td>0.0</td>\n",
       "      <td>0.0</td>\n",
       "      <td>0.0</td>\n",
       "      <td>4513 Refugio Dr, Plano, TX 75024</td>\n",
       "      <td>2023_11_05</td>\n",
       "      <td>/home/user/DataCenter/HAR_data/address_fullinf...</td>\n",
       "      <td>1690411643</td>\n",
       "      <td>/home/user/DataCenter/HAR_data/house_images/00...</td>\n",
       "    </tr>\n",
       "    <tr>\n",
       "      <th>8</th>\n",
       "      <td>1516 Bay Area Blvd P12, Houston, TX 77058</td>\n",
       "      <td>https://www.har.com//homedetail/1516-bay-area-...</td>\n",
       "      <td>1 bedrooms 684 Sqft. ($117/Sqft.) 1 full baths...</td>\n",
       "      <td>Laurie Long      RE/MAX Space Center</td>\n",
       "      <td>79900.0</td>\n",
       "      <td>79.0</td>\n",
       "      <td>Under Contract - PS</td>\n",
       "      <td>77058</td>\n",
       "      <td>1.0</td>\n",
       "      <td>0.0</td>\n",
       "      <td>0.0</td>\n",
       "      <td>684.0</td>\n",
       "      <td>0.0</td>\n",
       "      <td>0.0</td>\n",
       "      <td>0.0</td>\n",
       "      <td>1516 Bay Area Blvd P12, Houston, TX 77058</td>\n",
       "      <td>2023_11_05</td>\n",
       "      <td>/home/user/DataCenter/HAR_data/address_fullinf...</td>\n",
       "      <td>1689375459</td>\n",
       "      <td>/home/user/DataCenter/HAR_data/house_images/00...</td>\n",
       "    </tr>\n",
       "  </tbody>\n",
       "</table>\n",
       "</div>"
      ],
      "text/plain": [
       "                                      address  \\\n",
       "57           4513 Refugio Dr, Plano, TX 75024   \n",
       "8   1516 Bay Area Blvd P12, Houston, TX 77058   \n",
       "\n",
       "                                              harlink  \\\n",
       "57  https://www.har.com//homedetail/4513-refugio-d...   \n",
       "8   https://www.har.com//homedetail/1516-bay-area-...   \n",
       "\n",
       "                                          mp_features  \\\n",
       "57  4 bedrooms 3,395 Sqft. ($233/Sqft.) 3 full & 1...   \n",
       "8   1 bedrooms 684 Sqft. ($117/Sqft.) 1 full baths...   \n",
       "\n",
       "                                   agent     price  posted_days  \\\n",
       "57         Karla Davis     Fathom Realty  789990.0         66.0   \n",
       "8   Laurie Long      RE/MAX Space Center   79900.0         79.0   \n",
       "\n",
       "                 status zipcode  num_beds  num_bath  num_half_bath  \\\n",
       "57   Under Contract - P   75024       4.0       0.0            0.0   \n",
       "8   Under Contract - PS   77058       1.0       0.0            0.0   \n",
       "\n",
       "    building_sqft  has_loft  num_stories  num_parking_space  \\\n",
       "57         3395.0       0.0          0.0                0.0   \n",
       "8           684.0       0.0          0.0                0.0   \n",
       "\n",
       "                                  address_key        date  \\\n",
       "57           4513 Refugio Dr, Plano, TX 75024  2023_11_05   \n",
       "8   1516 Bay Area Blvd P12, Houston, TX 77058  2023_11_05   \n",
       "\n",
       "                                            json_path  time_epoch  \\\n",
       "57  /home/user/DataCenter/HAR_data/address_fullinf...  1690411643   \n",
       "8   /home/user/DataCenter/HAR_data/address_fullinf...  1689375459   \n",
       "\n",
       "                                           image_path  \n",
       "57  /home/user/DataCenter/HAR_data/house_images/00...  \n",
       "8   /home/user/DataCenter/HAR_data/house_images/00...  "
      ]
     },
     "execution_count": 99,
     "metadata": {},
     "output_type": "execute_result"
    }
   ],
   "source": [
    "print(len(join_df))\n",
    "join_df2 = join_df.join(image_df.set_index(\"address\")[[\"image_path\"]], on=\"address\", how=\"inner\")\n",
    "print(len(join_df2))\n",
    "join_df2.head(2)"
   ]
  },
  {
   "cell_type": "code",
   "execution_count": 104,
   "metadata": {},
   "outputs": [],
   "source": [
    "## Strategy to drop the redudant addresses, chooose the one with largest json size, and the most images in the folder\n",
    "join_df2[\"json_size\"] = join_df2[\"json_path\"].apply(lambda x: os.path.getsize(x))"
   ]
  },
  {
   "cell_type": "code",
   "execution_count": 105,
   "metadata": {},
   "outputs": [],
   "source": [
    "join_df2[\"image_cnt\"] = join_df2[\"image_path\"].apply(lambda x: len([_ for _ in os.listdir(x) if _.endswith(\".jpeg\")]))"
   ]
  },
  {
   "cell_type": "code",
   "execution_count": 124,
   "metadata": {},
   "outputs": [],
   "source": [
    "## Defer the drop duplicates to the end\n",
    "# final_df = join_df2.sort_values([\"json_size\", \"image_cnt\"]).drop_duplicates(\"address_key\", keep=\"last\")\n",
    "# print(len(final_df), len(join_df2))"
   ]
  },
  {
   "cell_type": "code",
   "execution_count": 125,
   "metadata": {},
   "outputs": [],
   "source": [
    "# final_df.head(2)"
   ]
  },
  {
   "cell_type": "code",
   "execution_count": 126,
   "metadata": {},
   "outputs": [],
   "source": [
    "join_df2.to_pickle(\"data/contracted_houses_11052023_11062024.pkl\")"
   ]
  },
  {
   "cell_type": "code",
   "execution_count": 123,
   "metadata": {},
   "outputs": [],
   "source": [
    "# join_df2[\"json_size\"].min(), join_df2[\"json_size\"].max(), join_df2[\"json_size\"].mean()"
   ]
  },
  {
   "cell_type": "code",
   "execution_count": 122,
   "metadata": {},
   "outputs": [],
   "source": [
    "# join_df2[join_df2[\"json_size\"] == join_df2[\"json_size\"].min()]"
   ]
  },
  {
   "cell_type": "code",
   "execution_count": null,
   "metadata": {},
   "outputs": [],
   "source": []
  }
 ],
 "metadata": {
  "kernelspec": {
   "display_name": "Python 3 (ipykernel)",
   "language": "python",
   "name": "python3"
  },
  "language_info": {
   "codemirror_mode": {
    "name": "ipython",
    "version": 3
   },
   "file_extension": ".py",
   "mimetype": "text/x-python",
   "name": "python",
   "nbconvert_exporter": "python",
   "pygments_lexer": "ipython3",
   "version": "3.10.9"
  }
 },
 "nbformat": 4,
 "nbformat_minor": 2
}
