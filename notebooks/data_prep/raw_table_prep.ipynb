{
 "cells": [
  {
   "cell_type": "code",
   "execution_count": 1,
   "metadata": {},
   "outputs": [],
   "source": [
    "import pandas as pd\n",
    "import numpy as np\n",
    "from tqdm import tqdm\n",
    "import os \n",
    "import sys\n",
    "from datetime import datetime, timedelta\n",
    "from modeling.utils import process_address\n",
    "from modeling.utils import * \n",
    "import json\n",
    "import warnings\n",
    "from multiprocessing import Pool\n",
    "warnings.filterwarnings('ignore')\n",
    "pd.set_option('display.max_columns', 50)\n",
    "pd.set_option('display.max_rows', 500)"
   ]
  },
  {
   "cell_type": "code",
   "execution_count": 2,
   "metadata": {},
   "outputs": [],
   "source": [
    "# daily_scrpe_folder = '/home/user/DataCenter/HAR_data/combined_pickles/'\n",
    "# [_ for _ in sorted(os.listdir(daily_scrpe_folder)) if \"sale\" in _]\n",
    "# df1 = pd.read_pickle(daily_scrpe_folder + \"zipcode_search__2020_10_31_for_sale.pkl\")\n",
    "# df2 = pd.read_pickle(daily_scrpe_folder + \"zipcode_search__2023_11_04_for_sale.pkl\")"
   ]
  },
  {
   "cell_type": "code",
   "execution_count": 3,
   "metadata": {},
   "outputs": [],
   "source": [
    "df = pd.read_pickle(\"../../data/property_structured_10312020text_only_12162024_train.pkl\")"
   ]
  },
  {
   "cell_type": "code",
   "execution_count": 4,
   "metadata": {},
   "outputs": [
    {
     "data": {
      "text/plain": [
       "671672"
      ]
     },
     "execution_count": 4,
     "metadata": {},
     "output_type": "execute_result"
    }
   ],
   "source": [
    "len(df)"
   ]
  },
  {
   "cell_type": "code",
   "execution_count": 5,
   "metadata": {},
   "outputs": [
    {
     "data": {
      "text/plain": [
       "<Axes: >"
      ]
     },
     "execution_count": 5,
     "metadata": {},
     "output_type": "execute_result"
    },
    {
     "data": {
      "image/png": "[encoded data removed]",
      "text/plain": [
       "<Figure size 640x480 with 1 Axes>"
      ]
     },
     "metadata": {},
     "output_type": "display_data"
    }
   ],
   "source": [
    "df[\"price\"].hist(range=(0, 2e6), bins=21)"
   ]
  },
  {
   "cell_type": "code",
   "execution_count": 6,
   "metadata": {},
   "outputs": [
    {
     "data": {
      "text/html": [
       "<div>\n",
       "<style scoped>\n",
       "    .dataframe tbody tr th:only-of-type {\n",
       "        vertical-align: middle;\n",
       "    }\n",
       "\n",
       "    .dataframe tbody tr th {\n",
       "        vertical-align: top;\n",
       "    }\n",
       "\n",
       "    .dataframe thead th {\n",
       "        text-align: right;\n",
       "    }\n",
       "</style>\n",
       "<table border=\"1\" class=\"dataframe\">\n",
       "  <thead>\n",
       "    <tr style=\"text-align: right;\">\n",
       "      <th></th>\n",
       "      <th>date</th>\n",
       "      <th>status</th>\n",
       "      <th>price</th>\n",
       "      <th>building_sqft2</th>\n",
       "      <th>num_beds</th>\n",
       "      <th>num_bath</th>\n",
       "      <th>address_key</th>\n",
       "    </tr>\n",
       "  </thead>\n",
       "  <tbody>\n",
       "    <tr>\n",
       "      <th>47</th>\n",
       "      <td>2023_11_05</td>\n",
       "      <td>Under Contract - P</td>\n",
       "      <td>3995950.0</td>\n",
       "      <td>8649.0</td>\n",
       "      <td>5.0</td>\n",
       "      <td>0.0</td>\n",
       "      <td>11103 Memorial Drive, Houston, TX 77024</td>\n",
       "    </tr>\n",
       "    <tr>\n",
       "      <th>301</th>\n",
       "      <td>2023_11_06</td>\n",
       "      <td>Under Contract - P</td>\n",
       "      <td>5295000.0</td>\n",
       "      <td>NaN</td>\n",
       "      <td>6.0</td>\n",
       "      <td>0.0</td>\n",
       "      <td>11125 N Country Squire, Houston, TX 77024</td>\n",
       "    </tr>\n",
       "    <tr>\n",
       "      <th>590</th>\n",
       "      <td>2023_11_07</td>\n",
       "      <td>Under Contract - P</td>\n",
       "      <td>4995000.0</td>\n",
       "      <td>5716.0</td>\n",
       "      <td>5.0</td>\n",
       "      <td>0.0</td>\n",
       "      <td>1750 Dalton Rd, Rockwall, TX 75087</td>\n",
       "    </tr>\n",
       "    <tr>\n",
       "      <th>1034</th>\n",
       "      <td>2023_11_10</td>\n",
       "      <td>Under Contract - P</td>\n",
       "      <td>2900000.0</td>\n",
       "      <td>7709.0</td>\n",
       "      <td>5.0</td>\n",
       "      <td>0.0</td>\n",
       "      <td>5615 Stone Cliff Ct, Dallas, TX 75287</td>\n",
       "    </tr>\n",
       "    <tr>\n",
       "      <th>1534</th>\n",
       "      <td>2023_11_11</td>\n",
       "      <td>Under Contract - P</td>\n",
       "      <td>3998800.0</td>\n",
       "      <td>9000.0</td>\n",
       "      <td>6.0</td>\n",
       "      <td>0.0</td>\n",
       "      <td>39 Haven Shore Ln, Sugar Land, TX 77479</td>\n",
       "    </tr>\n",
       "    <tr>\n",
       "      <th>...</th>\n",
       "      <td>...</td>\n",
       "      <td>...</td>\n",
       "      <td>...</td>\n",
       "      <td>...</td>\n",
       "      <td>...</td>\n",
       "      <td>...</td>\n",
       "      <td>...</td>\n",
       "    </tr>\n",
       "    <tr>\n",
       "      <th>112</th>\n",
       "      <td>2023_11_03</td>\n",
       "      <td>Under Contract - P</td>\n",
       "      <td>5470000.0</td>\n",
       "      <td>4210.0</td>\n",
       "      <td>3.0</td>\n",
       "      <td>0.0</td>\n",
       "      <td>2419 Mimosa Street #801, Houston, TX 77019</td>\n",
       "    </tr>\n",
       "    <tr>\n",
       "      <th>326</th>\n",
       "      <td>2023_11_03</td>\n",
       "      <td>Under Contract - OP</td>\n",
       "      <td>2750000.0</td>\n",
       "      <td>5741.0</td>\n",
       "      <td>5.0</td>\n",
       "      <td>0.0</td>\n",
       "      <td>17709 Navigation Ln, Jonestown, TX 78645</td>\n",
       "    </tr>\n",
       "    <tr>\n",
       "      <th>89</th>\n",
       "      <td>2023_11_03</td>\n",
       "      <td>Under Contract - P</td>\n",
       "      <td>2695000.0</td>\n",
       "      <td>3566.0</td>\n",
       "      <td>4.0</td>\n",
       "      <td>0.0</td>\n",
       "      <td>5300 N Scout Island Cir, Austin, TX 78731</td>\n",
       "    </tr>\n",
       "    <tr>\n",
       "      <th>125</th>\n",
       "      <td>2023_11_03</td>\n",
       "      <td>Under Contract - OP</td>\n",
       "      <td>2750000.0</td>\n",
       "      <td>8240.0</td>\n",
       "      <td>5.0</td>\n",
       "      <td>0.0</td>\n",
       "      <td>7812 Valburn Dr, Austin, TX 78731</td>\n",
       "    </tr>\n",
       "    <tr>\n",
       "      <th>100</th>\n",
       "      <td>2023_11_03</td>\n",
       "      <td>Under Contract - P</td>\n",
       "      <td>2550000.0</td>\n",
       "      <td>5766.0</td>\n",
       "      <td>4.0</td>\n",
       "      <td>0.0</td>\n",
       "      <td>1103 Berthea St, Houston, TX 77006</td>\n",
       "    </tr>\n",
       "  </tbody>\n",
       "</table>\n",
       "<p>4166 rows × 7 columns</p>\n",
       "</div>"
      ],
      "text/plain": [
       "            date               status      price  building_sqft2 num_beds  \\\n",
       "47    2023_11_05   Under Contract - P  3995950.0          8649.0      5.0   \n",
       "301   2023_11_06   Under Contract - P  5295000.0             NaN      6.0   \n",
       "590   2023_11_07   Under Contract - P  4995000.0          5716.0      5.0   \n",
       "1034  2023_11_10   Under Contract - P  2900000.0          7709.0      5.0   \n",
       "1534  2023_11_11   Under Contract - P  3998800.0          9000.0      6.0   \n",
       "...          ...                  ...        ...             ...      ...   \n",
       "112   2023_11_03   Under Contract - P  5470000.0          4210.0      3.0   \n",
       "326   2023_11_03  Under Contract - OP  2750000.0          5741.0      5.0   \n",
       "89    2023_11_03   Under Contract - P  2695000.0          3566.0      4.0   \n",
       "125   2023_11_03  Under Contract - OP  2750000.0          8240.0      5.0   \n",
       "100   2023_11_03   Under Contract - P  2550000.0          5766.0      4.0   \n",
       "\n",
       "     num_bath                                 address_key  \n",
       "47        0.0     11103 Memorial Drive, Houston, TX 77024  \n",
       "301       0.0   11125 N Country Squire, Houston, TX 77024  \n",
       "590       0.0          1750 Dalton Rd, Rockwall, TX 75087  \n",
       "1034      0.0       5615 Stone Cliff Ct, Dallas, TX 75287  \n",
       "1534      0.0     39 Haven Shore Ln, Sugar Land, TX 77479  \n",
       "...       ...                                         ...  \n",
       "112       0.0  2419 Mimosa Street #801, Houston, TX 77019  \n",
       "326       0.0    17709 Navigation Ln, Jonestown, TX 78645  \n",
       "89        0.0   5300 N Scout Island Cir, Austin, TX 78731  \n",
       "125       0.0           7812 Valburn Dr, Austin, TX 78731  \n",
       "100       0.0          1103 Berthea St, Houston, TX 77006  \n",
       "\n",
       "[4166 rows x 7 columns]"
      ]
     },
     "execution_count": 6,
     "metadata": {},
     "output_type": "execute_result"
    }
   ],
   "source": [
    "display_cols = [\"date\", \"status\", \"price\", \"building_sqft2\", \"num_beds\", \"num_bath\", \"address_key\"]\n",
    "# df[(df[\"price\"] < 1e5) &(df[\"building_sqft2\"] > 2000)]\n",
    "df[df[\"price\"] > 2.5e6][display_cols]"
   ]
  },
  {
   "cell_type": "markdown",
   "metadata": {},
   "source": [
    "## Select the time window to extract house information"
   ]
  },
  {
   "cell_type": "code",
   "execution_count": 2,
   "metadata": {},
   "outputs": [
    {
     "name": "stdout",
     "output_type": "stream",
     "text": [
      "512129\n"
     ]
    },
    {
     "data": {
      "text/html": [
       "<div>\n",
       "<style scoped>\n",
       "    .dataframe tbody tr th:only-of-type {\n",
       "        vertical-align: middle;\n",
       "    }\n",
       "\n",
       "    .dataframe tbody tr th {\n",
       "        vertical-align: top;\n",
       "    }\n",
       "\n",
       "    .dataframe thead th {\n",
       "        text-align: right;\n",
       "    }\n",
       "</style>\n",
       "<table border=\"1\" class=\"dataframe\">\n",
       "  <thead>\n",
       "    <tr style=\"text-align: right;\">\n",
       "      <th></th>\n",
       "      <th>address</th>\n",
       "      <th>harlink</th>\n",
       "      <th>mp_features</th>\n",
       "      <th>agent</th>\n",
       "      <th>price</th>\n",
       "      <th>posted_days</th>\n",
       "      <th>status</th>\n",
       "      <th>zipcode</th>\n",
       "      <th>num_beds</th>\n",
       "      <th>num_bath</th>\n",
       "      <th>num_half_bath</th>\n",
       "      <th>building_sqft</th>\n",
       "      <th>has_loft</th>\n",
       "      <th>num_stories</th>\n",
       "      <th>num_parking_space</th>\n",
       "      <th>address_key</th>\n",
       "      <th>date</th>\n",
       "      <th>date_month</th>\n",
       "    </tr>\n",
       "  </thead>\n",
       "  <tbody>\n",
       "    <tr>\n",
       "      <th>271</th>\n",
       "      <td>9816 Havenway Dr, Denton, TX 76226</td>\n",
       "      <td>https://www.har.com//homedetail/9816-havenway-...</td>\n",
       "      <td>4 Bed(s) 2 Full  Bath(s) 1 Stories 2,048 Build...</td>\n",
       "      <td>Frankie Arthur WORK FOR Coldwell Banker Apex, ...</td>\n",
       "      <td>309000.0</td>\n",
       "      <td>8.0</td>\n",
       "      <td>Under Contract - Pending</td>\n",
       "      <td>76226</td>\n",
       "      <td>4</td>\n",
       "      <td>2</td>\n",
       "      <td>0</td>\n",
       "      <td>2048</td>\n",
       "      <td>0</td>\n",
       "      <td>1</td>\n",
       "      <td>0</td>\n",
       "      <td>9816 Havenway Dr, Denton, TX 76226</td>\n",
       "      <td>2020_10_31</td>\n",
       "      <td>2020_10</td>\n",
       "    </tr>\n",
       "    <tr>\n",
       "      <th>54</th>\n",
       "      <td>4028 Azure Ln, Addison, TX 75001</td>\n",
       "      <td>https://www.har.com//homedetail/4028-azure-ln-...</td>\n",
       "      <td>3 Bed(s) 2 Full  Bath(s) 1 Stories 1,980 Build...</td>\n",
       "      <td>David Heape WORK FOR Keller Williams Realty DPR</td>\n",
       "      <td>419000.0</td>\n",
       "      <td>55.0</td>\n",
       "      <td>Under Contract - Pending</td>\n",
       "      <td>75001</td>\n",
       "      <td>3</td>\n",
       "      <td>2</td>\n",
       "      <td>0</td>\n",
       "      <td>1980</td>\n",
       "      <td>0</td>\n",
       "      <td>1</td>\n",
       "      <td>0</td>\n",
       "      <td>4028 Azure Ln, Addison, TX 75001</td>\n",
       "      <td>2020_10_31</td>\n",
       "      <td>2020_10</td>\n",
       "    </tr>\n",
       "  </tbody>\n",
       "</table>\n",
       "</div>"
      ],
      "text/plain": [
       "                                address  \\\n",
       "271  9816 Havenway Dr, Denton, TX 76226   \n",
       "54     4028 Azure Ln, Addison, TX 75001   \n",
       "\n",
       "                                               harlink  \\\n",
       "271  https://www.har.com//homedetail/9816-havenway-...   \n",
       "54   https://www.har.com//homedetail/4028-azure-ln-...   \n",
       "\n",
       "                                           mp_features  \\\n",
       "271  4 Bed(s) 2 Full  Bath(s) 1 Stories 2,048 Build...   \n",
       "54   3 Bed(s) 2 Full  Bath(s) 1 Stories 1,980 Build...   \n",
       "\n",
       "                                                 agent     price  posted_days  \\\n",
       "271  Frankie Arthur WORK FOR Coldwell Banker Apex, ...  309000.0          8.0   \n",
       "54     David Heape WORK FOR Keller Williams Realty DPR  419000.0         55.0   \n",
       "\n",
       "                       status zipcode num_beds num_bath num_half_bath  \\\n",
       "271  Under Contract - Pending   76226        4        2             0   \n",
       "54   Under Contract - Pending   75001        3        2             0   \n",
       "\n",
       "    building_sqft has_loft num_stories num_parking_space  \\\n",
       "271          2048        0           1                 0   \n",
       "54           1980        0           1                 0   \n",
       "\n",
       "                            address_key        date date_month  \n",
       "271  9816 Havenway Dr, Denton, TX 76226  2020_10_31    2020_10  \n",
       "54     4028 Azure Ln, Addison, TX 75001  2020_10_31    2020_10  "
      ]
     },
     "execution_count": 2,
     "metadata": {},
     "output_type": "execute_result"
    }
   ],
   "source": [
    "cache_file = \"../../data/daily_df_cache.pkl\"\n",
    "\n",
    "if os.path.exists(cache_file):\n",
    "    daily_df = pd.read_pickle(cache_file)\n",
    "else: \n",
    "    daily_scrpe_folder = '/home/user/DataCenter/HAR_data/combined_pickles/'\n",
    "    start_date = datetime(2020, 10, 31)\n",
    "    end_date = datetime(2023, 11,4)\n",
    "    daily_df = None \n",
    "    \n",
    "    for day in tqdm(range((end_date - start_date).days + 1)):\n",
    "        cur_date = start_date + timedelta(days=day)\n",
    "        date_str = cur_date.strftime(\"%Y_%m_%d\")\n",
    "        date_month = cur_date.strftime(\"%Y_%m\")\n",
    "        daily_pickle = os.path.join(daily_scrpe_folder, \"zipcode_search__\"+date_str+\"_for_sale.pkl\")\n",
    "        try:\n",
    "            if daily_df is None:\n",
    "                daily_df = pd.read_pickle(daily_pickle)\n",
    "                daily_df = daily_df[daily_df[\"status\"].apply(lambda x: \"contract\" in x.lower())]\n",
    "                daily_df[\"address_key\"] = daily_df[\"address\"].apply(lambda x: process_address(x))\n",
    "                daily_df[\"date\"] = date_str\n",
    "                daily_df[\"date_month\"] = date_month\n",
    "            else:\n",
    "                tem_df = pd.read_pickle(daily_pickle)\n",
    "                tem_df = tem_df[tem_df[\"status\"].apply(lambda x: \"contract\" in x.lower())]\n",
    "                tem_df[\"address_key\"] = tem_df[\"address\"].apply(lambda x: process_address(x))\n",
    "                tem_df[\"date\"] = date_str\n",
    "                tem_df[\"date_month\"] = date_month\n",
    "                daily_df = pd.concat([daily_df, tem_df], axis=0)\\\n",
    "                            .drop_duplicates([\"address\",\"date_month\"] , keep=\"last\")\n",
    "        except:\n",
    "            pass \n",
    "    \n",
    "    raw_df = pd.read_pickle(\"../../data/property_structured_12162024.pkl\").reset_index(drop=True)\n",
    "    train_address_key_set = set(raw_df[\"address_key\"].values)\n",
    "    print(len(daily_df))\n",
    "    daily_df = daily_df[(daily_df[\"address_key\"].apply(lambda x: x not in train_address_key_set)) | (daily_df[\"date\"] < \"2023_06_01\")]\n",
    "    print(len(daily_df))\n",
    "    daily_df = daily_df.drop_duplicates(\"address_key\", keep=\"last\")\n",
    "    daily_df.to_pickle(cache_file)\n",
    "print(len(daily_df))\n",
    "daily_df.head(2)"
   ]
  },
  {
   "cell_type": "code",
   "execution_count": 3,
   "metadata": {},
   "outputs": [
    {
     "name": "stdout",
     "output_type": "stream",
     "text": [
      "512129\n",
      "502627\n"
     ]
    }
   ],
   "source": [
    "raw_df_addresses = set(pd.read_pickle(\"../../data/property_structured_12162024.pkl\")[\"address_key\"].values)\n",
    "print(len(daily_df))\n",
    "daily_df = daily_df[daily_df[\"address_key\"].apply(lambda x: x not in raw_df_addresses)]\n",
    "print(len(daily_df))"
   ]
  },
  {
   "cell_type": "markdown",
   "metadata": {},
   "source": [
    "## Append full house json file "
   ]
  },
  {
   "cell_type": "code",
   "execution_count": 4,
   "metadata": {},
   "outputs": [
    {
     "name": "stdout",
     "output_type": "stream",
     "text": [
      "1712773\n",
      "1337407\n"
     ]
    },
    {
     "data": {
      "text/html": [
       "<div>\n",
       "<style scoped>\n",
       "    .dataframe tbody tr th:only-of-type {\n",
       "        vertical-align: middle;\n",
       "    }\n",
       "\n",
       "    .dataframe tbody tr th {\n",
       "        vertical-align: top;\n",
       "    }\n",
       "\n",
       "    .dataframe thead th {\n",
       "        text-align: right;\n",
       "    }\n",
       "</style>\n",
       "<table border=\"1\" class=\"dataframe\">\n",
       "  <thead>\n",
       "    <tr style=\"text-align: right;\">\n",
       "      <th></th>\n",
       "      <th>json_path</th>\n",
       "      <th>address</th>\n",
       "      <th>time_epoch</th>\n",
       "    </tr>\n",
       "  </thead>\n",
       "  <tbody>\n",
       "    <tr>\n",
       "      <th>57176</th>\n",
       "      <td>/home/user/DataCenter/HAR_data/address_fullinf...</td>\n",
       "      <td>3810 Sullivan Spur Court, Katy, TX 77494</td>\n",
       "      <td>1645479015</td>\n",
       "    </tr>\n",
       "    <tr>\n",
       "      <th>800385</th>\n",
       "      <td>/home/user/DataCenter/HAR_data/address_fullinf...</td>\n",
       "      <td>2711 Blackbuck Ct, Crandall, TX 75114</td>\n",
       "      <td>1710388142</td>\n",
       "    </tr>\n",
       "    <tr>\n",
       "      <th>53401</th>\n",
       "      <td>/home/user/DataCenter/HAR_data/address_fullinf...</td>\n",
       "      <td>5810 Turmeric Dr, Baytown, TX 77521</td>\n",
       "      <td>1719720812</td>\n",
       "    </tr>\n",
       "  </tbody>\n",
       "</table>\n",
       "</div>"
      ],
      "text/plain": [
       "                                                json_path  \\\n",
       "57176   /home/user/DataCenter/HAR_data/address_fullinf...   \n",
       "800385  /home/user/DataCenter/HAR_data/address_fullinf...   \n",
       "53401   /home/user/DataCenter/HAR_data/address_fullinf...   \n",
       "\n",
       "                                         address  time_epoch  \n",
       "57176   3810 Sullivan Spur Court, Katy, TX 77494  1645479015  \n",
       "800385     2711 Blackbuck Ct, Crandall, TX 75114  1710388142  \n",
       "53401        5810 Turmeric Dr, Baytown, TX 77521  1719720812  "
      ]
     },
     "execution_count": 4,
     "metadata": {},
     "output_type": "execute_result"
    }
   ],
   "source": [
    "json_folder = \"/home/user/DataCenter/HAR_data/address_fullinfo_for_sale/\"\n",
    "all_files = [os.path.join(json_folder, f) for f in os.listdir(json_folder) if f.endswith(\".json\")]\n",
    "json_path_df = pd.DataFrame(all_files, columns=[\"json_path\"])\n",
    "json_path_df[\"address\"] = json_path_df[\"json_path\"].apply(lambda x: x.split(\"/\")[-1][:-16])\n",
    "json_path_df[\"time_epoch\"] = json_path_df[\"json_path\"].apply(lambda x: x.split(\"/\")[-1][-15:-5])\n",
    "print(len(json_path_df))\n",
    "json_path_df = json_path_df.sort_values(\"time_epoch\").drop_duplicates(\"address\", keep=\"last\")\n",
    "print(len(json_path_df))\n",
    "json_path_df.sample(3)"
   ]
  },
  {
   "cell_type": "code",
   "execution_count": 5,
   "metadata": {},
   "outputs": [
    {
     "name": "stdout",
     "output_type": "stream",
     "text": [
      "502104\n"
     ]
    },
    {
     "data": {
      "text/html": [
       "<div>\n",
       "<style scoped>\n",
       "    .dataframe tbody tr th:only-of-type {\n",
       "        vertical-align: middle;\n",
       "    }\n",
       "\n",
       "    .dataframe tbody tr th {\n",
       "        vertical-align: top;\n",
       "    }\n",
       "\n",
       "    .dataframe thead th {\n",
       "        text-align: right;\n",
       "    }\n",
       "</style>\n",
       "<table border=\"1\" class=\"dataframe\">\n",
       "  <thead>\n",
       "    <tr style=\"text-align: right;\">\n",
       "      <th></th>\n",
       "      <th>address</th>\n",
       "      <th>harlink</th>\n",
       "      <th>mp_features</th>\n",
       "      <th>agent</th>\n",
       "      <th>price</th>\n",
       "      <th>posted_days</th>\n",
       "      <th>status</th>\n",
       "      <th>zipcode</th>\n",
       "      <th>num_beds</th>\n",
       "      <th>num_bath</th>\n",
       "      <th>num_half_bath</th>\n",
       "      <th>building_sqft</th>\n",
       "      <th>has_loft</th>\n",
       "      <th>num_stories</th>\n",
       "      <th>num_parking_space</th>\n",
       "      <th>address_key</th>\n",
       "      <th>date</th>\n",
       "      <th>date_month</th>\n",
       "      <th>json_path</th>\n",
       "      <th>time_epoch</th>\n",
       "    </tr>\n",
       "  </thead>\n",
       "  <tbody>\n",
       "    <tr>\n",
       "      <th>271</th>\n",
       "      <td>9816 Havenway Dr, Denton, TX 76226</td>\n",
       "      <td>https://www.har.com//homedetail/9816-havenway-...</td>\n",
       "      <td>4 Bed(s) 2 Full  Bath(s) 1 Stories 2,048 Build...</td>\n",
       "      <td>Frankie Arthur WORK FOR Coldwell Banker Apex, ...</td>\n",
       "      <td>309000.0</td>\n",
       "      <td>8.0</td>\n",
       "      <td>Under Contract - Pending</td>\n",
       "      <td>76226</td>\n",
       "      <td>4</td>\n",
       "      <td>2</td>\n",
       "      <td>0</td>\n",
       "      <td>2048</td>\n",
       "      <td>0</td>\n",
       "      <td>1</td>\n",
       "      <td>0</td>\n",
       "      <td>9816 Havenway Dr, Denton, TX 76226</td>\n",
       "      <td>2020_10_31</td>\n",
       "      <td>2020_10</td>\n",
       "      <td>/home/user/DataCenter/HAR_data/address_fullinf...</td>\n",
       "      <td>1600399380</td>\n",
       "    </tr>\n",
       "    <tr>\n",
       "      <th>54</th>\n",
       "      <td>4028 Azure Ln, Addison, TX 75001</td>\n",
       "      <td>https://www.har.com//homedetail/4028-azure-ln-...</td>\n",
       "      <td>3 Bed(s) 2 Full  Bath(s) 1 Stories 1,980 Build...</td>\n",
       "      <td>David Heape WORK FOR Keller Williams Realty DPR</td>\n",
       "      <td>419000.0</td>\n",
       "      <td>55.0</td>\n",
       "      <td>Under Contract - Pending</td>\n",
       "      <td>75001</td>\n",
       "      <td>3</td>\n",
       "      <td>2</td>\n",
       "      <td>0</td>\n",
       "      <td>1980</td>\n",
       "      <td>0</td>\n",
       "      <td>1</td>\n",
       "      <td>0</td>\n",
       "      <td>4028 Azure Ln, Addison, TX 75001</td>\n",
       "      <td>2020_10_31</td>\n",
       "      <td>2020_10</td>\n",
       "      <td>/home/user/DataCenter/HAR_data/address_fullinf...</td>\n",
       "      <td>1598049671</td>\n",
       "    </tr>\n",
       "  </tbody>\n",
       "</table>\n",
       "</div>"
      ],
      "text/plain": [
       "                                address  \\\n",
       "271  9816 Havenway Dr, Denton, TX 76226   \n",
       "54     4028 Azure Ln, Addison, TX 75001   \n",
       "\n",
       "                                               harlink  \\\n",
       "271  https://www.har.com//homedetail/9816-havenway-...   \n",
       "54   https://www.har.com//homedetail/4028-azure-ln-...   \n",
       "\n",
       "                                           mp_features  \\\n",
       "271  4 Bed(s) 2 Full  Bath(s) 1 Stories 2,048 Build...   \n",
       "54   3 Bed(s) 2 Full  Bath(s) 1 Stories 1,980 Build...   \n",
       "\n",
       "                                                 agent     price  posted_days  \\\n",
       "271  Frankie Arthur WORK FOR Coldwell Banker Apex, ...  309000.0          8.0   \n",
       "54     David Heape WORK FOR Keller Williams Realty DPR  419000.0         55.0   \n",
       "\n",
       "                       status zipcode num_beds num_bath num_half_bath  \\\n",
       "271  Under Contract - Pending   76226        4        2             0   \n",
       "54   Under Contract - Pending   75001        3        2             0   \n",
       "\n",
       "    building_sqft has_loft num_stories num_parking_space  \\\n",
       "271          2048        0           1                 0   \n",
       "54           1980        0           1                 0   \n",
       "\n",
       "                            address_key        date date_month  \\\n",
       "271  9816 Havenway Dr, Denton, TX 76226  2020_10_31    2020_10   \n",
       "54     4028 Azure Ln, Addison, TX 75001  2020_10_31    2020_10   \n",
       "\n",
       "                                             json_path  time_epoch  \n",
       "271  /home/user/DataCenter/HAR_data/address_fullinf...  1600399380  \n",
       "54   /home/user/DataCenter/HAR_data/address_fullinf...  1598049671  "
      ]
     },
     "execution_count": 5,
     "metadata": {},
     "output_type": "execute_result"
    }
   ],
   "source": [
    "join_df = daily_df.join(json_path_df.set_index(\"address\"), on=\"address\", how=\"inner\")\n",
    "print(len(join_df))\n",
    "join_df.head(2)"
   ]
  },
  {
   "cell_type": "markdown",
   "metadata": {},
   "source": [
    "## Append Image Folder "
   ]
  },
  {
   "cell_type": "code",
   "execution_count": 6,
   "metadata": {},
   "outputs": [
    {
     "name": "stderr",
     "output_type": "stream",
     "text": [
      "\n",
      "00%|███████████████████████████████████████████████████████████████████████████████████████████████| 100/100 [00:01<00:00, 72.86it/s]"
     ]
    }
   ],
   "source": [
    "image_folder = \"/home/user/DataCenter/HAR_data/house_images/\"\n",
    "all_folders = []\n",
    "for i in tqdm(range(100)):\n",
    "    for j in range(100):\n",
    "        folder = os.path.join(image_folder, f\"{i:04d}/{j:04d}\") \n",
    "        all_folders.extend([os.path.join(folder, f) for f in os.listdir(folder)])"
   ]
  },
  {
   "cell_type": "code",
   "execution_count": 7,
   "metadata": {},
   "outputs": [
    {
     "name": "stdout",
     "output_type": "stream",
     "text": [
      "775036\n",
      "772274\n"
     ]
    },
    {
     "data": {
      "text/html": [
       "<div>\n",
       "<style scoped>\n",
       "    .dataframe tbody tr th:only-of-type {\n",
       "        vertical-align: middle;\n",
       "    }\n",
       "\n",
       "    .dataframe tbody tr th {\n",
       "        vertical-align: top;\n",
       "    }\n",
       "\n",
       "    .dataframe thead th {\n",
       "        text-align: right;\n",
       "    }\n",
       "</style>\n",
       "<table border=\"1\" class=\"dataframe\">\n",
       "  <thead>\n",
       "    <tr style=\"text-align: right;\">\n",
       "      <th></th>\n",
       "      <th>image_path</th>\n",
       "      <th>address</th>\n",
       "      <th>time_epoch</th>\n",
       "    </tr>\n",
       "  </thead>\n",
       "  <tbody>\n",
       "    <tr>\n",
       "      <th>607003</th>\n",
       "      <td>/home/user/DataCenter/HAR_data/house_images/00...</td>\n",
       "      <td>2221 W Dallas St #0376, Houston, TX 77019</td>\n",
       "      <td>1730752529</td>\n",
       "    </tr>\n",
       "    <tr>\n",
       "      <th>39199</th>\n",
       "      <td>/home/user/DataCenter/HAR_data/house_images/00...</td>\n",
       "      <td>370 Cistern Way, Austin, TX 78737</td>\n",
       "      <td>1734900478</td>\n",
       "    </tr>\n",
       "  </tbody>\n",
       "</table>\n",
       "</div>"
      ],
      "text/plain": [
       "                                               image_path  \\\n",
       "607003  /home/user/DataCenter/HAR_data/house_images/00...   \n",
       "39199   /home/user/DataCenter/HAR_data/house_images/00...   \n",
       "\n",
       "                                          address  time_epoch  \n",
       "607003  2221 W Dallas St #0376, Houston, TX 77019  1730752529  \n",
       "39199           370 Cistern Way, Austin, TX 78737  1734900478  "
      ]
     },
     "execution_count": 7,
     "metadata": {},
     "output_type": "execute_result"
    }
   ],
   "source": [
    "image_df = pd.DataFrame(all_folders, columns=[\"image_path\"])\n",
    "image_df[\"address\"] = image_df[\"image_path\"].apply(lambda x: x.split(\"/\")[-1][:-11])\n",
    "image_df[\"time_epoch\"] = image_df[\"image_path\"].apply(lambda x: x.split(\"/\")[-1][-10:])\n",
    "print(len(image_df))\n",
    "image_df = image_df.sort_values(\"time_epoch\").drop_duplicates(\"address\", keep=\"last\")\n",
    "print(len(image_df))\n",
    "image_df.sample(2)"
   ]
  },
  {
   "cell_type": "code",
   "execution_count": 8,
   "metadata": {},
   "outputs": [],
   "source": [
    "# join_df.to_pickle(\"../../data/tem.pkl\")"
   ]
  },
  {
   "cell_type": "code",
   "execution_count": 9,
   "metadata": {},
   "outputs": [
    {
     "name": "stdout",
     "output_type": "stream",
     "text": [
      "502104\n",
      "301026\n"
     ]
    },
    {
     "data": {
      "text/html": [
       "<div>\n",
       "<style scoped>\n",
       "    .dataframe tbody tr th:only-of-type {\n",
       "        vertical-align: middle;\n",
       "    }\n",
       "\n",
       "    .dataframe tbody tr th {\n",
       "        vertical-align: top;\n",
       "    }\n",
       "\n",
       "    .dataframe thead th {\n",
       "        text-align: right;\n",
       "    }\n",
       "</style>\n",
       "<table border=\"1\" class=\"dataframe\">\n",
       "  <thead>\n",
       "    <tr style=\"text-align: right;\">\n",
       "      <th></th>\n",
       "      <th>address</th>\n",
       "      <th>harlink</th>\n",
       "      <th>mp_features</th>\n",
       "      <th>agent</th>\n",
       "      <th>price</th>\n",
       "      <th>posted_days</th>\n",
       "      <th>status</th>\n",
       "      <th>zipcode</th>\n",
       "      <th>num_beds</th>\n",
       "      <th>num_bath</th>\n",
       "      <th>num_half_bath</th>\n",
       "      <th>building_sqft</th>\n",
       "      <th>has_loft</th>\n",
       "      <th>num_stories</th>\n",
       "      <th>num_parking_space</th>\n",
       "      <th>address_key</th>\n",
       "      <th>date</th>\n",
       "      <th>date_month</th>\n",
       "      <th>json_path</th>\n",
       "      <th>time_epoch</th>\n",
       "      <th>image_path</th>\n",
       "    </tr>\n",
       "  </thead>\n",
       "  <tbody>\n",
       "    <tr>\n",
       "      <th>271</th>\n",
       "      <td>9816 Havenway Dr, Denton, TX 76226</td>\n",
       "      <td>https://www.har.com//homedetail/9816-havenway-...</td>\n",
       "      <td>4 Bed(s) 2 Full  Bath(s) 1 Stories 2,048 Build...</td>\n",
       "      <td>Frankie Arthur WORK FOR Coldwell Banker Apex, ...</td>\n",
       "      <td>309000.0</td>\n",
       "      <td>8.0</td>\n",
       "      <td>Under Contract - Pending</td>\n",
       "      <td>76226</td>\n",
       "      <td>4</td>\n",
       "      <td>2</td>\n",
       "      <td>0</td>\n",
       "      <td>2048</td>\n",
       "      <td>0</td>\n",
       "      <td>1</td>\n",
       "      <td>0</td>\n",
       "      <td>9816 Havenway Dr, Denton, TX 76226</td>\n",
       "      <td>2020_10_31</td>\n",
       "      <td>2020_10</td>\n",
       "      <td>/home/user/DataCenter/HAR_data/address_fullinf...</td>\n",
       "      <td>1600399380</td>\n",
       "      <td>/home/user/DataCenter/HAR_data/house_images/00...</td>\n",
       "    </tr>\n",
       "    <tr>\n",
       "      <th>54</th>\n",
       "      <td>4028 Azure Ln, Addison, TX 75001</td>\n",
       "      <td>https://www.har.com//homedetail/4028-azure-ln-...</td>\n",
       "      <td>3 Bed(s) 2 Full  Bath(s) 1 Stories 1,980 Build...</td>\n",
       "      <td>David Heape WORK FOR Keller Williams Realty DPR</td>\n",
       "      <td>419000.0</td>\n",
       "      <td>55.0</td>\n",
       "      <td>Under Contract - Pending</td>\n",
       "      <td>75001</td>\n",
       "      <td>3</td>\n",
       "      <td>2</td>\n",
       "      <td>0</td>\n",
       "      <td>1980</td>\n",
       "      <td>0</td>\n",
       "      <td>1</td>\n",
       "      <td>0</td>\n",
       "      <td>4028 Azure Ln, Addison, TX 75001</td>\n",
       "      <td>2020_10_31</td>\n",
       "      <td>2020_10</td>\n",
       "      <td>/home/user/DataCenter/HAR_data/address_fullinf...</td>\n",
       "      <td>1598049671</td>\n",
       "      <td>/home/user/DataCenter/HAR_data/house_images/00...</td>\n",
       "    </tr>\n",
       "  </tbody>\n",
       "</table>\n",
       "</div>"
      ],
      "text/plain": [
       "                                address  \\\n",
       "271  9816 Havenway Dr, Denton, TX 76226   \n",
       "54     4028 Azure Ln, Addison, TX 75001   \n",
       "\n",
       "                                               harlink  \\\n",
       "271  https://www.har.com//homedetail/9816-havenway-...   \n",
       "54   https://www.har.com//homedetail/4028-azure-ln-...   \n",
       "\n",
       "                                           mp_features  \\\n",
       "271  4 Bed(s) 2 Full  Bath(s) 1 Stories 2,048 Build...   \n",
       "54   3 Bed(s) 2 Full  Bath(s) 1 Stories 1,980 Build...   \n",
       "\n",
       "                                                 agent     price  posted_days  \\\n",
       "271  Frankie Arthur WORK FOR Coldwell Banker Apex, ...  309000.0          8.0   \n",
       "54     David Heape WORK FOR Keller Williams Realty DPR  419000.0         55.0   \n",
       "\n",
       "                       status zipcode num_beds num_bath num_half_bath  \\\n",
       "271  Under Contract - Pending   76226        4        2             0   \n",
       "54   Under Contract - Pending   75001        3        2             0   \n",
       "\n",
       "    building_sqft has_loft num_stories num_parking_space  \\\n",
       "271          2048        0           1                 0   \n",
       "54           1980        0           1                 0   \n",
       "\n",
       "                            address_key        date date_month  \\\n",
       "271  9816 Havenway Dr, Denton, TX 76226  2020_10_31    2020_10   \n",
       "54     4028 Azure Ln, Addison, TX 75001  2020_10_31    2020_10   \n",
       "\n",
       "                                             json_path  time_epoch  \\\n",
       "271  /home/user/DataCenter/HAR_data/address_fullinf...  1600399380   \n",
       "54   /home/user/DataCenter/HAR_data/address_fullinf...  1598049671   \n",
       "\n",
       "                                            image_path  \n",
       "271  /home/user/DataCenter/HAR_data/house_images/00...  \n",
       "54   /home/user/DataCenter/HAR_data/house_images/00...  "
      ]
     },
     "execution_count": 9,
     "metadata": {},
     "output_type": "execute_result"
    }
   ],
   "source": [
    "print(len(join_df))\n",
    "join_df2 = join_df.join(image_df.set_index(\"address\")[[\"image_path\"]], on=\"address\", how=\"inner\")\n",
    "print(len(join_df2))\n",
    "join_df2.head(2)"
   ]
  },
  {
   "cell_type": "code",
   "execution_count": 10,
   "metadata": {},
   "outputs": [],
   "source": [
    "# join_df2[\"date\"].unique()"
   ]
  },
  {
   "cell_type": "code",
   "execution_count": 11,
   "metadata": {},
   "outputs": [
    {
     "data": {
      "text/plain": [
       "array(['4713 Lido Ln, Houston, TX 77092',\n",
       "       '/home/user/DataCenter/HAR_data/address_fullinfo_for_sale/4713 Lido Ln, Houston, TX 77092_1691706414.json',\n",
       "       '/home/user/DataCenter/HAR_data/house_images/0089/0027/4713 Lido Ln, Houston, TX 77092_1733677704'],\n",
       "      dtype=object)"
      ]
     },
     "execution_count": 11,
     "metadata": {},
     "output_type": "execute_result"
    }
   ],
   "source": [
    "join_df2[[\"address\", \"json_path\", \"image_path\"]].sample(1).iloc[0].values"
   ]
  },
  {
   "cell_type": "code",
   "execution_count": 12,
   "metadata": {},
   "outputs": [],
   "source": [
    "## Strategy to drop the redudant addresses, chooose the one with largest json size, and the most images in the folder\n",
    "# join_df2[\"json_size\"] = join_df2[\"json_path\"].apply(lambda x: os.path.getsize(x))"
   ]
  },
  {
   "cell_type": "code",
   "execution_count": 13,
   "metadata": {},
   "outputs": [],
   "source": [
    "# join_df2[\"image_cnt\"] = join_df2[\"image_path\"].apply(lambda x: len([_ for _ in os.listdir(x) if _.endswith(\".jpeg\")]))"
   ]
  },
  {
   "cell_type": "code",
   "execution_count": 14,
   "metadata": {},
   "outputs": [
    {
     "name": "stdout",
     "output_type": "stream",
     "text": [
      "301026 301026\n"
     ]
    }
   ],
   "source": [
    "## Defer the drop duplicates to the end\n",
    "final_df = join_df2#.sort_values([\"json_size\", \"image_cnt\"]).drop_duplicates(\"address_key\", keep=\"last\")\n",
    "print(len(final_df), len(join_df2))"
   ]
  },
  {
   "cell_type": "markdown",
   "metadata": {},
   "source": [
    "## Get feature processing from json file"
   ]
  },
  {
   "cell_type": "code",
   "execution_count": 20,
   "metadata": {},
   "outputs": [
    {
     "name": "stderr",
     "output_type": "stream",
     "text": [
      "\n",
      "00%|███████████████████████████████████████████████████████████████████████████████████████████████████████████████████████████████████████████████████████████████| 42/42 [04:43<00:00,  6.75s/it]"
     ]
    }
   ],
   "source": [
    "def read_json(json_path):\n",
    "    with open(json_path) as f:\n",
    "        return json.load(f)\n",
    "\n",
    "processed_df = []\n",
    "n_rows = len(final_df)\n",
    "batch_size = 5000\n",
    "n_batches = (n_rows + batch_size - 1)// batch_size\n",
    "\n",
    "for batch_i in tqdm(range(n_batches)):\n",
    "    sample_df = final_df.iloc[batch_i * batch_size: (batch_i + 1) * batch_size]\n",
    "    sample_df[\"content\"] = sample_df[\"json_path\"].apply(read_json)\n",
    "    sample_df[\"LAT\"], sample_df[\"LON\"] = zip(*sample_df[\"content\"].apply(lambda x: get_lon_lat(x[\"coords\"][0], x[\"coords\"][1])))\n",
    "    sample_df[\"building_sqft2\"] = sample_df[\"content\"].apply(lambda x: parse_built_Sqft(x))\n",
    "    sample_df[\"building_sqft\"] = sample_df.apply(lambda x: x[\"building_sqft2\"] if np.isnan(x[\"building_sqft2\"]) is False else x[\"building_sqft\"], axis=1)\n",
    "    sample_df[\"Lot Size\"] = sample_df[\"content\"].apply(lambda x: parse_lot_size(x)[0])\n",
    "    sample_df[\"Year Built\"] = sample_df[\"content\"].apply(lambda x: parse_built_year(x)[0])\n",
    "    sample_df[\"Garage Number\"] = sample_df[\"content\"].apply(lambda x: get_garage_num(x))\n",
    "    sample_df[\"Bedrooms\"] = sample_df[\"content\"].apply(lambda x: parse_bedroom(x))\n",
    "    sample_df[\"Baths\"] = sample_df[\"content\"].apply(lambda x: parse_bath(x))\n",
    "    sample_df[\"Maintenance Fee\"] = sample_df[\"content\"].apply(lambda x: parse_maintenance_fee(x))\n",
    "    sample_df[\"Tax Rate\"] = sample_df[\"content\"].apply(lambda x: extract_tax_rate_tax_table(x[\"house_tax_table\"]))\n",
    "    sample_df[\"tax_rate2\"] = sample_df[\"content\"].apply(get_tax_rate)\n",
    "    sample_df.loc[sample_df[\"Tax Rate\"].isnull(), \"Tax Rate\"] = sample_df.loc[sample_df[\"Tax Rate\"].isnull(), \"tax_rate2\"]\n",
    "    sample_df[\"Recent Market Value\"] = sample_df[\"content\"].apply(lambda x: get_recent_market_value(x))\n",
    "    sample_df[\"Recent Tax Value\"] = sample_df[\"content\"].apply(lambda x: get_recent_tax_value(x))\n",
    "    sample_df[\"Property Type\"] = sample_df[\"content\"].apply(lambda x: parse_property_type(x))\n",
    "    sample_df[\"County\"] = sample_df[\"content\"].apply(lambda x: x[\"house_features\"][\"County:\"] if \"County:\" in x[\"house_features\"] else None)\n",
    "    sample_df[\"Private Pool\"] = sample_df[\"content\"].apply(lambda x: private_pool_feature(x))\n",
    "    sample_df[\"Area Pool\"] = sample_df[\"content\"].apply(lambda x: area_pool_feature(x))\n",
    "    sample_df[\"Private_pool_desc\"] = sample_df[\"content\"].apply(lambda x: private_pool_desc_feature(x))\n",
    "    sample_df[\"Pool_feature_multiclass\"] = sample_df[\"content\"].apply(lambda x: private_pool_multiclass_feature(x))\n",
    "    sample_df[\"Foundation_multiclass\"] = sample_df[\"content\"].apply(lambda x: Foundation_multiclass_feature(x))\n",
    "    sample_df[\"Garage Types_multiclass\"] = sample_df[\"content\"].apply(lambda x: Garage_Types_multiclass_features(x))\n",
    "    sample_df[\"Roof Type_multiclass\"] = sample_df[\"content\"].apply(lambda x: Roof_Type_multiclass(x))\n",
    "    sample_df[\"floor_type_multiclass\"] = sample_df[\"content\"].apply(lambda x: floor_type_multiclass(x))\n",
    "    sample_df[\"Exterior Type_multiclass\"] = sample_df[\"content\"].apply(lambda x: exterior_type_multiclass(x))\n",
    "    sample_df[\"Exterior_multiclass\"] = sample_df[\"content\"].apply(lambda x: exterior_multiclass(x))\n",
    "    sample_df[\"Style_multiclass\"] = sample_df[\"content\"].apply(lambda x: style_multiclass(x))\n",
    "    sample_df[\"finance_option_multiclass\"] = sample_df[\"content\"].apply(lambda x: finanace_option_multiclass(x))\n",
    "    sample_df[\"high_school_star\"] = sample_df[\"content\"].apply(lambda x: extract_high_school_name(x[\"house_schools\"])[2] if \"house_schools\" in x else np.nan)\n",
    "    sample_df[\"middle_school_star\"] = sample_df[\"content\"].apply(lambda x: extract_mid_school_name(x[\"house_schools\"])[2] if \"house_schools\" in x else np.nan)\n",
    "    sample_df[\"elementary_school_star\"] = sample_df[\"content\"].apply(lambda x: extract_elemetary_school_name(x[\"house_schools\"])[2] if \"house_schools\" in x else np.nan)\n",
    "    sample_df[\"school_org\"] = sample_df[\"content\"].apply(lambda x: school_org(x))\n",
    "    sample_df[\"general_desc\"] = sample_df[\"content\"].apply(lambda x: x[\"general_desc\"] if \"general_desc\" in x else None)\n",
    "    sample_df = sample_df.drop(columns=[\"content\"])\n",
    "    processed_df.append(sample_df)"
   ]
  },
  {
   "cell_type": "code",
   "execution_count": 21,
   "metadata": {},
   "outputs": [],
   "source": [
    "processed_final_df = pd.concat(processed_df)"
   ]
  },
  {
   "cell_type": "code",
   "execution_count": 22,
   "metadata": {},
   "outputs": [],
   "source": [
    "processed_final_df_filtered = processed_final_df.drop_duplicates(subset=[\"address_key\"], keep=\"first\")"
   ]
  },
  {
   "cell_type": "code",
   "execution_count": 23,
   "metadata": {},
   "outputs": [
    {
     "name": "stdout",
     "output_type": "stream",
     "text": [
      "208470\n",
      "208470\n"
     ]
    }
   ],
   "source": [
    "raw_df_addresses = set(pd.read_pickle(\"../../data/property_structured_12162024.pkl\")[\"address_key\"].values)\n",
    "print(len(processed_final_df_filtered))\n",
    "processed_final_df_filtered = processed_final_df_filtered[processed_final_df_filtered[\"address_key\"].apply(lambda x: x not in raw_df_addresses)]\n",
    "print(len(processed_final_df_filtered))"
   ]
  },
  {
   "cell_type": "code",
   "execution_count": 24,
   "metadata": {},
   "outputs": [],
   "source": [
    "# processed_final_df_filtered.sample(3)"
   ]
  },
  {
   "cell_type": "markdown",
   "metadata": {},
   "source": [
    "## Run Text encoding and Image encoding"
   ]
  },
  {
   "cell_type": "code",
   "execution_count": 15,
   "metadata": {},
   "outputs": [
    {
     "name": "stderr",
     "output_type": "stream",
     "text": [
      "100%|███████████████████████████████████████████████████████████████████████████████████████████████| 147/147 [01:19<00:00,  1.85it/s]"
     ]
    },
    {
     "name": "stdout",
     "output_type": "stream",
     "text": [
      "404577\n"
     ]
    },
    {
     "name": "stderr",
     "output_type": "stream",
     "text": [
      "\n"
     ]
    }
   ],
   "source": [
    "## Get the list of images to be encoded\n",
    "def get_image_paths(image_folder, check_mean=False):\n",
    "    images_path = [os.path.join(image_folder, f_) for f_ in os.listdir(image_folder) if f_.endswith(\".jpeg\")]\n",
    "    n_images = len(images_path)\n",
    "    if check_mean:\n",
    "        images_path = [f_ for f_ in images_path if os.path.exists(f_.replace(\".jpeg\", \"mean.pt\")) is False] \n",
    "    else:\n",
    "        images_path = [f_ for f_ in images_path if os.path.exists(f_.replace(\".jpeg\", \".pt\")) is False]\n",
    "    return images_path, n_images \n",
    "\n",
    "batch_size = 2048 \n",
    "n_batches = len(processed_final_df_filtered) // batch_size + 1\n",
    "all_img_cnt = 0\n",
    "all_img_paths = []\n",
    "\n",
    "for batch_i in tqdm(range(n_batches)):\n",
    "    with Pool(10) as p:\n",
    "        img_path, img_cnt = zip(*p.map(get_image_paths, processed_final_df_filtered[\"image_path\"].iloc[batch_i * batch_size: (batch_i + 1) * batch_size].values))\n",
    "    [all_img_paths.extend(path_) for path_ in img_path]\n",
    "    all_img_cnt += sum(img_cnt)\n",
    "print(len(all_img_paths))"
   ]
  },
  {
   "cell_type": "code",
   "execution_count": 16,
   "metadata": {},
   "outputs": [],
   "source": [
    "## Run DINO Encoding\n",
    "import torch.utils.data as data_utils\n",
    "from torchvision import datasets, transforms\n",
    "import torch\n",
    "from transformers import AutoImageProcessor, AutoModel\n",
    "from PIL import Image\n",
    "import requests\n",
    "\n",
    "device = \"cuda:0\"\n",
    "processor = AutoImageProcessor.from_pretrained('facebook/dinov2-small')\n",
    "model = AutoModel.from_pretrained('facebook/dinov2-small')\n",
    "model.cuda(device)\n",
    "\n",
    "def read_image(image_path):\n",
    "    image = Image.open(image_path)\n",
    "    return image"
   ]
  },
  {
   "cell_type": "code",
   "execution_count": null,
   "metadata": {},
   "outputs": [
    {
     "name": "stderr",
     "output_type": "stream",
     "text": [
      "  1%|▍                                                                                              | 2/396 [00:20<1:06:18, 10.10s/it]"
     ]
    }
   ],
   "source": [
    "batch_size = 1024 \n",
    "n_batches = (len(all_img_paths) + batch_size - 1) // batch_size\n",
    "with Pool(10) as p:\n",
    "    for batch_i in tqdm(range(n_batches)):\n",
    "        batch_images = all_img_paths[batch_i * batch_size: batch_i * batch_size + batch_size]\n",
    "        \n",
    "        inp_imgs = p.map(read_image, batch_images)\n",
    "        inputs = processor(images=inp_imgs, return_tensors=\"pt\").to(device, non_blocking=True)\n",
    "        with torch.no_grad():\n",
    "            last_hidden_states = model(**inputs)[0]\n",
    "            embedding_list = last_hidden_states[:, 0, :].cpu()\n",
    "            mean_embedding_list = torch.mean(last_hidden_states, axis=1).cpu()\n",
    "        embedding_list = [e.clone() for e in embedding_list]\n",
    "        # mean_embedding_list = [e.clone() for e in mean_embedding_list]\n",
    "        _ = [torch.save(embedding_list[i], batch_images[i].replace(\".jpeg\", \".pt\")) for i in range(len(embedding_list))]\n",
    "    # _ = [torch.save(mean_embedding_list[i], batch_images[i].replace(\".jpeg\", \"mean.pt\")) for i in range(len(embedding_list))]"
   ]
  },
  {
   "cell_type": "code",
   "execution_count": null,
   "metadata": {},
   "outputs": [],
   "source": [
    "def load_and_stack_tensor(image_folder, use_mean_tensor=False):\n",
    "    if use_mean_tensor:\n",
    "        pt_paths = [os.path.join(image_folder, f_) for f_ in os.listdir(image_folder) if f_.endswith(\"mean.pt\")]\n",
    "    else: \n",
    "        pt_paths = [os.path.join(image_folder, f_) for f_ in os.listdir(image_folder) if f_.endswith(\".pt\") and \"mean\" not in f_]\n",
    "    if len(pt_paths) == 0:\n",
    "        return np.zeros(384)\n",
    "    pt_list = np.array([torch.load(pt_path).numpy() for pt_path in pt_paths])\n",
    "    return np.mean(pt_list, axis=0)\n",
    "\n",
    "with Pool(10) as p:\n",
    "    image_dinov2s_cls_mean = p.map(load_and_stack_tensor, processed_final_df_filtered[\"image_path\"].values)"
   ]
  },
  {
   "cell_type": "code",
   "execution_count": null,
   "metadata": {},
   "outputs": [],
   "source": [
    "processed_final_df_filtered[\"img_emb\"] = image_dinov2s_cls_mean"
   ]
  },
  {
   "cell_type": "markdown",
   "metadata": {},
   "source": [
    "#### Text Embedding"
   ]
  },
  {
   "cell_type": "code",
   "execution_count": 15,
   "metadata": {},
   "outputs": [
    {
     "data": {
      "application/vnd.jupyter.widget-view+json": {
       "model_id": "452fb450879e47838ec30cd0401c34fc",
       "version_major": 2,
       "version_minor": 0
      },
      "text/plain": [
       "config.json:   0%|          | 0.00/481 [00:00<?, ?B/s]"
      ]
     },
     "metadata": {},
     "output_type": "display_data"
    },
    {
     "data": {
      "application/vnd.jupyter.widget-view+json": {
       "model_id": "44108b23afd34ae591cb2e7a08d62fe7",
       "version_major": 2,
       "version_minor": 0
      },
      "text/plain": [
       "model.safetensors:   0%|          | 0.00/499M [00:00<?, ?B/s]"
      ]
     },
     "metadata": {},
     "output_type": "display_data"
    },
    {
     "name": "stderr",
     "output_type": "stream",
     "text": [
      "Some weights of RobertaModel were not initialized from the model checkpoint at roberta-base and are newly initialized: ['roberta.pooler.dense.bias', 'roberta.pooler.dense.weight']\n",
      "You should probably TRAIN this model on a down-stream task to be able to use it for predictions and inference.\n"
     ]
    },
    {
     "data": {
      "application/vnd.jupyter.widget-view+json": {
       "model_id": "8002e4ae6f994e029f9d0debff091257",
       "version_major": 2,
       "version_minor": 0
      },
      "text/plain": [
       "tokenizer_config.json:   0%|          | 0.00/25.0 [00:00<?, ?B/s]"
      ]
     },
     "metadata": {},
     "output_type": "display_data"
    },
    {
     "data": {
      "application/vnd.jupyter.widget-view+json": {
       "model_id": "bf7c09fcb32247e881e5fd07cd9c6e9b",
       "version_major": 2,
       "version_minor": 0
      },
      "text/plain": [
       "vocab.json:   0%|          | 0.00/899k [00:00<?, ?B/s]"
      ]
     },
     "metadata": {},
     "output_type": "display_data"
    },
    {
     "data": {
      "application/vnd.jupyter.widget-view+json": {
       "model_id": "ddfbf42744314b3086befbb1f111c6e9",
       "version_major": 2,
       "version_minor": 0
      },
      "text/plain": [
       "merges.txt:   0%|          | 0.00/456k [00:00<?, ?B/s]"
      ]
     },
     "metadata": {},
     "output_type": "display_data"
    },
    {
     "data": {
      "application/vnd.jupyter.widget-view+json": {
       "model_id": "ef13957f229d4b859353e71338fb5583",
       "version_major": 2,
       "version_minor": 0
      },
      "text/plain": [
       "tokenizer.json:   0%|          | 0.00/1.36M [00:00<?, ?B/s]"
      ]
     },
     "metadata": {},
     "output_type": "display_data"
    },
    {
     "name": "stderr",
     "output_type": "stream",
     "text": [
      "Device set to use cuda:0\n"
     ]
    }
   ],
   "source": [
    "from transformers import pipeline\n",
    "feature_extraction = pipeline('feature-extraction', model=\"roberta-base\", tokenizer=\"roberta-base\", device=1, truncation=True)"
   ]
  },
  {
   "cell_type": "code",
   "execution_count": 18,
   "metadata": {},
   "outputs": [
    {
     "name": "stderr",
     "output_type": "stream",
     "text": [
      "You seem to be using the pipelines sequentially on GPU. In order to maximize efficiency please use a dataset\n",
      "\n",
      "00%|████████████████████████████████████████████████████████████████████████████████████████████████████████████████████████████████████████████| 502104/502104 [2:14:35<00:00, 62.18it/s]"
     ]
    }
   ],
   "source": [
    "cnt = 0 \n",
    "general_desc_mean_features = []\n",
    "for desc in tqdm(processed_final_df_filtered[\"general_desc\"].values):\n",
    "    if desc is None:\n",
    "        cnt += 1\n",
    "        general_desc_mean_features.append(np.zeros(768))\n",
    "    else: \n",
    "        feature = feature_extraction(desc,  return_tensors=\"pt\")\n",
    "        general_desc_mean_features.append(np.mean(feature[0].clone().numpy(), axis=0))\n",
    "processed_final_df_filtered[\"general_desc_roberta_mean_features\"] = general_desc_mean_features"
   ]
  },
  {
   "cell_type": "code",
   "execution_count": null,
   "metadata": {},
   "outputs": [],
   "source": [
    "# processed_final_df_filtered.to_pickle(\"../../data/property_structured_10312020_11042023_p1.pkl\")"
   ]
  },
  {
   "cell_type": "code",
   "execution_count": null,
   "metadata": {},
   "outputs": [],
   "source": [
    "# path = \"../../data/property_structured_12162024_tabformer_t32c.pt\"\n",
    "# def read_column_name_and_stats(path):\n",
    "#     with open(path, \"rb\") as f:\n",
    "#         _, col_stats = torch.load(f)\n",
    "#     col_names = list(col_stats.keys())\n",
    "#     return col_names, col_stats\n",
    "# col_names, col_stats = read_column_name_and_stats(path)"
   ]
  },
  {
   "cell_type": "code",
   "execution_count": null,
   "metadata": {},
   "outputs": [],
   "source": [
    "# processed_final_df_filtered[col_names].sample(3)"
   ]
  },
  {
   "cell_type": "markdown",
   "metadata": {},
   "source": [
    "## Combine tables"
   ]
  },
  {
   "cell_type": "code",
   "execution_count": 19,
   "metadata": {},
   "outputs": [],
   "source": [
    "df1 = pd.read_pickle(\"../../data/property_structured_12162024_train.pkl\")\n",
    "df2 = processed_final_df_filtered\n",
    "# df2 = pd.read_pickle(\"../../data/property_structured_10312020_11042023_p1.pkl\")"
   ]
  },
  {
   "cell_type": "code",
   "execution_count": 20,
   "metadata": {},
   "outputs": [
    {
     "data": {
      "text/plain": [
       "(169568, 502104)"
      ]
     },
     "execution_count": 20,
     "metadata": {},
     "output_type": "execute_result"
    }
   ],
   "source": [
    "len(df1), len(df2)"
   ]
  },
  {
   "cell_type": "code",
   "execution_count": 21,
   "metadata": {},
   "outputs": [],
   "source": [
    "cols1 = df1.columns.values\n",
    "cols2 = df2.columns.values"
   ]
  },
  {
   "cell_type": "code",
   "execution_count": 22,
   "metadata": {},
   "outputs": [
    {
     "data": {
      "text/plain": [
       "({'image_cnt',\n",
       "  'image_path',\n",
       "  'img_emb',\n",
       "  'json_size',\n",
       "  'pool_desc_roberta_mean_features'},\n",
       " {'date_month'})"
      ]
     },
     "execution_count": 22,
     "metadata": {},
     "output_type": "execute_result"
    }
   ],
   "source": [
    "set(cols1) - set(cols2), set(cols2) - set(cols1)"
   ]
  },
  {
   "cell_type": "code",
   "execution_count": 23,
   "metadata": {},
   "outputs": [],
   "source": [
    "cols = list(set(cols1).intersection(cols2))\n",
    "final_df = pd.concat([df1[cols], df2[cols]], axis=0)"
   ]
  },
  {
   "cell_type": "code",
   "execution_count": 24,
   "metadata": {},
   "outputs": [],
   "source": [
    "final_df.to_pickle(\"../../data/property_structured_10312020text_only_12162024_train.pkl\")"
   ]
  },
  {
   "cell_type": "code",
   "execution_count": null,
   "metadata": {},
   "outputs": [],
   "source": []
  }
 ],
 "metadata": {
  "kernelspec": {
   "display_name": "Python 3 (ipykernel)",
   "language": "python",
   "name": "python3"
  },
  "language_info": {
   "codemirror_mode": {
    "name": "ipython",
    "version": 3
   },
   "file_extension": ".py",
   "mimetype": "text/x-python",
   "name": "python",
   "nbconvert_exporter": "python",
   "pygments_lexer": "ipython3",
   "version": "3.10.13"
  }
 },
 "nbformat": 4,
 "nbformat_minor": 4
}
