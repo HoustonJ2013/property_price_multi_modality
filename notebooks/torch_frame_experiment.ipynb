{
 "cells": [
  {
   "cell_type": "code",
   "execution_count": 1,
   "id": "2f5c563d-8bb1-4db3-b64e-172bfad242c1",
   "metadata": {},
   "outputs": [],
   "source": [
    "from typing import Any, Dict, List\n",
    "import pandas as pd\n",
    "from torch import Tensor\n",
    "from torch.nn import Linear, Module, ModuleList\n",
    "import numpy as np\n",
    "import random\n",
    "from tqdm import tqdm\n",
    "\n",
    "import torch\n",
    "import torch_frame\n",
    "from torch_frame.data import Dataset\n",
    "from torch_frame.data import DataLoader\n",
    "from torch_frame import TensorFrame, stype\n",
    "from torch_frame.data.stats import StatType\n",
    "from torch_frame.nn.conv import TabTransformerConv, FTTransformerConvs\n",
    "from torch_frame.nn.encoder import (\n",
    "    EmbeddingEncoder,\n",
    "    LinearEncoder,\n",
    "    StypeWiseFeatureEncoder,\n",
    "    MultiCategoricalEmbeddingEncoder,\n",
    "    TimestampEncoder,\n",
    ")\n",
    "pd.set_option('display.max_rows', 500)\n",
    "pd.set_option('display.max_columns', 500)"
   ]
  },
  {
   "cell_type": "code",
   "execution_count": 4,
   "id": "f33adbd9-8bf1-4a8a-8f94-f0bb50e9c1b5",
   "metadata": {},
   "outputs": [
    {
     "data": {
      "text/html": [
       "<div>\n",
       "<style scoped>\n",
       "    .dataframe tbody tr th:only-of-type {\n",
       "        vertical-align: middle;\n",
       "    }\n",
       "\n",
       "    .dataframe tbody tr th {\n",
       "        vertical-align: top;\n",
       "    }\n",
       "\n",
       "    .dataframe thead th {\n",
       "        text-align: right;\n",
       "    }\n",
       "</style>\n",
       "<table border=\"1\" class=\"dataframe\">\n",
       "  <thead>\n",
       "    <tr style=\"text-align: right;\">\n",
       "      <th></th>\n",
       "      <th>address</th>\n",
       "      <th>LON</th>\n",
       "      <th>LAT</th>\n",
       "      <th>building_sqft</th>\n",
       "      <th>Lot Size</th>\n",
       "      <th>Year Built</th>\n",
       "      <th>Garage Number</th>\n",
       "      <th>Bedrooms</th>\n",
       "      <th>Baths</th>\n",
       "      <th>Maintenance Fee</th>\n",
       "      <th>Tax Rate</th>\n",
       "      <th>Recent Market Value</th>\n",
       "      <th>Recent Tax Value</th>\n",
       "      <th>status</th>\n",
       "      <th>Property Type</th>\n",
       "      <th>County</th>\n",
       "      <th>Private Pool</th>\n",
       "      <th>Area Pool</th>\n",
       "      <th>date</th>\n",
       "      <th>Foundation_multiclass</th>\n",
       "      <th>Garage Types_multiclass</th>\n",
       "      <th>Roof Type_multiclass</th>\n",
       "      <th>Pool_feature_multiclass</th>\n",
       "      <th>floor_type_multiclass</th>\n",
       "      <th>finance_option_multiclass</th>\n",
       "      <th>Exterior Type_multiclass</th>\n",
       "      <th>Style_multiclass</th>\n",
       "      <th>price</th>\n",
       "      <th>elementary_school_star</th>\n",
       "      <th>middle_school_star</th>\n",
       "      <th>high_school_star</th>\n",
       "      <th>school_names</th>\n",
       "      <th>school_grades</th>\n",
       "      <th>school_org</th>\n",
       "    </tr>\n",
       "  </thead>\n",
       "  <tbody>\n",
       "    <tr>\n",
       "      <th>0</th>\n",
       "      <td>4513 Refugio Dr, Plano, TX 75024</td>\n",
       "      <td>-96.782005</td>\n",
       "      <td>33.102204</td>\n",
       "      <td>3395.0</td>\n",
       "      <td>429.0</td>\n",
       "      <td>2023.0</td>\n",
       "      <td>2.0</td>\n",
       "      <td>4.0</td>\n",
       "      <td>3.5</td>\n",
       "      <td>65.083333</td>\n",
       "      <td>1.864</td>\n",
       "      <td>157533.0</td>\n",
       "      <td>157533.0</td>\n",
       "      <td>Under Contract - P</td>\n",
       "      <td>single family</td>\n",
       "      <td>Collin County</td>\n",
       "      <td>No</td>\n",
       "      <td>None</td>\n",
       "      <td>2023-11-05</td>\n",
       "      <td>[Slab]</td>\n",
       "      <td>[Attached]</td>\n",
       "      <td>[composition]</td>\n",
       "      <td>None</td>\n",
       "      <td>[carpet, ceramic tile, wood]</td>\n",
       "      <td>None</td>\n",
       "      <td>[brick, rock/stone]</td>\n",
       "      <td>[traditional]</td>\n",
       "      <td>789990.0</td>\n",
       "      <td>5.0</td>\n",
       "      <td>5.0</td>\n",
       "      <td>NaN</td>\n",
       "      <td>[Borchardt Elementary School Elementary, Fowle...</td>\n",
       "      <td>[KG - 05, 06 - 08]</td>\n",
       "      <td>[FRISCO ISD]</td>\n",
       "    </tr>\n",
       "    <tr>\n",
       "      <th>1</th>\n",
       "      <td>1516 Bay Area Blvd P12, Houston, TX 77058</td>\n",
       "      <td>-95.114098</td>\n",
       "      <td>29.562197</td>\n",
       "      <td>684.0</td>\n",
       "      <td>31348.0</td>\n",
       "      <td>1977.0</td>\n",
       "      <td>NaN</td>\n",
       "      <td>1.0</td>\n",
       "      <td>1.0</td>\n",
       "      <td>272.000000</td>\n",
       "      <td>2.444</td>\n",
       "      <td>69024.0</td>\n",
       "      <td>47052.0</td>\n",
       "      <td>Under Contract - PS</td>\n",
       "      <td>townhouse/condo</td>\n",
       "      <td>Harris County</td>\n",
       "      <td>No</td>\n",
       "      <td>Yes</td>\n",
       "      <td>2023-11-05</td>\n",
       "      <td>[Slab]</td>\n",
       "      <td>None</td>\n",
       "      <td>[composition]</td>\n",
       "      <td>None</td>\n",
       "      <td>[tile, vinyl]</td>\n",
       "      <td>[cash, conventional, fha, investor, va]</td>\n",
       "      <td>[brick, stucco]</td>\n",
       "      <td>[traditional]</td>\n",
       "      <td>79900.0</td>\n",
       "      <td>4.0</td>\n",
       "      <td>NaN</td>\n",
       "      <td>5.0</td>\n",
       "      <td>[Falcon Pass Elementary School Elementary, Spa...</td>\n",
       "      <td>[EE - 05, 06 - 08, 09 - 12]</td>\n",
       "      <td>[CLEAR CREEK ISD]</td>\n",
       "    </tr>\n",
       "    <tr>\n",
       "      <th>2</th>\n",
       "      <td>1717 San Sebastian Ln, Houston, TX 77058</td>\n",
       "      <td>-95.090845</td>\n",
       "      <td>29.544959</td>\n",
       "      <td>1280.0</td>\n",
       "      <td>12058.0</td>\n",
       "      <td>1975.0</td>\n",
       "      <td>NaN</td>\n",
       "      <td>2.0</td>\n",
       "      <td>2.5</td>\n",
       "      <td>530.000000</td>\n",
       "      <td>2.299</td>\n",
       "      <td>168461.0</td>\n",
       "      <td>168461.0</td>\n",
       "      <td>Under Contract - P</td>\n",
       "      <td>townhouse/condo</td>\n",
       "      <td>Harris County</td>\n",
       "      <td>No</td>\n",
       "      <td>Yes</td>\n",
       "      <td>2023-11-05</td>\n",
       "      <td>[Slab]</td>\n",
       "      <td>None</td>\n",
       "      <td>[composition]</td>\n",
       "      <td>None</td>\n",
       "      <td>[carpet, laminate]</td>\n",
       "      <td>[cash, conventional, fha, va]</td>\n",
       "      <td>[brick, cement board, wood]</td>\n",
       "      <td>[other, traditional]</td>\n",
       "      <td>189000.0</td>\n",
       "      <td>NaN</td>\n",
       "      <td>NaN</td>\n",
       "      <td>4.0</td>\n",
       "      <td>[G W Robinson Elementary, Space Center Interme...</td>\n",
       "      <td>[KG - 05, 06 - 08, 09 - 12]</td>\n",
       "      <td>[CLEAR CREEK ISD]</td>\n",
       "    </tr>\n",
       "  </tbody>\n",
       "</table>\n",
       "</div>"
      ],
      "text/plain": [
       "                                     address        LON        LAT  \\\n",
       "0           4513 Refugio Dr, Plano, TX 75024 -96.782005  33.102204   \n",
       "1  1516 Bay Area Blvd P12, Houston, TX 77058 -95.114098  29.562197   \n",
       "2   1717 San Sebastian Ln, Houston, TX 77058 -95.090845  29.544959   \n",
       "\n",
       "   building_sqft  Lot Size  Year Built  Garage Number  Bedrooms  Baths  \\\n",
       "0         3395.0     429.0      2023.0            2.0       4.0    3.5   \n",
       "1          684.0   31348.0      1977.0            NaN       1.0    1.0   \n",
       "2         1280.0   12058.0      1975.0            NaN       2.0    2.5   \n",
       "\n",
       "   Maintenance Fee  Tax Rate  Recent Market Value  Recent Tax Value  \\\n",
       "0        65.083333     1.864             157533.0          157533.0   \n",
       "1       272.000000     2.444              69024.0           47052.0   \n",
       "2       530.000000     2.299             168461.0          168461.0   \n",
       "\n",
       "                status    Property Type         County Private Pool Area Pool  \\\n",
       "0   Under Contract - P    single family  Collin County           No      None   \n",
       "1  Under Contract - PS  townhouse/condo  Harris County           No       Yes   \n",
       "2   Under Contract - P  townhouse/condo  Harris County           No       Yes   \n",
       "\n",
       "        date Foundation_multiclass Garage Types_multiclass  \\\n",
       "0 2023-11-05                [Slab]              [Attached]   \n",
       "1 2023-11-05                [Slab]                    None   \n",
       "2 2023-11-05                [Slab]                    None   \n",
       "\n",
       "  Roof Type_multiclass Pool_feature_multiclass         floor_type_multiclass  \\\n",
       "0        [composition]                    None  [carpet, ceramic tile, wood]   \n",
       "1        [composition]                    None                 [tile, vinyl]   \n",
       "2        [composition]                    None            [carpet, laminate]   \n",
       "\n",
       "                 finance_option_multiclass     Exterior Type_multiclass  \\\n",
       "0                                     None          [brick, rock/stone]   \n",
       "1  [cash, conventional, fha, investor, va]              [brick, stucco]   \n",
       "2            [cash, conventional, fha, va]  [brick, cement board, wood]   \n",
       "\n",
       "       Style_multiclass     price  elementary_school_star  middle_school_star  \\\n",
       "0         [traditional]  789990.0                     5.0                 5.0   \n",
       "1         [traditional]   79900.0                     4.0                 NaN   \n",
       "2  [other, traditional]  189000.0                     NaN                 NaN   \n",
       "\n",
       "   high_school_star                                       school_names  \\\n",
       "0               NaN  [Borchardt Elementary School Elementary, Fowle...   \n",
       "1               5.0  [Falcon Pass Elementary School Elementary, Spa...   \n",
       "2               4.0  [G W Robinson Elementary, Space Center Interme...   \n",
       "\n",
       "                 school_grades         school_org  \n",
       "0           [KG - 05, 06 - 08]       [FRISCO ISD]  \n",
       "1  [EE - 05, 06 - 08, 09 - 12]  [CLEAR CREEK ISD]  \n",
       "2  [KG - 05, 06 - 08, 09 - 12]  [CLEAR CREEK ISD]  "
      ]
     },
     "execution_count": 4,
     "metadata": {},
     "output_type": "execute_result"
    }
   ],
   "source": [
    "target = \"price\"\n",
    "dense_features = [\"LON\", \n",
    "                  \"LAT\", \n",
    "                  \"building_sqft\", \n",
    "                  \"Lot Size\", \n",
    "                  \"Year Built\", \n",
    "                  \"Garage Number\", \n",
    "                  \"Bedrooms\", \n",
    "                  \"Baths\", \n",
    "                  \"Maintenance Fee\", \n",
    "                  \"Tax Rate\", \n",
    "                  \"Recent Market Value\", \"Recent Tax Value\"]\n",
    "cate = [\"status\", \"Property Type\", \"County\", \"Private Pool\", \"Area Pool\", \"address\"]\n",
    "time_col = [\"date\"]\n",
    "cate_multi = [\"Foundation_multiclass\", \"Garage Types_multiclass\", \n",
    "              \"Roof Type_multiclass\", \"Pool_feature_multiclass\", \"floor_type_multiclass\", \n",
    "              \"finance_option_multiclass\", \"Exterior Type_multiclass\", \"Style_multiclass\"]\n",
    "\n",
    "raw_df = pd.read_pickle(\"../data/property_structured_v2.pkl\").reset_index(drop=True)\n",
    "raw_df[\"date\"] = raw_df[\"date\"].apply(lambda x: x.replace(\"_\", \"-\"))\n",
    "raw_df[\"date\"] = pd.to_datetime(raw_df[\"date\"])\n",
    "raw_df.head(3)"
   ]
  },
  {
   "cell_type": "code",
   "execution_count": 5,
   "id": "a0527991-0183-4604-921e-496c4d9a5336",
   "metadata": {},
   "outputs": [
    {
     "data": {
      "text/plain": [
       "219217"
      ]
     },
     "execution_count": 5,
     "metadata": {},
     "output_type": "execute_result"
    }
   ],
   "source": [
    "len(raw_df)"
   ]
  },
  {
   "cell_type": "code",
   "execution_count": 6,
   "id": "68773b6d-78c7-4629-903c-394bc690f8ab",
   "metadata": {},
   "outputs": [],
   "source": [
    "raw_df = raw_df[dense_features + cate + cate_multi + time_col + [target]]\n",
    "\n",
    "for col in cate_multi:\n",
    "    raw_df[col] = raw_df[col].apply(lambda d: d if isinstance(d, list) else [])\n",
    "\n",
    "col_to_stype = {}\n",
    "col_to_stype = {d: stype.numerical for d in dense_features}\n",
    "col_to_stype.update({target: stype.numerical})\n",
    "col_to_stype.update({d: stype.timestamp for d in time_col})\n",
    "col_to_stype.update({d: stype.categorical for d in cate})\n",
    "col_to_stype.update({d: stype.multicategorical for d in cate_multi})"
   ]
  },
  {
   "cell_type": "code",
   "execution_count": 7,
   "id": "84f891d7-482c-420d-822b-aa305ce29b46",
   "metadata": {},
   "outputs": [
    {
     "data": {
      "text/plain": [
       "(28,\n",
       " 28,\n",
       " {'LON': <stype.numerical: 'numerical'>,\n",
       "  'LAT': <stype.numerical: 'numerical'>,\n",
       "  'building_sqft': <stype.numerical: 'numerical'>,\n",
       "  'Lot Size': <stype.numerical: 'numerical'>,\n",
       "  'Year Built': <stype.numerical: 'numerical'>,\n",
       "  'Garage Number': <stype.numerical: 'numerical'>,\n",
       "  'Bedrooms': <stype.numerical: 'numerical'>,\n",
       "  'Baths': <stype.numerical: 'numerical'>,\n",
       "  'Maintenance Fee': <stype.numerical: 'numerical'>,\n",
       "  'Tax Rate': <stype.numerical: 'numerical'>,\n",
       "  'Recent Market Value': <stype.numerical: 'numerical'>,\n",
       "  'Recent Tax Value': <stype.numerical: 'numerical'>,\n",
       "  'price': <stype.numerical: 'numerical'>,\n",
       "  'date': <stype.timestamp: 'timestamp'>,\n",
       "  'status': <stype.categorical: 'categorical'>,\n",
       "  'Property Type': <stype.categorical: 'categorical'>,\n",
       "  'County': <stype.categorical: 'categorical'>,\n",
       "  'Private Pool': <stype.categorical: 'categorical'>,\n",
       "  'Area Pool': <stype.categorical: 'categorical'>,\n",
       "  'address': <stype.categorical: 'categorical'>,\n",
       "  'Foundation_multiclass': <stype.multicategorical: 'multicategorical'>,\n",
       "  'Garage Types_multiclass': <stype.multicategorical: 'multicategorical'>,\n",
       "  'Roof Type_multiclass': <stype.multicategorical: 'multicategorical'>,\n",
       "  'Pool_feature_multiclass': <stype.multicategorical: 'multicategorical'>,\n",
       "  'floor_type_multiclass': <stype.multicategorical: 'multicategorical'>,\n",
       "  'finance_option_multiclass': <stype.multicategorical: 'multicategorical'>,\n",
       "  'Exterior Type_multiclass': <stype.multicategorical: 'multicategorical'>,\n",
       "  'Style_multiclass': <stype.multicategorical: 'multicategorical'>})"
      ]
     },
     "execution_count": 7,
     "metadata": {},
     "output_type": "execute_result"
    }
   ],
   "source": [
    "len(raw_df.columns), len(col_to_stype), col_to_stype"
   ]
  },
  {
   "cell_type": "code",
   "execution_count": 8,
   "id": "c5b551bf-e1e6-4464-a710-70601a101189",
   "metadata": {},
   "outputs": [
    {
     "data": {
      "text/plain": [
       "Dataset()"
      ]
     },
     "execution_count": 8,
     "metadata": {},
     "output_type": "execute_result"
    }
   ],
   "source": [
    "dataset = Dataset(\n",
    "    raw_df, \n",
    "    col_to_stype=col_to_stype,\n",
    "    target_col=\"price\"\n",
    ")\n",
    "dataset.materialize()"
   ]
  },
  {
   "cell_type": "code",
   "execution_count": 9,
   "id": "db0ac7e5-a05d-4b9a-ad26-a41559f8fa38",
   "metadata": {},
   "outputs": [
    {
     "data": {
      "text/plain": [
       "Dataset()"
      ]
     },
     "execution_count": 9,
     "metadata": {},
     "output_type": "execute_result"
    }
   ],
   "source": [
    "torch.manual_seed(10)\n",
    "dataset.shuffle()"
   ]
  },
  {
   "cell_type": "code",
   "execution_count": 10,
   "id": "f8689d91-3fee-4521-8de0-bd842cb3a50f",
   "metadata": {},
   "outputs": [
    {
     "data": {
      "text/plain": [
       "device(type='cpu')"
      ]
     },
     "execution_count": 10,
     "metadata": {},
     "output_type": "execute_result"
    }
   ],
   "source": [
    "train_dataset, test_dataset = dataset[:0.8], dataset[0.80:]\n",
    "train_tf = train_dataset.tensor_frame\n",
    "train_tf.device"
   ]
  },
  {
   "cell_type": "code",
   "execution_count": 11,
   "id": "7a7aacfc-e5ac-4cd5-94ad-ecb5a61284b0",
   "metadata": {},
   "outputs": [
    {
     "data": {
      "text/plain": [
       "TensorFrame(\n",
       "  num_cols=27,\n",
       "  num_rows=43843,\n",
       "  numerical (12): ['Baths', 'Bedrooms', 'Garage Number', 'LAT', 'LON', 'Lot Size', 'Maintenance Fee', 'Recent Market Value', 'Recent Tax Value', 'Tax Rate', 'Year Built', 'building_sqft'],\n",
       "  timestamp (1): ['date'],\n",
       "  categorical (6): ['Area Pool', 'County', 'Private Pool', 'Property Type', 'address', 'status'],\n",
       "  multicategorical (8): ['Exterior Type_multiclass', 'Foundation_multiclass', 'Garage Types_multiclass', 'Pool_feature_multiclass', 'Roof Type_multiclass', 'Style_multiclass', 'finance_option_multiclass', 'floor_type_multiclass'],\n",
       "  has_target=True,\n",
       "  device='cpu',\n",
       ")"
      ]
     },
     "execution_count": 11,
     "metadata": {},
     "output_type": "execute_result"
    }
   ],
   "source": [
    "test_dataset.tensor_frame"
   ]
  },
  {
   "cell_type": "code",
   "execution_count": 14,
   "id": "ba88d028-79d6-4145-b3c1-a9d7a194e350",
   "metadata": {},
   "outputs": [],
   "source": [
    "address_tensor = test_dataset.tensor_frame.feat_dict[stype.categorical][:, 4]"
   ]
  },
  {
   "cell_type": "code",
   "execution_count": 15,
   "id": "48473065-45f4-41fe-9399-8b350a617d8c",
   "metadata": {},
   "outputs": [
    {
     "data": {
      "text/plain": [
       "43843"
      ]
     },
     "execution_count": 15,
     "metadata": {},
     "output_type": "execute_result"
    }
   ],
   "source": [
    "len(test_dataset)"
   ]
  },
  {
   "cell_type": "code",
   "execution_count": 16,
   "id": "8a19437e-c028-4ed2-b8b0-fc1fefa7e6ef",
   "metadata": {},
   "outputs": [],
   "source": [
    "test_addresses = test_dataset._to_tensor_frame_converter._get_mapper(\"address\").backward(address_tensor)\n",
    "np.save(\"../data/val_address.npy\", test_addresses.values)"
   ]
  },
  {
   "cell_type": "code",
   "execution_count": 164,
   "id": "cac9eeca-804b-4178-b0ec-73b7e1e7d358",
   "metadata": {},
   "outputs": [],
   "source": [
    "# test_dataset.tensor_frame.feat_dict[stype.numerical][0:10]"
   ]
  },
  {
   "cell_type": "code",
   "execution_count": 198,
   "id": "ba28ebae-f133-4259-b84d-19a48411ebda",
   "metadata": {},
   "outputs": [],
   "source": [
    "raw_df = pd.read_pickle(\"../data/property_structured.pkl\").reset_index(drop=True)\n",
    "raw_df[\"date\"] = raw_df[\"date\"].apply(lambda x: x.replace(\"_\", \"-\"))\n",
    "raw_df[\"date\"] = pd.to_datetime(raw_df[\"date\"])"
   ]
  },
  {
   "cell_type": "code",
   "execution_count": 199,
   "id": "f0bf7cb9-0f31-400a-8eef-aac770df8db1",
   "metadata": {},
   "outputs": [],
   "source": [
    "def generate_key1(x):\n",
    "    return \",\".join([\"%0.4f\"%(_) for _ in x])\n",
    "raw_df[\"key1\"] = raw_df[dense_features].apply(lambda x: generate_key1(x.values), axis=1)"
   ]
  },
  {
   "cell_type": "code",
   "execution_count": 200,
   "id": "773eb3c2-3030-4f6e-8be0-254b1722de63",
   "metadata": {},
   "outputs": [],
   "source": [
    "def generate_key2(x):\n",
    "    return \",\".join([_ if _ is not None else \"None\" for _ in x])\n",
    "raw_df[\"key2\"] = raw_df[cate].apply(lambda x: generate_key2(x.values), axis=1)"
   ]
  },
  {
   "cell_type": "code",
   "execution_count": 201,
   "id": "eb068414-05d1-408a-84ea-aa4c6d2b98d8",
   "metadata": {},
   "outputs": [],
   "source": [
    "def generate_key3(x):\n",
    "    return \",\".join([\",\".join(_) if _ is not None else \"None\" for _ in x])\n",
    "raw_df[\"key3\"] = raw_df[cate_multi].apply(lambda x: generate_key3(x.values), axis=1)"
   ]
  },
  {
   "cell_type": "code",
   "execution_count": 202,
   "id": "9602e8db-e539-4ca7-be62-2b1ffb952307",
   "metadata": {},
   "outputs": [],
   "source": [
    "raw_df[\"key\"] = raw_df.apply(lambda x: x[\"key1\"] + x[\"key2\"] + x[\"key3\"], axis=1)"
   ]
  },
  {
   "cell_type": "code",
   "execution_count": 204,
   "id": "075cd1f5-d35a-4c8a-a867-c231e8901c19",
   "metadata": {},
   "outputs": [
    {
     "name": "stdout",
     "output_type": "stream",
     "text": [
      "0\n"
     ]
    },
    {
     "data": {
      "text/plain": [
       "Series([], Name: LAT, dtype: int64)"
      ]
     },
     "execution_count": 204,
     "metadata": {},
     "output_type": "execute_result"
    }
   ],
   "source": [
    "tem = raw_df.groupby(\"key\").count()[\"LAT\"]\n",
    "print(np.sum(tem[tem > 1].sort_values().values))\n",
    "tem[tem > 1].sort_values()\n",
    "\n",
    "# key = \"-84.2700,37.8393,5076.0000,1267.0000,2024.0000,3.0000,5.0000,5.5000,102.5000,3.5200,nan,nanUnder Contract - P,single family,Harris County,No,YesSlab,Attached,Oversized,Tandem,composition,None,carpet,tile,cash,conventional,brick,other,traditional\"\n",
    "# raw_df[raw_df[\"key\"] == key][\"address\"].values"
   ]
  },
  {
   "cell_type": "code",
   "execution_count": 192,
   "id": "90dabc3c-c22c-4bbf-a197-05d542d13f77",
   "metadata": {},
   "outputs": [],
   "source": [
    "def process_address(b):\n",
    "    return \", \".join([_.strip(\" \") for _ in b.split(\"   \") if len(_.strip(\" \")) > 0])\n",
    "raw_df[\"address3\"] = raw_df[\"address\"].apply(lambda x: process_address(x))"
   ]
  },
  {
   "cell_type": "code",
   "execution_count": 193,
   "id": "e42105ae-05c1-47da-9ce8-2ac41e5483ba",
   "metadata": {},
   "outputs": [
    {
     "data": {
      "text/plain": [
       "(219217, 220306)"
      ]
     },
     "execution_count": 193,
     "metadata": {},
     "output_type": "execute_result"
    }
   ],
   "source": [
    "raw_df[\"address3\"].nunique(), len(raw_df)"
   ]
  },
  {
   "cell_type": "code",
   "execution_count": 191,
   "id": "e12865f4-f3c9-456b-89eb-b8182b36376f",
   "metadata": {},
   "outputs": [
    {
     "data": {
      "text/plain": [
       "('22206 Kentucky Blue Grass Ln, Cypress, TX 77433',\n",
       " '22206 Kentucky Blue Grass Ln, Cypress, TX 77433')"
      ]
     },
     "execution_count": 191,
     "metadata": {},
     "output_type": "execute_result"
    }
   ],
   "source": [
    "a = ' 22206 Kentucky Blue Grass Ln, Cypress, TX 77433,  '\n",
    "b = ' 22206 Kentucky Blue Grass Ln                            Cypress, TX 77433 '\n",
    "a.strip(\" ,\"), \", \".join([_.strip(\" \") for _ in b.split(\"   \") if len(_.strip(\" \")) > 0])"
   ]
  },
  {
   "cell_type": "code",
   "execution_count": 139,
   "id": "f2470e4c-f9d0-478b-b783-00fcb4aac9e8",
   "metadata": {},
   "outputs": [
    {
     "data": {
      "text/plain": [
       "'22206 Kentucky Blue Grass Ln, Cypress, TX 77433'"
      ]
     },
     "execution_count": 139,
     "metadata": {},
     "output_type": "execute_result"
    }
   ],
   "source": [
    "' 22206 Kentucky Blue Grass Ln, Cypress, TX 77433,  '.strip(\" ,\")"
   ]
  },
  {
   "cell_type": "code",
   "execution_count": 31,
   "id": "1c8c46e5-885d-4f22-adf2-d897de9bb04e",
   "metadata": {},
   "outputs": [
    {
     "data": {
      "text/plain": [
       "{<stype.numerical: 'numerical'>: tensor([[ 3.5000e+00,  4.0000e+00,  2.0000e+00,  3.3102e+01, -9.6782e+01,\n",
       "           4.2900e+02,  6.5083e+01,  1.5753e+05,  1.5753e+05,  1.8640e+00,\n",
       "           2.0230e+03,  3.3950e+03]]),\n",
       " <stype.categorical: 'categorical'>: tensor([[-1,  3,  0,  0,  0]]),\n",
       " <stype.multicategorical: 'multicategorical'>: MultiNestedTensor(num_rows=1, num_cols=8, device='cpu')}"
      ]
     },
     "execution_count": 31,
     "metadata": {},
     "output_type": "execute_result"
    }
   ],
   "source": [
    "train_tf = train_dataset.tensor_frame\n",
    "train_tf[0].feat_dict"
   ]
  },
  {
   "cell_type": "code",
   "execution_count": 32,
   "id": "81a3f42a-285d-4cba-86a0-7688b663da1b",
   "metadata": {},
   "outputs": [
    {
     "data": {
      "text/plain": [
       "(193522, 48381)"
      ]
     },
     "execution_count": 32,
     "metadata": {},
     "output_type": "execute_result"
    }
   ],
   "source": [
    "len(train_dataset), len(test_dataset)"
   ]
  },
  {
   "cell_type": "code",
   "execution_count": 33,
   "id": "1b1579e8-16f5-4613-8c5b-2855c4085b48",
   "metadata": {},
   "outputs": [],
   "source": [
    "stype_encoder_dict = {\n",
    "    stype.categorical: EmbeddingEncoder(),\n",
    "    stype.numerical: LinearEncoder(),\n",
    "    stype.multicategorical: MultiCategoricalEmbeddingEncoder(),\n",
    "}"
   ]
  },
  {
   "cell_type": "code",
   "execution_count": 57,
   "id": "6900c56a-6e65-44d0-8f73-4633e543f3c0",
   "metadata": {},
   "outputs": [],
   "source": [
    "train_loader = DataLoader(train_dataset.tensor_frame, batch_size=1024,\n",
    "                        shuffle=True)\n",
    "test_loader = DataLoader(test_dataset.tensor_frame, batch_size=2048)"
   ]
  },
  {
   "cell_type": "code",
   "execution_count": 61,
   "id": "1b153868-eaf6-4e9f-8590-0963bff5ef3a",
   "metadata": {},
   "outputs": [
    {
     "data": {
      "text/plain": [
       "(device(type='cuda', index=0), device(type='cuda', index=0))"
      ]
     },
     "execution_count": 61,
     "metadata": {},
     "output_type": "execute_result"
    }
   ],
   "source": [
    "tf = next(iter(train_loader))\n",
    "train_dataset.tensor_frame.device, tf.device"
   ]
  },
  {
   "cell_type": "code",
   "execution_count": 35,
   "id": "fbad7799-5645-46f6-8d9b-473fff0a42c6",
   "metadata": {},
   "outputs": [],
   "source": [
    "class ExampleTransformer2(Module):\n",
    "    def __init__(\n",
    "        self,\n",
    "        channels: int,\n",
    "        out_channels: int,\n",
    "        num_layers: int,\n",
    "        num_heads: int,\n",
    "        col_stats: Dict[str, Dict[StatType, Any]],\n",
    "        col_names_dict: Dict[torch_frame.stype, List[str]],\n",
    "    ):\n",
    "        super().__init__()\n",
    "        self.encoder = StypeWiseFeatureEncoder(\n",
    "            out_channels=channels,\n",
    "            col_stats=col_stats,\n",
    "            col_names_dict=col_names_dict,\n",
    "            stype_encoder_dict={\n",
    "                stype.categorical: EmbeddingEncoder(),\n",
    "                stype.numerical: LinearEncoder(), \n",
    "                stype.multicategorical: MultiCategoricalEmbeddingEncoder(),\n",
    "            },\n",
    "        )\n",
    "        \n",
    "        self.ftt_transformer_conv = FTTransformerConvs(channels=channels,\n",
    "                                                       num_layers=num_layers,\n",
    "                                                       nhead=num_heads)\n",
    "        self.decoder = Linear(channels, out_channels)\n",
    "\n",
    "    def forward(self, tf: TensorFrame) -> Tensor:\n",
    "        x, _ = self.encoder(tf)\n",
    "        _, x = self.ftt_transformer_conv(x)\n",
    "        out = self.decoder(x).squeeze()\n",
    "        return out"
   ]
  },
  {
   "cell_type": "code",
   "execution_count": 36,
   "id": "08a0977b-0db8-49f5-8195-305497161ad2",
   "metadata": {},
   "outputs": [],
   "source": [
    "class VanillaTransformer(Module):\n",
    "    def __init__(\n",
    "        self,\n",
    "        channels: int,\n",
    "        out_channels: int,\n",
    "        num_layers: int,\n",
    "        num_heads: int,\n",
    "        col_stats: Dict[str, Dict[StatType, Any]],\n",
    "        col_names_dict: Dict[torch_frame.stype, List[str]],\n",
    "    ):\n",
    "        super().__init__()\n",
    "        self.encoder = StypeWiseFeatureEncoder(\n",
    "            out_channels=channels,\n",
    "            col_stats=col_stats,\n",
    "            col_names_dict=col_names_dict,\n",
    "            stype_encoder_dict={\n",
    "                stype.categorical: EmbeddingEncoder(),\n",
    "                stype.numerical: LinearEncoder(), \n",
    "                stype.multicategorical: MultiCategoricalEmbeddingEncoder(),\n",
    "            },\n",
    "        )\n",
    "        self.tab_transformer_convs = ModuleList([\n",
    "            TabTransformerConv(\n",
    "                channels=channels,\n",
    "                num_heads=num_heads,\n",
    "            ) for _ in range(num_layers)\n",
    "        ])\n",
    "        self.decoder = Linear(channels, out_channels)\n",
    "\n",
    "    def forward(self, tf: TensorFrame) -> Tensor:\n",
    "        x, _ = self.encoder(tf)\n",
    "        for tab_transformer_conv in self.tab_transformer_convs:\n",
    "            x = tab_transformer_conv(x)\n",
    "        out = self.decoder(x.mean(dim=1))\n",
    "        return out"
   ]
  },
  {
   "cell_type": "code",
   "execution_count": 78,
   "id": "7611cc6c-f88c-40fa-be6e-d4404ad432f4",
   "metadata": {},
   "outputs": [],
   "source": [
    "import torch\n",
    "import torch.nn.functional as F\n",
    "from torch.nn import MSELoss, L1Loss\n",
    "\n",
    "device = torch.device('cuda' if torch.cuda.is_available() else 'cpu')\n",
    "print(device)\n",
    "model = VanillaTransformer(\n",
    "    channels=256,\n",
    "    out_channels=1,\n",
    "    num_layers=4,\n",
    "    num_heads=4,\n",
    "    col_stats=train_dataset.col_stats,\n",
    "    col_names_dict=train_dataset.tensor_frame.col_names_dict,\n",
    ").to(device)\n",
    "\n",
    "lr = 0.0001\n",
    "\n",
    "optimizer = torch.optim.Adam(model.parameters(), lr=lr)\n",
    "mse_loss = MSELoss()\n",
    "mae_loss = L1Loss()\n",
    "\n",
    "for epoch in range(200):\n",
    "    error = []\n",
    "    for tf in iter(train_loader):\n",
    "        tf = tf.to(device)\n",
    "        pred = model(tf)\n",
    "        loss = mse_loss(pred, tf.y)\n",
    "        optimizer.zero_grad()\n",
    "        loss.backward()\n",
    "        optimizer.step()\n",
    "        error.append(loss.item())\n",
    "        print(\"loss %0.2e\"%(np.sqrt(loss.item())), end=\"\\r\")\n",
    "    if epoch % 4 == 0:\n",
    "        print(\"Epoch %i %0.2e\"%(epoch, np.sqrt(np.mean(error))))"
   ]
  },
  {
   "cell_type": "code",
   "execution_count": 81,
   "id": "a41241a3-455f-45c3-b535-24ddd196b290",
   "metadata": {},
   "outputs": [
    {
     "data": {
      "text/plain": [
       "193522"
      ]
     },
     "execution_count": 81,
     "metadata": {},
     "output_type": "execute_result"
    }
   ],
   "source": [
    "len(train_dataset)"
   ]
  },
  {
   "cell_type": "code",
   "execution_count": 77,
   "id": "9b07cbdb-fd05-4ef0-beea-6f633ccc83db",
   "metadata": {},
   "outputs": [],
   "source": [
    "# model(tf)"
   ]
  },
  {
   "cell_type": "code",
   "execution_count": 46,
   "id": "cd9468f8-62f5-4448-b155-cb6eae78d437",
   "metadata": {},
   "outputs": [
    {
     "data": {
      "text/plain": [
       "device(type='cuda', index=0)"
      ]
     },
     "execution_count": 46,
     "metadata": {},
     "output_type": "execute_result"
    }
   ],
   "source": [
    "tf = tf.to(device)\n",
    "tf.device"
   ]
  },
  {
   "cell_type": "code",
   "execution_count": null,
   "id": "15e36f62-d311-4c07-afc3-bccecaf6e4a6",
   "metadata": {},
   "outputs": [],
   "source": [
    "model.eval()\n",
    "error = []\n",
    "for tf in test_loader:\n",
    "    tf = tf.to(device)\n",
    "    pred = model(tf)\n",
    "    loss = mae_loss(pred, tf.y)\n",
    "    error.append(loss.item())\n",
    "print(\"Test MAE %0.2e\"%(np.mean(error)))\n",
    "    \n",
    "# print(f'Accuracy: {acc:.4f}')"
   ]
  },
  {
   "cell_type": "code",
   "execution_count": 8,
   "id": "a5bc5d4c-23fd-4152-8815-6e001c4b2ac1",
   "metadata": {},
   "outputs": [],
   "source": [
    "time = pd.date_range(start='2023-01-01', periods=100, freq='D')"
   ]
  },
  {
   "cell_type": "code",
   "execution_count": 13,
   "id": "517106d2-2c6a-4e83-a0b3-7daac847c480",
   "metadata": {},
   "outputs": [],
   "source": [
    "raw_df[\"date\"] = raw_df[\"date\"].apply(lambda x: x.replace(\"_\", \"-\"))"
   ]
  },
  {
   "cell_type": "code",
   "execution_count": 14,
   "id": "fdb72c64-b560-44dc-927c-2ca1c60906d3",
   "metadata": {},
   "outputs": [
    {
     "data": {
      "text/plain": [
       "0        2023-11-05\n",
       "1        2023-11-05\n",
       "2        2023-11-05\n",
       "3        2023-11-05\n",
       "4        2023-11-05\n",
       "            ...    \n",
       "241898   2024-11-16\n",
       "241899   2024-11-16\n",
       "241900   2024-11-16\n",
       "241901   2024-11-16\n",
       "241902   2024-11-16\n",
       "Name: date, Length: 241903, dtype: datetime64[ns]"
      ]
     },
     "execution_count": 14,
     "metadata": {},
     "output_type": "execute_result"
    }
   ],
   "source": [
    "pd.to_datetime(raw_df[\"date\"])"
   ]
  },
  {
   "cell_type": "code",
   "execution_count": null,
   "id": "0690f1b3-6d50-46d7-9a1b-d56b03b1aeba",
   "metadata": {},
   "outputs": [],
   "source": []
  }
 ],
 "metadata": {
  "kernelspec": {
   "display_name": "Python 3 (ipykernel)",
   "language": "python",
   "name": "python3"
  },
  "language_info": {
   "codemirror_mode": {
    "name": "ipython",
    "version": 3
   },
   "file_extension": ".py",
   "mimetype": "text/x-python",
   "name": "python",
   "nbconvert_exporter": "python",
   "pygments_lexer": "ipython3",
   "version": "3.10.9"
  }
 },
 "nbformat": 4,
 "nbformat_minor": 5
}
